{
  "cells": [
    {
      "cell_type": "markdown",
      "metadata": {
        "id": "view-in-github",
        "colab_type": "text"
      },
      "source": [
        "<a href=\"https://colab.research.google.com/github/Chohyungun/Chohyungun/blob/main/%EB%8D%B0%EC%9D%B4%EC%BD%98_%EA%B3%BC%EC%A0%9C.ipynb\" target=\"_parent\"><img src=\"https://colab.research.google.com/assets/colab-badge.svg\" alt=\"Open In Colab\"/></a>"
      ]
    },
    {
      "cell_type": "markdown",
      "id": "888efa82",
      "metadata": {
        "id": "888efa82"
      },
      "source": [
        "# 라이브러리"
      ]
    },
    {
      "cell_type": "code",
      "execution_count": null,
      "id": "9c1fe3c1",
      "metadata": {
        "id": "9c1fe3c1",
        "colab": {
          "base_uri": "https://localhost:8080/"
        },
        "outputId": "cfcb049e-70c2-4a23-87f3-2f13d2c0ad52"
      },
      "outputs": [
        {
          "output_type": "stream",
          "name": "stdout",
          "text": [
            "Requirement already satisfied: catboost in /usr/local/lib/python3.7/dist-packages (1.0.4)\n",
            "Requirement already satisfied: graphviz in /usr/local/lib/python3.7/dist-packages (from catboost) (0.10.1)\n",
            "Requirement already satisfied: scipy in /usr/local/lib/python3.7/dist-packages (from catboost) (1.4.1)\n",
            "Requirement already satisfied: numpy>=1.16.0 in /usr/local/lib/python3.7/dist-packages (from catboost) (1.21.5)\n",
            "Requirement already satisfied: pandas>=0.24.0 in /usr/local/lib/python3.7/dist-packages (from catboost) (1.3.5)\n",
            "Requirement already satisfied: matplotlib in /usr/local/lib/python3.7/dist-packages (from catboost) (3.2.2)\n",
            "Requirement already satisfied: plotly in /usr/local/lib/python3.7/dist-packages (from catboost) (5.5.0)\n",
            "Requirement already satisfied: six in /usr/local/lib/python3.7/dist-packages (from catboost) (1.15.0)\n",
            "Requirement already satisfied: pytz>=2017.3 in /usr/local/lib/python3.7/dist-packages (from pandas>=0.24.0->catboost) (2018.9)\n",
            "Requirement already satisfied: python-dateutil>=2.7.3 in /usr/local/lib/python3.7/dist-packages (from pandas>=0.24.0->catboost) (2.8.2)\n",
            "Requirement already satisfied: pyparsing!=2.0.4,!=2.1.2,!=2.1.6,>=2.0.1 in /usr/local/lib/python3.7/dist-packages (from matplotlib->catboost) (3.0.7)\n",
            "Requirement already satisfied: kiwisolver>=1.0.1 in /usr/local/lib/python3.7/dist-packages (from matplotlib->catboost) (1.4.0)\n",
            "Requirement already satisfied: cycler>=0.10 in /usr/local/lib/python3.7/dist-packages (from matplotlib->catboost) (0.11.0)\n",
            "Requirement already satisfied: typing-extensions in /usr/local/lib/python3.7/dist-packages (from kiwisolver>=1.0.1->matplotlib->catboost) (3.10.0.2)\n",
            "Requirement already satisfied: tenacity>=6.2.0 in /usr/local/lib/python3.7/dist-packages (from plotly->catboost) (8.0.1)\n"
          ]
        }
      ],
      "source": [
        "import numpy as np\n",
        "import pandas as pd\n",
        "import gc\n",
        "import time\n",
        "import matplotlib.pyplot as plt\n",
        "import seaborn as sns\n",
        "%matplotlib inline\n",
        "import warnings\n",
        "warnings.filterwarnings(\"ignore\")\n",
        "\n",
        "pd.set_option('display.max_rows', 100)\n",
        "pd.set_option('display.max_columns', 200)\n",
        "!pip install catboost"
      ]
    },
    {
      "cell_type": "code",
      "execution_count": null,
      "id": "b8f0c31a",
      "metadata": {
        "id": "b8f0c31a"
      },
      "outputs": [],
      "source": [
        "from sklearn.preprocessing import LabelEncoder\n",
        "from sklearn.metrics import mean_squared_error\n",
        "from sklearn.model_selection import train_test_split, StratifiedKFold, KFold\n",
        "from catboost import CatBoostRegressor\n",
        "from sklearn.model_selection import cross_val_score\n",
        "from sklearn.model_selection import train_test_split"
      ]
    },
    {
      "cell_type": "code",
      "source": [
        "from google.colab import drive\n",
        "drive.mount('/content/drive')"
      ],
      "metadata": {
        "colab": {
          "base_uri": "https://localhost:8080/"
        },
        "id": "ZzXDKZ8gN6LZ",
        "outputId": "fd281cf3-50d5-4daf-ec29-01ee3e3af918"
      },
      "id": "ZzXDKZ8gN6LZ",
      "execution_count": null,
      "outputs": [
        {
          "output_type": "stream",
          "name": "stdout",
          "text": [
            "Drive already mounted at /content/drive; to attempt to forcibly remount, call drive.mount(\"/content/drive\", force_remount=True).\n"
          ]
        }
      ]
    },
    {
      "cell_type": "markdown",
      "id": "f8a5a309",
      "metadata": {
        "id": "f8a5a309"
      },
      "source": [
        "# 데이터 불러오기"
      ]
    },
    {
      "cell_type": "code",
      "execution_count": null,
      "id": "3085028d",
      "metadata": {
        "id": "3085028d"
      },
      "outputs": [],
      "source": [
        "train = pd.read_csv('/content/drive/MyDrive/Colab Notebooks/Daycon/2회차/train.csv')\n",
        "test = pd.read_csv('/content/drive/MyDrive/Colab Notebooks/Daycon/2회차/test.csv')\n",
        "submission = pd.read_csv('/content/drive/MyDrive/Colab Notebooks/Daycon/2회차/sample_submission.csv')"
      ]
    },
    {
      "cell_type": "markdown",
      "id": "3dfa0924",
      "metadata": {
        "id": "3dfa0924"
      },
      "source": [
        "# Feature Engineering"
      ]
    },
    {
      "cell_type": "markdown",
      "id": "0eed4982",
      "metadata": {
        "id": "0eed4982"
      },
      "source": [
        "### 파생변수 생성\n",
        "- 송하인,물품_카테고리,물품_카테고리, (송하인,물품_카테고리), (송하인,물품_카테고리) 으로 각각 groupby\n",
        "- mean,max,sum 값을 새로운 파생변수로 사용  \n"
      ]
    },
    {
      "cell_type": "code",
      "source": [
        "train.head()"
      ],
      "metadata": {
        "colab": {
          "base_uri": "https://localhost:8080/",
          "height": 206
        },
        "id": "V23DqgA5O4Pn",
        "outputId": "04d12c79-19dd-4046-b13f-847dd4d3fffa"
      },
      "id": "V23DqgA5O4Pn",
      "execution_count": null,
      "outputs": [
        {
          "output_type": "execute_result",
          "data": {
            "text/plain": [
              "   index      송하인_격자공간고유번호      수하인_격자공간고유번호 물품_카테고리  운송장_건수\n",
              "0      0  5011000595017300  2871000192069300      음반       3\n",
              "1      1  4148000690043300  5011000264024400   문화컨텐츠       3\n",
              "2      2  5011000078068400  1120000007005400     농산물       3\n",
              "3      3  4127100048006400  5011000587019400    기타식품       7\n",
              "4      4  5011000078068400  2823700010076300     농산물       3"
            ],
            "text/html": [
              "\n",
              "  <div id=\"df-9414dec1-6150-456a-a78b-38b7ec9f3c46\">\n",
              "    <div class=\"colab-df-container\">\n",
              "      <div>\n",
              "<style scoped>\n",
              "    .dataframe tbody tr th:only-of-type {\n",
              "        vertical-align: middle;\n",
              "    }\n",
              "\n",
              "    .dataframe tbody tr th {\n",
              "        vertical-align: top;\n",
              "    }\n",
              "\n",
              "    .dataframe thead th {\n",
              "        text-align: right;\n",
              "    }\n",
              "</style>\n",
              "<table border=\"1\" class=\"dataframe\">\n",
              "  <thead>\n",
              "    <tr style=\"text-align: right;\">\n",
              "      <th></th>\n",
              "      <th>index</th>\n",
              "      <th>송하인_격자공간고유번호</th>\n",
              "      <th>수하인_격자공간고유번호</th>\n",
              "      <th>물품_카테고리</th>\n",
              "      <th>운송장_건수</th>\n",
              "    </tr>\n",
              "  </thead>\n",
              "  <tbody>\n",
              "    <tr>\n",
              "      <th>0</th>\n",
              "      <td>0</td>\n",
              "      <td>5011000595017300</td>\n",
              "      <td>2871000192069300</td>\n",
              "      <td>음반</td>\n",
              "      <td>3</td>\n",
              "    </tr>\n",
              "    <tr>\n",
              "      <th>1</th>\n",
              "      <td>1</td>\n",
              "      <td>4148000690043300</td>\n",
              "      <td>5011000264024400</td>\n",
              "      <td>문화컨텐츠</td>\n",
              "      <td>3</td>\n",
              "    </tr>\n",
              "    <tr>\n",
              "      <th>2</th>\n",
              "      <td>2</td>\n",
              "      <td>5011000078068400</td>\n",
              "      <td>1120000007005400</td>\n",
              "      <td>농산물</td>\n",
              "      <td>3</td>\n",
              "    </tr>\n",
              "    <tr>\n",
              "      <th>3</th>\n",
              "      <td>3</td>\n",
              "      <td>4127100048006400</td>\n",
              "      <td>5011000587019400</td>\n",
              "      <td>기타식품</td>\n",
              "      <td>7</td>\n",
              "    </tr>\n",
              "    <tr>\n",
              "      <th>4</th>\n",
              "      <td>4</td>\n",
              "      <td>5011000078068400</td>\n",
              "      <td>2823700010076300</td>\n",
              "      <td>농산물</td>\n",
              "      <td>3</td>\n",
              "    </tr>\n",
              "  </tbody>\n",
              "</table>\n",
              "</div>\n",
              "      <button class=\"colab-df-convert\" onclick=\"convertToInteractive('df-9414dec1-6150-456a-a78b-38b7ec9f3c46')\"\n",
              "              title=\"Convert this dataframe to an interactive table.\"\n",
              "              style=\"display:none;\">\n",
              "        \n",
              "  <svg xmlns=\"http://www.w3.org/2000/svg\" height=\"24px\"viewBox=\"0 0 24 24\"\n",
              "       width=\"24px\">\n",
              "    <path d=\"M0 0h24v24H0V0z\" fill=\"none\"/>\n",
              "    <path d=\"M18.56 5.44l.94 2.06.94-2.06 2.06-.94-2.06-.94-.94-2.06-.94 2.06-2.06.94zm-11 1L8.5 8.5l.94-2.06 2.06-.94-2.06-.94L8.5 2.5l-.94 2.06-2.06.94zm10 10l.94 2.06.94-2.06 2.06-.94-2.06-.94-.94-2.06-.94 2.06-2.06.94z\"/><path d=\"M17.41 7.96l-1.37-1.37c-.4-.4-.92-.59-1.43-.59-.52 0-1.04.2-1.43.59L10.3 9.45l-7.72 7.72c-.78.78-.78 2.05 0 2.83L4 21.41c.39.39.9.59 1.41.59.51 0 1.02-.2 1.41-.59l7.78-7.78 2.81-2.81c.8-.78.8-2.07 0-2.86zM5.41 20L4 18.59l7.72-7.72 1.47 1.35L5.41 20z\"/>\n",
              "  </svg>\n",
              "      </button>\n",
              "      \n",
              "  <style>\n",
              "    .colab-df-container {\n",
              "      display:flex;\n",
              "      flex-wrap:wrap;\n",
              "      gap: 12px;\n",
              "    }\n",
              "\n",
              "    .colab-df-convert {\n",
              "      background-color: #E8F0FE;\n",
              "      border: none;\n",
              "      border-radius: 50%;\n",
              "      cursor: pointer;\n",
              "      display: none;\n",
              "      fill: #1967D2;\n",
              "      height: 32px;\n",
              "      padding: 0 0 0 0;\n",
              "      width: 32px;\n",
              "    }\n",
              "\n",
              "    .colab-df-convert:hover {\n",
              "      background-color: #E2EBFA;\n",
              "      box-shadow: 0px 1px 2px rgba(60, 64, 67, 0.3), 0px 1px 3px 1px rgba(60, 64, 67, 0.15);\n",
              "      fill: #174EA6;\n",
              "    }\n",
              "\n",
              "    [theme=dark] .colab-df-convert {\n",
              "      background-color: #3B4455;\n",
              "      fill: #D2E3FC;\n",
              "    }\n",
              "\n",
              "    [theme=dark] .colab-df-convert:hover {\n",
              "      background-color: #434B5C;\n",
              "      box-shadow: 0px 1px 3px 1px rgba(0, 0, 0, 0.15);\n",
              "      filter: drop-shadow(0px 1px 2px rgba(0, 0, 0, 0.3));\n",
              "      fill: #FFFFFF;\n",
              "    }\n",
              "  </style>\n",
              "\n",
              "      <script>\n",
              "        const buttonEl =\n",
              "          document.querySelector('#df-9414dec1-6150-456a-a78b-38b7ec9f3c46 button.colab-df-convert');\n",
              "        buttonEl.style.display =\n",
              "          google.colab.kernel.accessAllowed ? 'block' : 'none';\n",
              "\n",
              "        async function convertToInteractive(key) {\n",
              "          const element = document.querySelector('#df-9414dec1-6150-456a-a78b-38b7ec9f3c46');\n",
              "          const dataTable =\n",
              "            await google.colab.kernel.invokeFunction('convertToInteractive',\n",
              "                                                     [key], {});\n",
              "          if (!dataTable) return;\n",
              "\n",
              "          const docLinkHtml = 'Like what you see? Visit the ' +\n",
              "            '<a target=\"_blank\" href=https://colab.research.google.com/notebooks/data_table.ipynb>data table notebook</a>'\n",
              "            + ' to learn more about interactive tables.';\n",
              "          element.innerHTML = '';\n",
              "          dataTable['output_type'] = 'display_data';\n",
              "          await google.colab.output.renderOutput(dataTable, element);\n",
              "          const docLink = document.createElement('div');\n",
              "          docLink.innerHTML = docLinkHtml;\n",
              "          element.appendChild(docLink);\n",
              "        }\n",
              "      </script>\n",
              "    </div>\n",
              "  </div>\n",
              "  "
            ]
          },
          "metadata": {},
          "execution_count": 41
        }
      ]
    },
    {
      "cell_type": "code",
      "source": [
        "test.head()"
      ],
      "metadata": {
        "colab": {
          "base_uri": "https://localhost:8080/",
          "height": 206
        },
        "id": "mv98vJUiO5j_",
        "outputId": "47400574-cc21-4012-eec6-221589135819"
      },
      "id": "mv98vJUiO5j_",
      "execution_count": null,
      "outputs": [
        {
          "output_type": "execute_result",
          "data": {
            "text/plain": [
              "   index      송하인_격자공간고유번호      수하인_격자공간고유번호      물품_카테고리\n",
              "0      0  4167000577042200  5011000435014100          선케어\n",
              "1      1  1156000009012200  5011000172034400       구강위생용품\n",
              "2      2  4122000363057300  5011000361097300           캠핑\n",
              "3      3  5011000436041400  2826000084036400       아웃도어가구\n",
              "4      4  4150000241065200  5011000169044300  분유/이유식/아기간식"
            ],
            "text/html": [
              "\n",
              "  <div id=\"df-22e9e1e2-67e2-4471-afc1-3dd374a2eccb\">\n",
              "    <div class=\"colab-df-container\">\n",
              "      <div>\n",
              "<style scoped>\n",
              "    .dataframe tbody tr th:only-of-type {\n",
              "        vertical-align: middle;\n",
              "    }\n",
              "\n",
              "    .dataframe tbody tr th {\n",
              "        vertical-align: top;\n",
              "    }\n",
              "\n",
              "    .dataframe thead th {\n",
              "        text-align: right;\n",
              "    }\n",
              "</style>\n",
              "<table border=\"1\" class=\"dataframe\">\n",
              "  <thead>\n",
              "    <tr style=\"text-align: right;\">\n",
              "      <th></th>\n",
              "      <th>index</th>\n",
              "      <th>송하인_격자공간고유번호</th>\n",
              "      <th>수하인_격자공간고유번호</th>\n",
              "      <th>물품_카테고리</th>\n",
              "    </tr>\n",
              "  </thead>\n",
              "  <tbody>\n",
              "    <tr>\n",
              "      <th>0</th>\n",
              "      <td>0</td>\n",
              "      <td>4167000577042200</td>\n",
              "      <td>5011000435014100</td>\n",
              "      <td>선케어</td>\n",
              "    </tr>\n",
              "    <tr>\n",
              "      <th>1</th>\n",
              "      <td>1</td>\n",
              "      <td>1156000009012200</td>\n",
              "      <td>5011000172034400</td>\n",
              "      <td>구강위생용품</td>\n",
              "    </tr>\n",
              "    <tr>\n",
              "      <th>2</th>\n",
              "      <td>2</td>\n",
              "      <td>4122000363057300</td>\n",
              "      <td>5011000361097300</td>\n",
              "      <td>캠핑</td>\n",
              "    </tr>\n",
              "    <tr>\n",
              "      <th>3</th>\n",
              "      <td>3</td>\n",
              "      <td>5011000436041400</td>\n",
              "      <td>2826000084036400</td>\n",
              "      <td>아웃도어가구</td>\n",
              "    </tr>\n",
              "    <tr>\n",
              "      <th>4</th>\n",
              "      <td>4</td>\n",
              "      <td>4150000241065200</td>\n",
              "      <td>5011000169044300</td>\n",
              "      <td>분유/이유식/아기간식</td>\n",
              "    </tr>\n",
              "  </tbody>\n",
              "</table>\n",
              "</div>\n",
              "      <button class=\"colab-df-convert\" onclick=\"convertToInteractive('df-22e9e1e2-67e2-4471-afc1-3dd374a2eccb')\"\n",
              "              title=\"Convert this dataframe to an interactive table.\"\n",
              "              style=\"display:none;\">\n",
              "        \n",
              "  <svg xmlns=\"http://www.w3.org/2000/svg\" height=\"24px\"viewBox=\"0 0 24 24\"\n",
              "       width=\"24px\">\n",
              "    <path d=\"M0 0h24v24H0V0z\" fill=\"none\"/>\n",
              "    <path d=\"M18.56 5.44l.94 2.06.94-2.06 2.06-.94-2.06-.94-.94-2.06-.94 2.06-2.06.94zm-11 1L8.5 8.5l.94-2.06 2.06-.94-2.06-.94L8.5 2.5l-.94 2.06-2.06.94zm10 10l.94 2.06.94-2.06 2.06-.94-2.06-.94-.94-2.06-.94 2.06-2.06.94z\"/><path d=\"M17.41 7.96l-1.37-1.37c-.4-.4-.92-.59-1.43-.59-.52 0-1.04.2-1.43.59L10.3 9.45l-7.72 7.72c-.78.78-.78 2.05 0 2.83L4 21.41c.39.39.9.59 1.41.59.51 0 1.02-.2 1.41-.59l7.78-7.78 2.81-2.81c.8-.78.8-2.07 0-2.86zM5.41 20L4 18.59l7.72-7.72 1.47 1.35L5.41 20z\"/>\n",
              "  </svg>\n",
              "      </button>\n",
              "      \n",
              "  <style>\n",
              "    .colab-df-container {\n",
              "      display:flex;\n",
              "      flex-wrap:wrap;\n",
              "      gap: 12px;\n",
              "    }\n",
              "\n",
              "    .colab-df-convert {\n",
              "      background-color: #E8F0FE;\n",
              "      border: none;\n",
              "      border-radius: 50%;\n",
              "      cursor: pointer;\n",
              "      display: none;\n",
              "      fill: #1967D2;\n",
              "      height: 32px;\n",
              "      padding: 0 0 0 0;\n",
              "      width: 32px;\n",
              "    }\n",
              "\n",
              "    .colab-df-convert:hover {\n",
              "      background-color: #E2EBFA;\n",
              "      box-shadow: 0px 1px 2px rgba(60, 64, 67, 0.3), 0px 1px 3px 1px rgba(60, 64, 67, 0.15);\n",
              "      fill: #174EA6;\n",
              "    }\n",
              "\n",
              "    [theme=dark] .colab-df-convert {\n",
              "      background-color: #3B4455;\n",
              "      fill: #D2E3FC;\n",
              "    }\n",
              "\n",
              "    [theme=dark] .colab-df-convert:hover {\n",
              "      background-color: #434B5C;\n",
              "      box-shadow: 0px 1px 3px 1px rgba(0, 0, 0, 0.15);\n",
              "      filter: drop-shadow(0px 1px 2px rgba(0, 0, 0, 0.3));\n",
              "      fill: #FFFFFF;\n",
              "    }\n",
              "  </style>\n",
              "\n",
              "      <script>\n",
              "        const buttonEl =\n",
              "          document.querySelector('#df-22e9e1e2-67e2-4471-afc1-3dd374a2eccb button.colab-df-convert');\n",
              "        buttonEl.style.display =\n",
              "          google.colab.kernel.accessAllowed ? 'block' : 'none';\n",
              "\n",
              "        async function convertToInteractive(key) {\n",
              "          const element = document.querySelector('#df-22e9e1e2-67e2-4471-afc1-3dd374a2eccb');\n",
              "          const dataTable =\n",
              "            await google.colab.kernel.invokeFunction('convertToInteractive',\n",
              "                                                     [key], {});\n",
              "          if (!dataTable) return;\n",
              "\n",
              "          const docLinkHtml = 'Like what you see? Visit the ' +\n",
              "            '<a target=\"_blank\" href=https://colab.research.google.com/notebooks/data_table.ipynb>data table notebook</a>'\n",
              "            + ' to learn more about interactive tables.';\n",
              "          element.innerHTML = '';\n",
              "          dataTable['output_type'] = 'display_data';\n",
              "          await google.colab.output.renderOutput(dataTable, element);\n",
              "          const docLink = document.createElement('div');\n",
              "          docLink.innerHTML = docLinkHtml;\n",
              "          element.appendChild(docLink);\n",
              "        }\n",
              "      </script>\n",
              "    </div>\n",
              "  </div>\n",
              "  "
            ]
          },
          "metadata": {},
          "execution_count": 42
        }
      ]
    },
    {
      "cell_type": "code",
      "execution_count": null,
      "id": "fdcf10d9",
      "metadata": {
        "id": "fdcf10d9"
      },
      "outputs": [],
      "source": [
        "train_dict = {\n",
        "    '운송장_건수':['mean','max','sum']\n",
        "}\n",
        "\n",
        "train_group = train.groupby('송하인_격자공간고유번호')\n",
        "train_agg = train_group.agg(train_dict)\n",
        "\n",
        "train_agg.columns=['송하인_'+\"_\".join(x).upper() for x in train_agg.columns.ravel()]\n",
        "train= train.merge(train_agg, on='송하인_격자공간고유번호', how='left')\n",
        "test= test.merge(train_agg, on='송하인_격자공간고유번호', how='left')"
      ]
    },
    {
      "cell_type": "code",
      "execution_count": null,
      "id": "cce7f365",
      "metadata": {
        "id": "cce7f365"
      },
      "outputs": [],
      "source": [
        "train_dict = {\n",
        "    '운송장_건수':['mean','max','sum']\n",
        "}\n",
        "\n",
        "train_group = train.groupby('수하인_격자공간고유번호')\n",
        "train_agg = train_group.agg(train_dict)\n",
        "\n",
        "train_agg.columns=['수하인_'+\"_\".join(x).upper() for x in train_agg.columns.ravel()]\n",
        "train= train.merge(train_agg, on='수하인_격자공간고유번호', how='left')\n",
        "test= test.merge(train_agg, on='수하인_격자공간고유번호', how='left')"
      ]
    },
    {
      "cell_type": "code",
      "execution_count": null,
      "id": "b1273e55",
      "metadata": {
        "id": "b1273e55"
      },
      "outputs": [],
      "source": [
        "train_dict = {\n",
        "    '운송장_건수':['mean','max','sum']\n",
        "}\n",
        "\n",
        "train_group = train.groupby('물품_카테고리')\n",
        "train_agg = train_group.agg(train_dict)\n",
        "\n",
        "train_agg.columns=['물품_'+\"_\".join(x).upper() for x in train_agg.columns.ravel()]\n",
        "train= train.merge(train_agg, on='물품_카테고리', how='left')\n",
        "test= test.merge(train_agg, on='물품_카테고리', how='left')"
      ]
    },
    {
      "cell_type": "code",
      "execution_count": null,
      "id": "87a0986f",
      "metadata": {
        "id": "87a0986f"
      },
      "outputs": [],
      "source": [
        "train_dict = {\n",
        "    '운송장_건수':['mean','max','sum']\n",
        "}\n",
        "\n",
        "train_group = train.groupby(['송하인_격자공간고유번호', '수하인_격자공간고유번호'])\n",
        "train_agg = train_group.agg(train_dict)\n",
        "\n",
        "train_agg.columns=['송하인_+'+\"_\".join(x).upper() for x in train_agg.columns.ravel()]\n",
        "train= train.merge(train_agg, on=['송하인_격자공간고유번호','수하인_격자공간고유번호'], how='left')\n",
        "test= test.merge(train_agg, on=['송하인_격자공간고유번호','수하인_격자공간고유번호'], how='left')"
      ]
    },
    {
      "cell_type": "code",
      "execution_count": null,
      "id": "37919336",
      "metadata": {
        "id": "37919336"
      },
      "outputs": [],
      "source": [
        "train_dict = {\n",
        "    '운송장_건수':['mean','max','sum']\n",
        "}\n",
        "\n",
        "train_group = train.groupby(['송하인_격자공간고유번호', '물품_카테고리'])\n",
        "train_agg = train_group.agg(train_dict)\n",
        "\n",
        "train_agg.columns=['송하인_'+\"_\".join(x).upper() for x in train_agg.columns.ravel()]\n",
        "train= train.merge(train_agg, on=['송하인_격자공간고유번호','물품_카테고리'], how='left')\n",
        "test= test.merge(train_agg, on=['송하인_격자공간고유번호','물품_카테고리'], how='left')"
      ]
    },
    {
      "cell_type": "markdown",
      "id": "362c3b31",
      "metadata": {
        "id": "362c3b31"
      },
      "source": [
        "### 결측치 확인\n",
        "\n",
        "groupby를 train데이터를 기준으로 했기 때문에  \n",
        "test에 merge했을 때 train에는 없는 새로운 송하인_격자공간고유번호가 있기 때문에 결측치가 생김"
      ]
    },
    {
      "cell_type": "code",
      "source": [
        "train.info()"
      ],
      "metadata": {
        "id": "1XEaT9ipRffq",
        "outputId": "877dbd9d-8465-4427-9500-f4caeff54817",
        "colab": {
          "base_uri": "https://localhost:8080/"
        }
      },
      "id": "1XEaT9ipRffq",
      "execution_count": null,
      "outputs": [
        {
          "output_type": "stream",
          "name": "stdout",
          "text": [
            "<class 'pandas.core.frame.DataFrame'>\n",
            "Int64Index: 31684 entries, 0 to 31683\n",
            "Data columns (total 20 columns):\n",
            " #   Column             Non-Null Count  Dtype  \n",
            "---  ------             --------------  -----  \n",
            " 0   index              31684 non-null  int64  \n",
            " 1   송하인_격자공간고유번호       31684 non-null  int64  \n",
            " 2   수하인_격자공간고유번호       31684 non-null  int64  \n",
            " 3   물품_카테고리            31684 non-null  object \n",
            " 4   운송장_건수             31684 non-null  int64  \n",
            " 5   송하인_운송장_건수_MEAN_x  31684 non-null  float64\n",
            " 6   송하인_운송장_건수_MAX_x   31684 non-null  int64  \n",
            " 7   송하인_운송장_건수_SUM_x   31684 non-null  int64  \n",
            " 8   수하인_운송장_건수_MEAN    31684 non-null  float64\n",
            " 9   수하인_운송장_건수_MAX     31684 non-null  int64  \n",
            " 10  수하인_운송장_건수_SUM     31684 non-null  int64  \n",
            " 11  물품_운송장_건수_MEAN     31684 non-null  float64\n",
            " 12  물품_운송장_건수_MAX      31684 non-null  int64  \n",
            " 13  물품_운송장_건수_SUM      31684 non-null  int64  \n",
            " 14  송하인_+운송장_건수_MEAN   31684 non-null  float64\n",
            " 15  송하인_+운송장_건수_MAX    31684 non-null  int64  \n",
            " 16  송하인_+운송장_건수_SUM    31684 non-null  int64  \n",
            " 17  송하인_운송장_건수_MEAN_y  31684 non-null  float64\n",
            " 18  송하인_운송장_건수_MAX_y   31684 non-null  int64  \n",
            " 19  송하인_운송장_건수_SUM_y   31684 non-null  int64  \n",
            "dtypes: float64(5), int64(14), object(1)\n",
            "memory usage: 5.1+ MB\n"
          ]
        }
      ]
    },
    {
      "cell_type": "code",
      "execution_count": null,
      "id": "4c0a5cf6",
      "metadata": {
        "id": "4c0a5cf6",
        "outputId": "9ee549e7-c9c9-4eb9-928f-35293bc4fd86",
        "colab": {
          "base_uri": "https://localhost:8080/"
        }
      },
      "outputs": [
        {
          "output_type": "execute_result",
          "data": {
            "text/plain": [
              "index                0\n",
              "송하인_격자공간고유번호         0\n",
              "수하인_격자공간고유번호         0\n",
              "물품_카테고리              0\n",
              "운송장_건수               0\n",
              "송하인_운송장_건수_MEAN_x    0\n",
              "송하인_운송장_건수_MAX_x     0\n",
              "송하인_운송장_건수_SUM_x     0\n",
              "수하인_운송장_건수_MEAN      0\n",
              "수하인_운송장_건수_MAX       0\n",
              "수하인_운송장_건수_SUM       0\n",
              "물품_운송장_건수_MEAN       0\n",
              "물품_운송장_건수_MAX        0\n",
              "물품_운송장_건수_SUM        0\n",
              "송하인_+운송장_건수_MEAN     0\n",
              "송하인_+운송장_건수_MAX      0\n",
              "송하인_+운송장_건수_SUM      0\n",
              "송하인_운송장_건수_MEAN_y    0\n",
              "송하인_운송장_건수_MAX_y     0\n",
              "송하인_운송장_건수_SUM_y     0\n",
              "dtype: int64"
            ]
          },
          "metadata": {},
          "execution_count": 49
        }
      ],
      "source": [
        "train.isnull().sum()"
      ]
    },
    {
      "cell_type": "code",
      "execution_count": null,
      "id": "a76cd11e",
      "metadata": {
        "scrolled": false,
        "id": "a76cd11e",
        "outputId": "f957c5bc-d2f3-4f40-ac12-8e77308118df",
        "colab": {
          "base_uri": "https://localhost:8080/"
        }
      },
      "outputs": [
        {
          "output_type": "execute_result",
          "data": {
            "text/plain": [
              "index                   0\n",
              "송하인_격자공간고유번호            0\n",
              "수하인_격자공간고유번호            0\n",
              "물품_카테고리                 0\n",
              "송하인_운송장_건수_MEAN_x     609\n",
              "송하인_운송장_건수_MAX_x      609\n",
              "송하인_운송장_건수_SUM_x      609\n",
              "수하인_운송장_건수_MEAN      5947\n",
              "수하인_운송장_건수_MAX       5947\n",
              "수하인_운송장_건수_SUM       5947\n",
              "물품_운송장_건수_MEAN          0\n",
              "물품_운송장_건수_MAX           0\n",
              "물품_운송장_건수_SUM           0\n",
              "송하인_+운송장_건수_MEAN     7714\n",
              "송하인_+운송장_건수_MAX      7714\n",
              "송하인_+운송장_건수_SUM      7714\n",
              "송하인_운송장_건수_MEAN_y     860\n",
              "송하인_운송장_건수_MAX_y      860\n",
              "송하인_운송장_건수_SUM_y      860\n",
              "dtype: int64"
            ]
          },
          "metadata": {},
          "execution_count": 50
        }
      ],
      "source": [
        "test.isnull().sum()"
      ]
    },
    {
      "cell_type": "markdown",
      "id": "efd0ec97",
      "metadata": {
        "id": "efd0ec97"
      },
      "source": [
        "### 결측치 처리"
      ]
    },
    {
      "cell_type": "code",
      "execution_count": null,
      "id": "c5b9d637",
      "metadata": {
        "id": "c5b9d637"
      },
      "outputs": [],
      "source": [
        "test['송하인_운송장_건수_MEAN_x'] = test['송하인_운송장_건수_MEAN_x'].fillna(train['송하인_운송장_건수_MEAN_x'].mean())\n",
        "test['송하인_운송장_건수_MAX_x'] = test['송하인_운송장_건수_MAX_x'].fillna(train['송하인_운송장_건수_MAX_x'].mean())\n",
        "test['송하인_운송장_건수_SUM_x'] = test['송하인_운송장_건수_SUM_x'].fillna(train['송하인_운송장_건수_SUM_x'].mean())"
      ]
    },
    {
      "cell_type": "code",
      "execution_count": null,
      "id": "13e42819",
      "metadata": {
        "id": "13e42819"
      },
      "outputs": [],
      "source": [
        "test['송하인_운송장_건수_MEAN_y'] = test['송하인_운송장_건수_MEAN_y'].fillna(train['송하인_운송장_건수_MEAN_y'].mean())\n",
        "test['송하인_운송장_건수_MAX_y'] = test['송하인_운송장_건수_MAX_y'].fillna(train['송하인_운송장_건수_MAX_y'].mean())\n",
        "test['송하인_운송장_건수_SUM_y'] = test['송하인_운송장_건수_SUM_y'].fillna(train['송하인_운송장_건수_SUM_y'].mean())"
      ]
    },
    {
      "cell_type": "code",
      "execution_count": null,
      "id": "fb576740",
      "metadata": {
        "id": "fb576740"
      },
      "outputs": [],
      "source": [
        "test['송하인_+운송장_건수_MEAN'] = test['송하인_+운송장_건수_MEAN'].fillna(train['송하인_+운송장_건수_MEAN'].mean())\n",
        "test['송하인_+운송장_건수_MAX'] = test['송하인_+운송장_건수_MAX'].fillna(train['송하인_+운송장_건수_MAX'].mean())\n",
        "test['송하인_+운송장_건수_SUM'] = test['송하인_+운송장_건수_SUM'].fillna(train['송하인_+운송장_건수_SUM'].mean())"
      ]
    },
    {
      "cell_type": "code",
      "execution_count": null,
      "id": "265bb84e",
      "metadata": {
        "id": "265bb84e"
      },
      "outputs": [],
      "source": [
        "data= pd.concat([train,test])"
      ]
    },
    {
      "cell_type": "code",
      "source": [
        "data"
      ],
      "metadata": {
        "colab": {
          "base_uri": "https://localhost:8080/",
          "height": 1000
        },
        "id": "lPCiiSU9TVid",
        "outputId": "46389fc7-7915-4896-9e69-0a1f12eea564"
      },
      "id": "lPCiiSU9TVid",
      "execution_count": null,
      "outputs": [
        {
          "output_type": "execute_result",
          "data": {
            "text/plain": [
              "      index      송하인_격자공간고유번호      수하인_격자공간고유번호 물품_카테고리  운송장_건수  \\\n",
              "0         0  5011000595017300  2871000192069300      음반     3.0   \n",
              "1         1  4148000690043300  5011000264024400   문화컨텐츠     3.0   \n",
              "2         2  5011000078068400  1120000007005400     농산물     3.0   \n",
              "3         3  4127100048006400  5011000587019400    기타식품     7.0   \n",
              "4         4  5011000078068400  2823700010076300     농산물     3.0   \n",
              "...     ...               ...               ...     ...     ...   \n",
              "7915   7915  5011000266051200  4623000417038100     농산물     NaN   \n",
              "7916   7916  1154500001098300  5011000264055100   문화컨텐츠     NaN   \n",
              "7917   7917  5013000610049100  1147000018091400     농산물     NaN   \n",
              "7918   7918  5013000610049100  3117000039026100     농산물     NaN   \n",
              "7919   7919  1165000014095200  5011000373086400   문화컨텐츠     NaN   \n",
              "\n",
              "      송하인_운송장_건수_MEAN_x  송하인_운송장_건수_MAX_x  송하인_운송장_건수_SUM_x  수하인_운송장_건수_MEAN  \\\n",
              "0              3.738095         15.000000       1727.000000         3.000000   \n",
              "1              3.970297         15.000000        401.000000         3.000000   \n",
              "2              3.707110         82.000000      14391.000000         3.000000   \n",
              "3              4.448276         11.000000        129.000000         5.500000   \n",
              "4              3.707110         82.000000      14391.000000         3.000000   \n",
              "...                 ...               ...               ...              ...   \n",
              "7915           4.757576         17.000000        157.000000              NaN   \n",
              "7916           4.879308         32.239616       2885.648435        10.000000   \n",
              "7917           3.597207         31.000000       6439.000000              NaN   \n",
              "7918           3.597207         31.000000       6439.000000              NaN   \n",
              "7919           3.615385          5.000000         94.000000         3.666667   \n",
              "\n",
              "      수하인_운송장_건수_MAX  수하인_운송장_건수_SUM  물품_운송장_건수_MEAN  물품_운송장_건수_MAX  \\\n",
              "0                3.0             3.0        4.092014             48   \n",
              "1                3.0             3.0        4.976169            118   \n",
              "2                3.0             3.0        4.322081            179   \n",
              "3                9.0            22.0        6.088825            108   \n",
              "4                3.0             3.0        4.322081            179   \n",
              "...              ...             ...             ...            ...   \n",
              "7915             NaN             NaN        4.322081            179   \n",
              "7916            10.0            10.0        4.976169            118   \n",
              "7917             NaN             NaN        4.322081            179   \n",
              "7918             NaN             NaN        4.322081            179   \n",
              "7919             4.0            22.0        4.976169            118   \n",
              "\n",
              "      물품_운송장_건수_SUM  송하인_+운송장_건수_MEAN  송하인_+운송장_건수_MAX  송하인_+운송장_건수_SUM  \\\n",
              "0              2357          3.000000          3.00000         3.000000   \n",
              "1              5429          3.000000          3.00000         3.000000   \n",
              "2             87829          3.000000          3.00000         3.000000   \n",
              "3              4250          7.000000          7.00000         7.000000   \n",
              "4             87829          3.000000          3.00000         3.000000   \n",
              "...             ...               ...              ...              ...   \n",
              "7915          87829          4.879308          4.96342         5.137293   \n",
              "7916           5429          4.879308          4.96342         5.137293   \n",
              "7917          87829          4.879308          4.96342         5.137293   \n",
              "7918          87829          4.879308          4.96342         5.137293   \n",
              "7919           5429          4.879308          4.96342         5.137293   \n",
              "\n",
              "      송하인_운송장_건수_MEAN_y  송하인_운송장_건수_MAX_y  송하인_운송장_건수_SUM_y  \n",
              "0              3.679287         12.000000       1652.000000  \n",
              "1              3.868687         12.000000        383.000000  \n",
              "2              3.707141         82.000000      14380.000000  \n",
              "3              5.052632         11.000000         96.000000  \n",
              "4              3.707141         82.000000      14380.000000  \n",
              "...                 ...               ...               ...  \n",
              "7915           4.757576         17.000000        157.000000  \n",
              "7916           4.879308         29.749905       2809.058989  \n",
              "7917           3.598319         31.000000       6423.000000  \n",
              "7918           3.598319         31.000000       6423.000000  \n",
              "7919           3.615385          5.000000         94.000000  \n",
              "\n",
              "[39604 rows x 20 columns]"
            ],
            "text/html": [
              "\n",
              "  <div id=\"df-fc9b5c79-4584-40d5-b180-20ebc34ddf24\">\n",
              "    <div class=\"colab-df-container\">\n",
              "      <div>\n",
              "<style scoped>\n",
              "    .dataframe tbody tr th:only-of-type {\n",
              "        vertical-align: middle;\n",
              "    }\n",
              "\n",
              "    .dataframe tbody tr th {\n",
              "        vertical-align: top;\n",
              "    }\n",
              "\n",
              "    .dataframe thead th {\n",
              "        text-align: right;\n",
              "    }\n",
              "</style>\n",
              "<table border=\"1\" class=\"dataframe\">\n",
              "  <thead>\n",
              "    <tr style=\"text-align: right;\">\n",
              "      <th></th>\n",
              "      <th>index</th>\n",
              "      <th>송하인_격자공간고유번호</th>\n",
              "      <th>수하인_격자공간고유번호</th>\n",
              "      <th>물품_카테고리</th>\n",
              "      <th>운송장_건수</th>\n",
              "      <th>송하인_운송장_건수_MEAN_x</th>\n",
              "      <th>송하인_운송장_건수_MAX_x</th>\n",
              "      <th>송하인_운송장_건수_SUM_x</th>\n",
              "      <th>수하인_운송장_건수_MEAN</th>\n",
              "      <th>수하인_운송장_건수_MAX</th>\n",
              "      <th>수하인_운송장_건수_SUM</th>\n",
              "      <th>물품_운송장_건수_MEAN</th>\n",
              "      <th>물품_운송장_건수_MAX</th>\n",
              "      <th>물품_운송장_건수_SUM</th>\n",
              "      <th>송하인_+운송장_건수_MEAN</th>\n",
              "      <th>송하인_+운송장_건수_MAX</th>\n",
              "      <th>송하인_+운송장_건수_SUM</th>\n",
              "      <th>송하인_운송장_건수_MEAN_y</th>\n",
              "      <th>송하인_운송장_건수_MAX_y</th>\n",
              "      <th>송하인_운송장_건수_SUM_y</th>\n",
              "    </tr>\n",
              "  </thead>\n",
              "  <tbody>\n",
              "    <tr>\n",
              "      <th>0</th>\n",
              "      <td>0</td>\n",
              "      <td>5011000595017300</td>\n",
              "      <td>2871000192069300</td>\n",
              "      <td>음반</td>\n",
              "      <td>3.0</td>\n",
              "      <td>3.738095</td>\n",
              "      <td>15.000000</td>\n",
              "      <td>1727.000000</td>\n",
              "      <td>3.000000</td>\n",
              "      <td>3.0</td>\n",
              "      <td>3.0</td>\n",
              "      <td>4.092014</td>\n",
              "      <td>48</td>\n",
              "      <td>2357</td>\n",
              "      <td>3.000000</td>\n",
              "      <td>3.00000</td>\n",
              "      <td>3.000000</td>\n",
              "      <td>3.679287</td>\n",
              "      <td>12.000000</td>\n",
              "      <td>1652.000000</td>\n",
              "    </tr>\n",
              "    <tr>\n",
              "      <th>1</th>\n",
              "      <td>1</td>\n",
              "      <td>4148000690043300</td>\n",
              "      <td>5011000264024400</td>\n",
              "      <td>문화컨텐츠</td>\n",
              "      <td>3.0</td>\n",
              "      <td>3.970297</td>\n",
              "      <td>15.000000</td>\n",
              "      <td>401.000000</td>\n",
              "      <td>3.000000</td>\n",
              "      <td>3.0</td>\n",
              "      <td>3.0</td>\n",
              "      <td>4.976169</td>\n",
              "      <td>118</td>\n",
              "      <td>5429</td>\n",
              "      <td>3.000000</td>\n",
              "      <td>3.00000</td>\n",
              "      <td>3.000000</td>\n",
              "      <td>3.868687</td>\n",
              "      <td>12.000000</td>\n",
              "      <td>383.000000</td>\n",
              "    </tr>\n",
              "    <tr>\n",
              "      <th>2</th>\n",
              "      <td>2</td>\n",
              "      <td>5011000078068400</td>\n",
              "      <td>1120000007005400</td>\n",
              "      <td>농산물</td>\n",
              "      <td>3.0</td>\n",
              "      <td>3.707110</td>\n",
              "      <td>82.000000</td>\n",
              "      <td>14391.000000</td>\n",
              "      <td>3.000000</td>\n",
              "      <td>3.0</td>\n",
              "      <td>3.0</td>\n",
              "      <td>4.322081</td>\n",
              "      <td>179</td>\n",
              "      <td>87829</td>\n",
              "      <td>3.000000</td>\n",
              "      <td>3.00000</td>\n",
              "      <td>3.000000</td>\n",
              "      <td>3.707141</td>\n",
              "      <td>82.000000</td>\n",
              "      <td>14380.000000</td>\n",
              "    </tr>\n",
              "    <tr>\n",
              "      <th>3</th>\n",
              "      <td>3</td>\n",
              "      <td>4127100048006400</td>\n",
              "      <td>5011000587019400</td>\n",
              "      <td>기타식품</td>\n",
              "      <td>7.0</td>\n",
              "      <td>4.448276</td>\n",
              "      <td>11.000000</td>\n",
              "      <td>129.000000</td>\n",
              "      <td>5.500000</td>\n",
              "      <td>9.0</td>\n",
              "      <td>22.0</td>\n",
              "      <td>6.088825</td>\n",
              "      <td>108</td>\n",
              "      <td>4250</td>\n",
              "      <td>7.000000</td>\n",
              "      <td>7.00000</td>\n",
              "      <td>7.000000</td>\n",
              "      <td>5.052632</td>\n",
              "      <td>11.000000</td>\n",
              "      <td>96.000000</td>\n",
              "    </tr>\n",
              "    <tr>\n",
              "      <th>4</th>\n",
              "      <td>4</td>\n",
              "      <td>5011000078068400</td>\n",
              "      <td>2823700010076300</td>\n",
              "      <td>농산물</td>\n",
              "      <td>3.0</td>\n",
              "      <td>3.707110</td>\n",
              "      <td>82.000000</td>\n",
              "      <td>14391.000000</td>\n",
              "      <td>3.000000</td>\n",
              "      <td>3.0</td>\n",
              "      <td>3.0</td>\n",
              "      <td>4.322081</td>\n",
              "      <td>179</td>\n",
              "      <td>87829</td>\n",
              "      <td>3.000000</td>\n",
              "      <td>3.00000</td>\n",
              "      <td>3.000000</td>\n",
              "      <td>3.707141</td>\n",
              "      <td>82.000000</td>\n",
              "      <td>14380.000000</td>\n",
              "    </tr>\n",
              "    <tr>\n",
              "      <th>...</th>\n",
              "      <td>...</td>\n",
              "      <td>...</td>\n",
              "      <td>...</td>\n",
              "      <td>...</td>\n",
              "      <td>...</td>\n",
              "      <td>...</td>\n",
              "      <td>...</td>\n",
              "      <td>...</td>\n",
              "      <td>...</td>\n",
              "      <td>...</td>\n",
              "      <td>...</td>\n",
              "      <td>...</td>\n",
              "      <td>...</td>\n",
              "      <td>...</td>\n",
              "      <td>...</td>\n",
              "      <td>...</td>\n",
              "      <td>...</td>\n",
              "      <td>...</td>\n",
              "      <td>...</td>\n",
              "      <td>...</td>\n",
              "    </tr>\n",
              "    <tr>\n",
              "      <th>7915</th>\n",
              "      <td>7915</td>\n",
              "      <td>5011000266051200</td>\n",
              "      <td>4623000417038100</td>\n",
              "      <td>농산물</td>\n",
              "      <td>NaN</td>\n",
              "      <td>4.757576</td>\n",
              "      <td>17.000000</td>\n",
              "      <td>157.000000</td>\n",
              "      <td>NaN</td>\n",
              "      <td>NaN</td>\n",
              "      <td>NaN</td>\n",
              "      <td>4.322081</td>\n",
              "      <td>179</td>\n",
              "      <td>87829</td>\n",
              "      <td>4.879308</td>\n",
              "      <td>4.96342</td>\n",
              "      <td>5.137293</td>\n",
              "      <td>4.757576</td>\n",
              "      <td>17.000000</td>\n",
              "      <td>157.000000</td>\n",
              "    </tr>\n",
              "    <tr>\n",
              "      <th>7916</th>\n",
              "      <td>7916</td>\n",
              "      <td>1154500001098300</td>\n",
              "      <td>5011000264055100</td>\n",
              "      <td>문화컨텐츠</td>\n",
              "      <td>NaN</td>\n",
              "      <td>4.879308</td>\n",
              "      <td>32.239616</td>\n",
              "      <td>2885.648435</td>\n",
              "      <td>10.000000</td>\n",
              "      <td>10.0</td>\n",
              "      <td>10.0</td>\n",
              "      <td>4.976169</td>\n",
              "      <td>118</td>\n",
              "      <td>5429</td>\n",
              "      <td>4.879308</td>\n",
              "      <td>4.96342</td>\n",
              "      <td>5.137293</td>\n",
              "      <td>4.879308</td>\n",
              "      <td>29.749905</td>\n",
              "      <td>2809.058989</td>\n",
              "    </tr>\n",
              "    <tr>\n",
              "      <th>7917</th>\n",
              "      <td>7917</td>\n",
              "      <td>5013000610049100</td>\n",
              "      <td>1147000018091400</td>\n",
              "      <td>농산물</td>\n",
              "      <td>NaN</td>\n",
              "      <td>3.597207</td>\n",
              "      <td>31.000000</td>\n",
              "      <td>6439.000000</td>\n",
              "      <td>NaN</td>\n",
              "      <td>NaN</td>\n",
              "      <td>NaN</td>\n",
              "      <td>4.322081</td>\n",
              "      <td>179</td>\n",
              "      <td>87829</td>\n",
              "      <td>4.879308</td>\n",
              "      <td>4.96342</td>\n",
              "      <td>5.137293</td>\n",
              "      <td>3.598319</td>\n",
              "      <td>31.000000</td>\n",
              "      <td>6423.000000</td>\n",
              "    </tr>\n",
              "    <tr>\n",
              "      <th>7918</th>\n",
              "      <td>7918</td>\n",
              "      <td>5013000610049100</td>\n",
              "      <td>3117000039026100</td>\n",
              "      <td>농산물</td>\n",
              "      <td>NaN</td>\n",
              "      <td>3.597207</td>\n",
              "      <td>31.000000</td>\n",
              "      <td>6439.000000</td>\n",
              "      <td>NaN</td>\n",
              "      <td>NaN</td>\n",
              "      <td>NaN</td>\n",
              "      <td>4.322081</td>\n",
              "      <td>179</td>\n",
              "      <td>87829</td>\n",
              "      <td>4.879308</td>\n",
              "      <td>4.96342</td>\n",
              "      <td>5.137293</td>\n",
              "      <td>3.598319</td>\n",
              "      <td>31.000000</td>\n",
              "      <td>6423.000000</td>\n",
              "    </tr>\n",
              "    <tr>\n",
              "      <th>7919</th>\n",
              "      <td>7919</td>\n",
              "      <td>1165000014095200</td>\n",
              "      <td>5011000373086400</td>\n",
              "      <td>문화컨텐츠</td>\n",
              "      <td>NaN</td>\n",
              "      <td>3.615385</td>\n",
              "      <td>5.000000</td>\n",
              "      <td>94.000000</td>\n",
              "      <td>3.666667</td>\n",
              "      <td>4.0</td>\n",
              "      <td>22.0</td>\n",
              "      <td>4.976169</td>\n",
              "      <td>118</td>\n",
              "      <td>5429</td>\n",
              "      <td>4.879308</td>\n",
              "      <td>4.96342</td>\n",
              "      <td>5.137293</td>\n",
              "      <td>3.615385</td>\n",
              "      <td>5.000000</td>\n",
              "      <td>94.000000</td>\n",
              "    </tr>\n",
              "  </tbody>\n",
              "</table>\n",
              "<p>39604 rows × 20 columns</p>\n",
              "</div>\n",
              "      <button class=\"colab-df-convert\" onclick=\"convertToInteractive('df-fc9b5c79-4584-40d5-b180-20ebc34ddf24')\"\n",
              "              title=\"Convert this dataframe to an interactive table.\"\n",
              "              style=\"display:none;\">\n",
              "        \n",
              "  <svg xmlns=\"http://www.w3.org/2000/svg\" height=\"24px\"viewBox=\"0 0 24 24\"\n",
              "       width=\"24px\">\n",
              "    <path d=\"M0 0h24v24H0V0z\" fill=\"none\"/>\n",
              "    <path d=\"M18.56 5.44l.94 2.06.94-2.06 2.06-.94-2.06-.94-.94-2.06-.94 2.06-2.06.94zm-11 1L8.5 8.5l.94-2.06 2.06-.94-2.06-.94L8.5 2.5l-.94 2.06-2.06.94zm10 10l.94 2.06.94-2.06 2.06-.94-2.06-.94-.94-2.06-.94 2.06-2.06.94z\"/><path d=\"M17.41 7.96l-1.37-1.37c-.4-.4-.92-.59-1.43-.59-.52 0-1.04.2-1.43.59L10.3 9.45l-7.72 7.72c-.78.78-.78 2.05 0 2.83L4 21.41c.39.39.9.59 1.41.59.51 0 1.02-.2 1.41-.59l7.78-7.78 2.81-2.81c.8-.78.8-2.07 0-2.86zM5.41 20L4 18.59l7.72-7.72 1.47 1.35L5.41 20z\"/>\n",
              "  </svg>\n",
              "      </button>\n",
              "      \n",
              "  <style>\n",
              "    .colab-df-container {\n",
              "      display:flex;\n",
              "      flex-wrap:wrap;\n",
              "      gap: 12px;\n",
              "    }\n",
              "\n",
              "    .colab-df-convert {\n",
              "      background-color: #E8F0FE;\n",
              "      border: none;\n",
              "      border-radius: 50%;\n",
              "      cursor: pointer;\n",
              "      display: none;\n",
              "      fill: #1967D2;\n",
              "      height: 32px;\n",
              "      padding: 0 0 0 0;\n",
              "      width: 32px;\n",
              "    }\n",
              "\n",
              "    .colab-df-convert:hover {\n",
              "      background-color: #E2EBFA;\n",
              "      box-shadow: 0px 1px 2px rgba(60, 64, 67, 0.3), 0px 1px 3px 1px rgba(60, 64, 67, 0.15);\n",
              "      fill: #174EA6;\n",
              "    }\n",
              "\n",
              "    [theme=dark] .colab-df-convert {\n",
              "      background-color: #3B4455;\n",
              "      fill: #D2E3FC;\n",
              "    }\n",
              "\n",
              "    [theme=dark] .colab-df-convert:hover {\n",
              "      background-color: #434B5C;\n",
              "      box-shadow: 0px 1px 3px 1px rgba(0, 0, 0, 0.15);\n",
              "      filter: drop-shadow(0px 1px 2px rgba(0, 0, 0, 0.3));\n",
              "      fill: #FFFFFF;\n",
              "    }\n",
              "  </style>\n",
              "\n",
              "      <script>\n",
              "        const buttonEl =\n",
              "          document.querySelector('#df-fc9b5c79-4584-40d5-b180-20ebc34ddf24 button.colab-df-convert');\n",
              "        buttonEl.style.display =\n",
              "          google.colab.kernel.accessAllowed ? 'block' : 'none';\n",
              "\n",
              "        async function convertToInteractive(key) {\n",
              "          const element = document.querySelector('#df-fc9b5c79-4584-40d5-b180-20ebc34ddf24');\n",
              "          const dataTable =\n",
              "            await google.colab.kernel.invokeFunction('convertToInteractive',\n",
              "                                                     [key], {});\n",
              "          if (!dataTable) return;\n",
              "\n",
              "          const docLinkHtml = 'Like what you see? Visit the ' +\n",
              "            '<a target=\"_blank\" href=https://colab.research.google.com/notebooks/data_table.ipynb>data table notebook</a>'\n",
              "            + ' to learn more about interactive tables.';\n",
              "          element.innerHTML = '';\n",
              "          dataTable['output_type'] = 'display_data';\n",
              "          await google.colab.output.renderOutput(dataTable, element);\n",
              "          const docLink = document.createElement('div');\n",
              "          docLink.innerHTML = docLinkHtml;\n",
              "          element.appendChild(docLink);\n",
              "        }\n",
              "      </script>\n",
              "    </div>\n",
              "  </div>\n",
              "  "
            ]
          },
          "metadata": {},
          "execution_count": 58
        }
      ]
    },
    {
      "cell_type": "code",
      "execution_count": null,
      "id": "9c909296",
      "metadata": {
        "id": "9c909296"
      },
      "outputs": [],
      "source": [
        "data['송하인_']= data['송하인_격자공간고유번호'].astype('str')+'-'+data['수하인_격자공간고유번호'].astype('str')"
      ]
    },
    {
      "cell_type": "markdown",
      "id": "dc11b029",
      "metadata": {
        "id": "dc11b029"
      },
      "source": [
        "### Label Encoding"
      ]
    },
    {
      "cell_type": "code",
      "execution_count": null,
      "id": "be38d703",
      "metadata": {
        "id": "be38d703"
      },
      "outputs": [],
      "source": [
        "object_columns=['송하인_격자공간고유번호','수하인_격자공간고유번호','물품_카테고리','물품_카테고리','송하인_']\n",
        "for column in object_columns:\n",
        "    data[column] = pd.factorize(data[column])[0]"
      ]
    },
    {
      "cell_type": "code",
      "execution_count": null,
      "id": "121a472e",
      "metadata": {
        "id": "121a472e"
      },
      "outputs": [],
      "source": [
        "data=data.drop('index',axis=1) # index column 제거"
      ]
    },
    {
      "cell_type": "code",
      "execution_count": null,
      "id": "67d8c9f2",
      "metadata": {
        "id": "67d8c9f2"
      },
      "outputs": [],
      "source": [
        "# 다시 train, test로 분리\n",
        "train = data[~data['운송장_건수'].isnull()]\n",
        "test = data[data['운송장_건수'].isnull()]"
      ]
    },
    {
      "cell_type": "code",
      "execution_count": null,
      "id": "d99b40e3",
      "metadata": {
        "id": "d99b40e3"
      },
      "outputs": [],
      "source": [
        "y_train=train['운송장_건수']\n",
        "X_train = train.drop('운송장_건수', axis=1)\n",
        "X_test = test.drop('운송장_건수', axis=1)"
      ]
    },
    {
      "cell_type": "code",
      "execution_count": null,
      "id": "166df16d",
      "metadata": {
        "id": "166df16d",
        "outputId": "76403e44-0f94-4c90-98dc-4c29714e81e2",
        "colab": {
          "base_uri": "https://localhost:8080/"
        }
      },
      "outputs": [
        {
          "output_type": "stream",
          "name": "stdout",
          "text": [
            "<class 'pandas.core.frame.DataFrame'>\n",
            "Int64Index: 31684 entries, 0 to 31683\n",
            "Data columns (total 19 columns):\n",
            " #   Column             Non-Null Count  Dtype  \n",
            "---  ------             --------------  -----  \n",
            " 0   송하인_격자공간고유번호       31684 non-null  int64  \n",
            " 1   수하인_격자공간고유번호       31684 non-null  int64  \n",
            " 2   물품_카테고리            31684 non-null  int64  \n",
            " 3   송하인_운송장_건수_MEAN_x  31684 non-null  float64\n",
            " 4   송하인_운송장_건수_MAX_x   31684 non-null  float64\n",
            " 5   송하인_운송장_건수_SUM_x   31684 non-null  float64\n",
            " 6   수하인_운송장_건수_MEAN    31684 non-null  float64\n",
            " 7   수하인_운송장_건수_MAX     31684 non-null  float64\n",
            " 8   수하인_운송장_건수_SUM     31684 non-null  float64\n",
            " 9   물품_운송장_건수_MEAN     31684 non-null  float64\n",
            " 10  물품_운송장_건수_MAX      31684 non-null  int64  \n",
            " 11  물품_운송장_건수_SUM      31684 non-null  int64  \n",
            " 12  송하인_+운송장_건수_MEAN   31684 non-null  float64\n",
            " 13  송하인_+운송장_건수_MAX    31684 non-null  float64\n",
            " 14  송하인_+운송장_건수_SUM    31684 non-null  float64\n",
            " 15  송하인_운송장_건수_MEAN_y  31684 non-null  float64\n",
            " 16  송하인_운송장_건수_MAX_y   31684 non-null  float64\n",
            " 17  송하인_운송장_건수_SUM_y   31684 non-null  float64\n",
            " 18  송하인_               31684 non-null  int64  \n",
            "dtypes: float64(13), int64(6)\n",
            "memory usage: 4.8 MB\n"
          ]
        }
      ],
      "source": [
        "X_train.info()"
      ]
    },
    {
      "cell_type": "code",
      "execution_count": null,
      "id": "d93419c5",
      "metadata": {
        "id": "d93419c5",
        "outputId": "1b990f47-4989-4768-d8c4-421619b8185c",
        "colab": {
          "base_uri": "https://localhost:8080/"
        }
      },
      "outputs": [
        {
          "output_type": "stream",
          "name": "stdout",
          "text": [
            "<class 'pandas.core.frame.DataFrame'>\n",
            "Int64Index: 7920 entries, 0 to 7919\n",
            "Data columns (total 19 columns):\n",
            " #   Column             Non-Null Count  Dtype  \n",
            "---  ------             --------------  -----  \n",
            " 0   송하인_격자공간고유번호       7920 non-null   int64  \n",
            " 1   수하인_격자공간고유번호       7920 non-null   int64  \n",
            " 2   물품_카테고리            7920 non-null   int64  \n",
            " 3   송하인_운송장_건수_MEAN_x  7920 non-null   float64\n",
            " 4   송하인_운송장_건수_MAX_x   7920 non-null   float64\n",
            " 5   송하인_운송장_건수_SUM_x   7920 non-null   float64\n",
            " 6   수하인_운송장_건수_MEAN    1973 non-null   float64\n",
            " 7   수하인_운송장_건수_MAX     1973 non-null   float64\n",
            " 8   수하인_운송장_건수_SUM     1973 non-null   float64\n",
            " 9   물품_운송장_건수_MEAN     7920 non-null   float64\n",
            " 10  물품_운송장_건수_MAX      7920 non-null   int64  \n",
            " 11  물품_운송장_건수_SUM      7920 non-null   int64  \n",
            " 12  송하인_+운송장_건수_MEAN   7920 non-null   float64\n",
            " 13  송하인_+운송장_건수_MAX    7920 non-null   float64\n",
            " 14  송하인_+운송장_건수_SUM    7920 non-null   float64\n",
            " 15  송하인_운송장_건수_MEAN_y  7920 non-null   float64\n",
            " 16  송하인_운송장_건수_MAX_y   7920 non-null   float64\n",
            " 17  송하인_운송장_건수_SUM_y   7920 non-null   float64\n",
            " 18  송하인_               7920 non-null   int64  \n",
            "dtypes: float64(13), int64(6)\n",
            "memory usage: 1.2 MB\n"
          ]
        }
      ],
      "source": [
        "X_test.info()"
      ]
    },
    {
      "cell_type": "markdown",
      "id": "b2d35c31",
      "metadata": {
        "id": "b2d35c31"
      },
      "source": [
        "# Modeling"
      ]
    },
    {
      "cell_type": "markdown",
      "id": "5d7d7067",
      "metadata": {
        "id": "5d7d7067"
      },
      "source": [
        "### CatBoost"
      ]
    },
    {
      "cell_type": "code",
      "execution_count": null,
      "id": "883c7fa8",
      "metadata": {
        "id": "883c7fa8"
      },
      "outputs": [],
      "source": [
        "cat_features=['송하인_격자공간고유번호','수하인_격자공간고유번호','물품_카테고리','물품_카테고리',\n",
        "                '송하인_']"
      ]
    },
    {
      "cell_type": "code",
      "execution_count": null,
      "id": "8ac38001",
      "metadata": {
        "id": "8ac38001",
        "outputId": "00b4d9b7-862b-4646-cb69-07d2b5eb35f9",
        "colab": {
          "base_uri": "https://localhost:8080/"
        }
      },
      "outputs": [
        {
          "output_type": "execute_result",
          "data": {
            "text/plain": [
              "<catboost.core.CatBoostRegressor at 0x7fb53faf9610>"
            ]
          },
          "metadata": {},
          "execution_count": 73
        }
      ],
      "source": [
        "model = CatBoostRegressor(n_estimators=2000, learning_rate=0.02, cat_features=cat_features)\n",
        "model.fit(X_train, y_train, verbose=False)"
      ]
    },
    {
      "cell_type": "markdown",
      "id": "220d64ca",
      "metadata": {
        "id": "220d64ca"
      },
      "source": [
        "### Predict"
      ]
    },
    {
      "cell_type": "code",
      "execution_count": null,
      "id": "724bf39e",
      "metadata": {
        "id": "724bf39e",
        "outputId": "d2152dbc-a131-4bbd-e0e2-ac3d960b2c35",
        "colab": {
          "base_uri": "https://localhost:8080/"
        }
      },
      "outputs": [
        {
          "output_type": "execute_result",
          "data": {
            "text/plain": [
              "array([5.41451572, 5.08573166, 4.94722053, ..., 4.89384883, 4.89384883,\n",
              "       4.91270793])"
            ]
          },
          "metadata": {},
          "execution_count": 74
        }
      ],
      "source": [
        "predict = model.predict(X_test)\n",
        "predict"
      ]
    },
    {
      "cell_type": "code",
      "execution_count": null,
      "id": "75447d76",
      "metadata": {
        "id": "75447d76"
      },
      "outputs": [],
      "source": [
        "submission['운송장_건수'] = predict"
      ]
    },
    {
      "cell_type": "code",
      "execution_count": null,
      "id": "960d5444",
      "metadata": {
        "id": "960d5444"
      },
      "outputs": [],
      "source": [
        "submission.to_csv('dacon.csv',index = False)"
      ]
    }
  ],
  "metadata": {
    "kernelspec": {
      "display_name": "Python 3",
      "language": "python",
      "name": "python3"
    },
    "language_info": {
      "codemirror_mode": {
        "name": "ipython",
        "version": 3
      },
      "file_extension": ".py",
      "mimetype": "text/x-python",
      "name": "python",
      "nbconvert_exporter": "python",
      "pygments_lexer": "ipython3",
      "version": "3.8.8"
    },
    "colab": {
      "name": "데이콘 과제.ipynb",
      "provenance": [],
      "collapsed_sections": [],
      "include_colab_link": true
    }
  },
  "nbformat": 4,
  "nbformat_minor": 5
}