{
  "cells": [
    {
      "cell_type": "markdown",
      "metadata": {
        "id": "view-in-github",
        "colab_type": "text"
      },
      "source": [
        "<a href=\"https://colab.research.google.com/github/Chohyungun/Chohyungun/blob/Dais/%EB%8D%B0%EC%9D%B4%EC%BD%98_%EC%8A%A4%EC%BF%A8_3%EA%B8%B0_%EA%B3%BC%EC%A0%9C_(Catboostregressor_%ED%99%9C%EC%9A%A9)_public_6_0247.ipynb\" target=\"_parent\"><img src=\"https://colab.research.google.com/assets/colab-badge.svg\" alt=\"Open In Colab\"/></a>"
      ]
    },
    {
      "cell_type": "code",
      "execution_count": null,
      "metadata": {
        "id": "ms2N8MfW15n-",
        "outputId": "eea4e438-d635-4c6d-d8f3-b9b5814adf19",
        "colab": {
          "base_uri": "https://localhost:8080/",
          "height": 399
        }
      },
      "outputs": [
        {
          "output_type": "error",
          "ename": "FileNotFoundError",
          "evalue": "ignored",
          "traceback": [
            "\u001b[0;31m---------------------------------------------------------------------------\u001b[0m",
            "\u001b[0;31mFileNotFoundError\u001b[0m                         Traceback (most recent call last)",
            "\u001b[0;32m<ipython-input-1-de786aae3c18>\u001b[0m in \u001b[0;36m<module>\u001b[0;34m()\u001b[0m\n\u001b[1;32m      9\u001b[0m \u001b[0mwarnings\u001b[0m\u001b[0;34m.\u001b[0m\u001b[0msimplefilter\u001b[0m\u001b[0;34m(\u001b[0m\u001b[0;34m'ignore'\u001b[0m\u001b[0;34m)\u001b[0m\u001b[0;34m\u001b[0m\u001b[0;34m\u001b[0m\u001b[0m\n\u001b[1;32m     10\u001b[0m \u001b[0mwarnings\u001b[0m\u001b[0;34m.\u001b[0m\u001b[0mfilterwarnings\u001b[0m\u001b[0;34m(\u001b[0m\u001b[0;34m'ignore'\u001b[0m\u001b[0;34m)\u001b[0m\u001b[0;34m\u001b[0m\u001b[0;34m\u001b[0m\u001b[0m\n\u001b[0;32m---> 11\u001b[0;31m \u001b[0mdf_train\u001b[0m\u001b[0;34m=\u001b[0m\u001b[0mpd\u001b[0m\u001b[0;34m.\u001b[0m\u001b[0mread_csv\u001b[0m\u001b[0;34m(\u001b[0m\u001b[0;34m'./dacon_data/train.csv'\u001b[0m\u001b[0;34m)\u001b[0m\u001b[0;34m\u001b[0m\u001b[0;34m\u001b[0m\u001b[0m\n\u001b[0m\u001b[1;32m     12\u001b[0m \u001b[0mdf_test\u001b[0m\u001b[0;34m=\u001b[0m\u001b[0mpd\u001b[0m\u001b[0;34m.\u001b[0m\u001b[0mread_csv\u001b[0m\u001b[0;34m(\u001b[0m\u001b[0;34m'./dacon_data/test.csv'\u001b[0m\u001b[0;34m)\u001b[0m\u001b[0;34m\u001b[0m\u001b[0;34m\u001b[0m\u001b[0m\n\u001b[1;32m     13\u001b[0m \u001b[0mdf_train\u001b[0m\u001b[0;34m[\u001b[0m\u001b[0;34m'송하인_grid'\u001b[0m\u001b[0;34m]\u001b[0m\u001b[0;34m=\u001b[0m\u001b[0mdf_train\u001b[0m\u001b[0;34m[\u001b[0m\u001b[0;34m'송하인_격자공간고유번호'\u001b[0m\u001b[0;34m]\u001b[0m\u001b[0;34m.\u001b[0m\u001b[0mastype\u001b[0m\u001b[0;34m(\u001b[0m\u001b[0mstr\u001b[0m\u001b[0;34m)\u001b[0m\u001b[0;34m.\u001b[0m\u001b[0mapply\u001b[0m\u001b[0;34m(\u001b[0m\u001b[0;32mlambda\u001b[0m \u001b[0mx\u001b[0m\u001b[0;34m:\u001b[0m \u001b[0mx\u001b[0m\u001b[0;34m[\u001b[0m\u001b[0;34m:\u001b[0m\u001b[0;36m3\u001b[0m\u001b[0;34m]\u001b[0m\u001b[0;34m)\u001b[0m\u001b[0;34m.\u001b[0m\u001b[0mastype\u001b[0m\u001b[0;34m(\u001b[0m\u001b[0mint\u001b[0m\u001b[0;34m)\u001b[0m\u001b[0;34m\u001b[0m\u001b[0;34m\u001b[0m\u001b[0m\n",
            "\u001b[0;32m/usr/local/lib/python3.7/dist-packages/pandas/util/_decorators.py\u001b[0m in \u001b[0;36mwrapper\u001b[0;34m(*args, **kwargs)\u001b[0m\n\u001b[1;32m    309\u001b[0m                     \u001b[0mstacklevel\u001b[0m\u001b[0;34m=\u001b[0m\u001b[0mstacklevel\u001b[0m\u001b[0;34m,\u001b[0m\u001b[0;34m\u001b[0m\u001b[0;34m\u001b[0m\u001b[0m\n\u001b[1;32m    310\u001b[0m                 )\n\u001b[0;32m--> 311\u001b[0;31m             \u001b[0;32mreturn\u001b[0m \u001b[0mfunc\u001b[0m\u001b[0;34m(\u001b[0m\u001b[0;34m*\u001b[0m\u001b[0margs\u001b[0m\u001b[0;34m,\u001b[0m \u001b[0;34m**\u001b[0m\u001b[0mkwargs\u001b[0m\u001b[0;34m)\u001b[0m\u001b[0;34m\u001b[0m\u001b[0;34m\u001b[0m\u001b[0m\n\u001b[0m\u001b[1;32m    312\u001b[0m \u001b[0;34m\u001b[0m\u001b[0m\n\u001b[1;32m    313\u001b[0m         \u001b[0;32mreturn\u001b[0m \u001b[0mwrapper\u001b[0m\u001b[0;34m\u001b[0m\u001b[0;34m\u001b[0m\u001b[0m\n",
            "\u001b[0;32m/usr/local/lib/python3.7/dist-packages/pandas/io/parsers/readers.py\u001b[0m in \u001b[0;36mread_csv\u001b[0;34m(filepath_or_buffer, sep, delimiter, header, names, index_col, usecols, squeeze, prefix, mangle_dupe_cols, dtype, engine, converters, true_values, false_values, skipinitialspace, skiprows, skipfooter, nrows, na_values, keep_default_na, na_filter, verbose, skip_blank_lines, parse_dates, infer_datetime_format, keep_date_col, date_parser, dayfirst, cache_dates, iterator, chunksize, compression, thousands, decimal, lineterminator, quotechar, quoting, doublequote, escapechar, comment, encoding, encoding_errors, dialect, error_bad_lines, warn_bad_lines, on_bad_lines, delim_whitespace, low_memory, memory_map, float_precision, storage_options)\u001b[0m\n\u001b[1;32m    584\u001b[0m     \u001b[0mkwds\u001b[0m\u001b[0;34m.\u001b[0m\u001b[0mupdate\u001b[0m\u001b[0;34m(\u001b[0m\u001b[0mkwds_defaults\u001b[0m\u001b[0;34m)\u001b[0m\u001b[0;34m\u001b[0m\u001b[0;34m\u001b[0m\u001b[0m\n\u001b[1;32m    585\u001b[0m \u001b[0;34m\u001b[0m\u001b[0m\n\u001b[0;32m--> 586\u001b[0;31m     \u001b[0;32mreturn\u001b[0m \u001b[0m_read\u001b[0m\u001b[0;34m(\u001b[0m\u001b[0mfilepath_or_buffer\u001b[0m\u001b[0;34m,\u001b[0m \u001b[0mkwds\u001b[0m\u001b[0;34m)\u001b[0m\u001b[0;34m\u001b[0m\u001b[0;34m\u001b[0m\u001b[0m\n\u001b[0m\u001b[1;32m    587\u001b[0m \u001b[0;34m\u001b[0m\u001b[0m\n\u001b[1;32m    588\u001b[0m \u001b[0;34m\u001b[0m\u001b[0m\n",
            "\u001b[0;32m/usr/local/lib/python3.7/dist-packages/pandas/io/parsers/readers.py\u001b[0m in \u001b[0;36m_read\u001b[0;34m(filepath_or_buffer, kwds)\u001b[0m\n\u001b[1;32m    480\u001b[0m \u001b[0;34m\u001b[0m\u001b[0m\n\u001b[1;32m    481\u001b[0m     \u001b[0;31m# Create the parser.\u001b[0m\u001b[0;34m\u001b[0m\u001b[0;34m\u001b[0m\u001b[0;34m\u001b[0m\u001b[0m\n\u001b[0;32m--> 482\u001b[0;31m     \u001b[0mparser\u001b[0m \u001b[0;34m=\u001b[0m \u001b[0mTextFileReader\u001b[0m\u001b[0;34m(\u001b[0m\u001b[0mfilepath_or_buffer\u001b[0m\u001b[0;34m,\u001b[0m \u001b[0;34m**\u001b[0m\u001b[0mkwds\u001b[0m\u001b[0;34m)\u001b[0m\u001b[0;34m\u001b[0m\u001b[0;34m\u001b[0m\u001b[0m\n\u001b[0m\u001b[1;32m    483\u001b[0m \u001b[0;34m\u001b[0m\u001b[0m\n\u001b[1;32m    484\u001b[0m     \u001b[0;32mif\u001b[0m \u001b[0mchunksize\u001b[0m \u001b[0;32mor\u001b[0m \u001b[0miterator\u001b[0m\u001b[0;34m:\u001b[0m\u001b[0;34m\u001b[0m\u001b[0;34m\u001b[0m\u001b[0m\n",
            "\u001b[0;32m/usr/local/lib/python3.7/dist-packages/pandas/io/parsers/readers.py\u001b[0m in \u001b[0;36m__init__\u001b[0;34m(self, f, engine, **kwds)\u001b[0m\n\u001b[1;32m    809\u001b[0m             \u001b[0mself\u001b[0m\u001b[0;34m.\u001b[0m\u001b[0moptions\u001b[0m\u001b[0;34m[\u001b[0m\u001b[0;34m\"has_index_names\"\u001b[0m\u001b[0;34m]\u001b[0m \u001b[0;34m=\u001b[0m \u001b[0mkwds\u001b[0m\u001b[0;34m[\u001b[0m\u001b[0;34m\"has_index_names\"\u001b[0m\u001b[0;34m]\u001b[0m\u001b[0;34m\u001b[0m\u001b[0;34m\u001b[0m\u001b[0m\n\u001b[1;32m    810\u001b[0m \u001b[0;34m\u001b[0m\u001b[0m\n\u001b[0;32m--> 811\u001b[0;31m         \u001b[0mself\u001b[0m\u001b[0;34m.\u001b[0m\u001b[0m_engine\u001b[0m \u001b[0;34m=\u001b[0m \u001b[0mself\u001b[0m\u001b[0;34m.\u001b[0m\u001b[0m_make_engine\u001b[0m\u001b[0;34m(\u001b[0m\u001b[0mself\u001b[0m\u001b[0;34m.\u001b[0m\u001b[0mengine\u001b[0m\u001b[0;34m)\u001b[0m\u001b[0;34m\u001b[0m\u001b[0;34m\u001b[0m\u001b[0m\n\u001b[0m\u001b[1;32m    812\u001b[0m \u001b[0;34m\u001b[0m\u001b[0m\n\u001b[1;32m    813\u001b[0m     \u001b[0;32mdef\u001b[0m \u001b[0mclose\u001b[0m\u001b[0;34m(\u001b[0m\u001b[0mself\u001b[0m\u001b[0;34m)\u001b[0m\u001b[0;34m:\u001b[0m\u001b[0;34m\u001b[0m\u001b[0;34m\u001b[0m\u001b[0m\n",
            "\u001b[0;32m/usr/local/lib/python3.7/dist-packages/pandas/io/parsers/readers.py\u001b[0m in \u001b[0;36m_make_engine\u001b[0;34m(self, engine)\u001b[0m\n\u001b[1;32m   1038\u001b[0m             )\n\u001b[1;32m   1039\u001b[0m         \u001b[0;31m# error: Too many arguments for \"ParserBase\"\u001b[0m\u001b[0;34m\u001b[0m\u001b[0;34m\u001b[0m\u001b[0;34m\u001b[0m\u001b[0m\n\u001b[0;32m-> 1040\u001b[0;31m         \u001b[0;32mreturn\u001b[0m \u001b[0mmapping\u001b[0m\u001b[0;34m[\u001b[0m\u001b[0mengine\u001b[0m\u001b[0;34m]\u001b[0m\u001b[0;34m(\u001b[0m\u001b[0mself\u001b[0m\u001b[0;34m.\u001b[0m\u001b[0mf\u001b[0m\u001b[0;34m,\u001b[0m \u001b[0;34m**\u001b[0m\u001b[0mself\u001b[0m\u001b[0;34m.\u001b[0m\u001b[0moptions\u001b[0m\u001b[0;34m)\u001b[0m  \u001b[0;31m# type: ignore[call-arg]\u001b[0m\u001b[0;34m\u001b[0m\u001b[0;34m\u001b[0m\u001b[0m\n\u001b[0m\u001b[1;32m   1041\u001b[0m \u001b[0;34m\u001b[0m\u001b[0m\n\u001b[1;32m   1042\u001b[0m     \u001b[0;32mdef\u001b[0m \u001b[0m_failover_to_python\u001b[0m\u001b[0;34m(\u001b[0m\u001b[0mself\u001b[0m\u001b[0;34m)\u001b[0m\u001b[0;34m:\u001b[0m\u001b[0;34m\u001b[0m\u001b[0;34m\u001b[0m\u001b[0m\n",
            "\u001b[0;32m/usr/local/lib/python3.7/dist-packages/pandas/io/parsers/c_parser_wrapper.py\u001b[0m in \u001b[0;36m__init__\u001b[0;34m(self, src, **kwds)\u001b[0m\n\u001b[1;32m     49\u001b[0m \u001b[0;34m\u001b[0m\u001b[0m\n\u001b[1;32m     50\u001b[0m         \u001b[0;31m# open handles\u001b[0m\u001b[0;34m\u001b[0m\u001b[0;34m\u001b[0m\u001b[0;34m\u001b[0m\u001b[0m\n\u001b[0;32m---> 51\u001b[0;31m         \u001b[0mself\u001b[0m\u001b[0;34m.\u001b[0m\u001b[0m_open_handles\u001b[0m\u001b[0;34m(\u001b[0m\u001b[0msrc\u001b[0m\u001b[0;34m,\u001b[0m \u001b[0mkwds\u001b[0m\u001b[0;34m)\u001b[0m\u001b[0;34m\u001b[0m\u001b[0;34m\u001b[0m\u001b[0m\n\u001b[0m\u001b[1;32m     52\u001b[0m         \u001b[0;32massert\u001b[0m \u001b[0mself\u001b[0m\u001b[0;34m.\u001b[0m\u001b[0mhandles\u001b[0m \u001b[0;32mis\u001b[0m \u001b[0;32mnot\u001b[0m \u001b[0;32mNone\u001b[0m\u001b[0;34m\u001b[0m\u001b[0;34m\u001b[0m\u001b[0m\n\u001b[1;32m     53\u001b[0m \u001b[0;34m\u001b[0m\u001b[0m\n",
            "\u001b[0;32m/usr/local/lib/python3.7/dist-packages/pandas/io/parsers/base_parser.py\u001b[0m in \u001b[0;36m_open_handles\u001b[0;34m(self, src, kwds)\u001b[0m\n\u001b[1;32m    227\u001b[0m             \u001b[0mmemory_map\u001b[0m\u001b[0;34m=\u001b[0m\u001b[0mkwds\u001b[0m\u001b[0;34m.\u001b[0m\u001b[0mget\u001b[0m\u001b[0;34m(\u001b[0m\u001b[0;34m\"memory_map\"\u001b[0m\u001b[0;34m,\u001b[0m \u001b[0;32mFalse\u001b[0m\u001b[0;34m)\u001b[0m\u001b[0;34m,\u001b[0m\u001b[0;34m\u001b[0m\u001b[0;34m\u001b[0m\u001b[0m\n\u001b[1;32m    228\u001b[0m             \u001b[0mstorage_options\u001b[0m\u001b[0;34m=\u001b[0m\u001b[0mkwds\u001b[0m\u001b[0;34m.\u001b[0m\u001b[0mget\u001b[0m\u001b[0;34m(\u001b[0m\u001b[0;34m\"storage_options\"\u001b[0m\u001b[0;34m,\u001b[0m \u001b[0;32mNone\u001b[0m\u001b[0;34m)\u001b[0m\u001b[0;34m,\u001b[0m\u001b[0;34m\u001b[0m\u001b[0;34m\u001b[0m\u001b[0m\n\u001b[0;32m--> 229\u001b[0;31m             \u001b[0merrors\u001b[0m\u001b[0;34m=\u001b[0m\u001b[0mkwds\u001b[0m\u001b[0;34m.\u001b[0m\u001b[0mget\u001b[0m\u001b[0;34m(\u001b[0m\u001b[0;34m\"encoding_errors\"\u001b[0m\u001b[0;34m,\u001b[0m \u001b[0;34m\"strict\"\u001b[0m\u001b[0;34m)\u001b[0m\u001b[0;34m,\u001b[0m\u001b[0;34m\u001b[0m\u001b[0;34m\u001b[0m\u001b[0m\n\u001b[0m\u001b[1;32m    230\u001b[0m         )\n\u001b[1;32m    231\u001b[0m \u001b[0;34m\u001b[0m\u001b[0m\n",
            "\u001b[0;32m/usr/local/lib/python3.7/dist-packages/pandas/io/common.py\u001b[0m in \u001b[0;36mget_handle\u001b[0;34m(path_or_buf, mode, encoding, compression, memory_map, is_text, errors, storage_options)\u001b[0m\n\u001b[1;32m    705\u001b[0m                 \u001b[0mencoding\u001b[0m\u001b[0;34m=\u001b[0m\u001b[0mioargs\u001b[0m\u001b[0;34m.\u001b[0m\u001b[0mencoding\u001b[0m\u001b[0;34m,\u001b[0m\u001b[0;34m\u001b[0m\u001b[0;34m\u001b[0m\u001b[0m\n\u001b[1;32m    706\u001b[0m                 \u001b[0merrors\u001b[0m\u001b[0;34m=\u001b[0m\u001b[0merrors\u001b[0m\u001b[0;34m,\u001b[0m\u001b[0;34m\u001b[0m\u001b[0;34m\u001b[0m\u001b[0m\n\u001b[0;32m--> 707\u001b[0;31m                 \u001b[0mnewline\u001b[0m\u001b[0;34m=\u001b[0m\u001b[0;34m\"\"\u001b[0m\u001b[0;34m,\u001b[0m\u001b[0;34m\u001b[0m\u001b[0;34m\u001b[0m\u001b[0m\n\u001b[0m\u001b[1;32m    708\u001b[0m             )\n\u001b[1;32m    709\u001b[0m         \u001b[0;32melse\u001b[0m\u001b[0;34m:\u001b[0m\u001b[0;34m\u001b[0m\u001b[0;34m\u001b[0m\u001b[0m\n",
            "\u001b[0;31mFileNotFoundError\u001b[0m: [Errno 2] No such file or directory: './dacon_data/train.csv'"
          ]
        }
      ],
      "source": [
        "import pandas as pd\n",
        "import numpy as np\n",
        "\n",
        "from sklearn.model_selection import train_test_split\n",
        "from sklearn.linear_model import LinearRegression\n",
        "from sklearn.tree import DecisionTreeRegressor\n",
        "\n",
        "import warnings\n",
        "warnings.simplefilter('ignore')\n",
        "warnings.filterwarnings('ignore')\n",
        "df_train=pd.read_csv('./dacon_data/train.csv')\n",
        "df_test=pd.read_csv('./dacon_data/test.csv')\n",
        "df_train['송하인_grid']=df_train['송하인_격자공간고유번호'].astype(str).apply(lambda x: x[:3]).astype(int)\n",
        "df_train['수하인_grid']=df_train['수하인_격자공간고유번호'].astype(str).apply(lambda x: x[:3]).astype(int)\n",
        "df_test['송하인_grid']=df_test['송하인_격자공간고유번호'].astype(str).apply(lambda x: x[:3]).astype(int)\n",
        "df_test['수하인_grid']=df_test['수하인_격자공간고유번호'].astype(str).apply(lambda x: x[:3]).astype(int)"
      ]
    },
    {
      "cell_type": "code",
      "execution_count": null,
      "metadata": {
        "id": "QnKYYCrn15oB"
      },
      "outputs": [],
      "source": [
        "df_train['송수_grid']=df_train['송하인_grid'].astype(str).str.cat(df_train['수하인_grid'].astype(str), sep=' - ')\n",
        "df_test['송수_grid']=df_test['송하인_grid'].astype(str).str.cat(df_test['수하인_grid'].astype(str), sep=' - ')"
      ]
    },
    {
      "cell_type": "code",
      "execution_count": null,
      "metadata": {
        "id": "RIBFBcCb15oB",
        "outputId": "84140ad7-bea1-4f91-9227-6b30f0fab2d0"
      },
      "outputs": [
        {
          "data": {
            "text/html": [
              "<div>\n",
              "<style scoped>\n",
              "    .dataframe tbody tr th:only-of-type {\n",
              "        vertical-align: middle;\n",
              "    }\n",
              "\n",
              "    .dataframe tbody tr th {\n",
              "        vertical-align: top;\n",
              "    }\n",
              "\n",
              "    .dataframe thead th {\n",
              "        text-align: right;\n",
              "    }\n",
              "</style>\n",
              "<table border=\"1\" class=\"dataframe\">\n",
              "  <thead>\n",
              "    <tr style=\"text-align: right;\">\n",
              "      <th></th>\n",
              "      <th>index</th>\n",
              "      <th>송하인_격자공간고유번호</th>\n",
              "      <th>수하인_격자공간고유번호</th>\n",
              "      <th>물품_카테고리</th>\n",
              "      <th>운송장_건수</th>\n",
              "      <th>송하인_grid</th>\n",
              "      <th>수하인_grid</th>\n",
              "      <th>송수_grid</th>\n",
              "    </tr>\n",
              "  </thead>\n",
              "  <tbody>\n",
              "    <tr>\n",
              "      <th>14316</th>\n",
              "      <td>14316</td>\n",
              "      <td>4223000062013100</td>\n",
              "      <td>5011000435058300</td>\n",
              "      <td>수산</td>\n",
              "      <td>3</td>\n",
              "      <td>422</td>\n",
              "      <td>501</td>\n",
              "      <td>422 - 501</td>\n",
              "    </tr>\n",
              "    <tr>\n",
              "      <th>15188</th>\n",
              "      <td>15188</td>\n",
              "      <td>3120000085064100</td>\n",
              "      <td>5011000265100400</td>\n",
              "      <td>기타식품</td>\n",
              "      <td>3</td>\n",
              "      <td>312</td>\n",
              "      <td>501</td>\n",
              "      <td>312 - 501</td>\n",
              "    </tr>\n",
              "    <tr>\n",
              "      <th>20364</th>\n",
              "      <td>20364</td>\n",
              "      <td>4223000062013100</td>\n",
              "      <td>5011000314094200</td>\n",
              "      <td>수산</td>\n",
              "      <td>5</td>\n",
              "      <td>422</td>\n",
              "      <td>501</td>\n",
              "      <td>422 - 501</td>\n",
              "    </tr>\n",
              "    <tr>\n",
              "      <th>20806</th>\n",
              "      <td>20806</td>\n",
              "      <td>4221000028003400</td>\n",
              "      <td>5013000926057200</td>\n",
              "      <td>기타패션의류</td>\n",
              "      <td>3</td>\n",
              "      <td>422</td>\n",
              "      <td>501</td>\n",
              "      <td>422 - 501</td>\n",
              "    </tr>\n",
              "  </tbody>\n",
              "</table>\n",
              "</div>"
            ],
            "text/plain": [
              "       index      송하인_격자공간고유번호      수하인_격자공간고유번호 물품_카테고리  운송장_건수  송하인_grid  \\\n",
              "14316  14316  4223000062013100  5011000435058300      수산       3       422   \n",
              "15188  15188  3120000085064100  5011000265100400    기타식품       3       312   \n",
              "20364  20364  4223000062013100  5011000314094200      수산       5       422   \n",
              "20806  20806  4221000028003400  5013000926057200  기타패션의류       3       422   \n",
              "\n",
              "       수하인_grid    송수_grid  \n",
              "14316       501  422 - 501  \n",
              "15188       501  312 - 501  \n",
              "20364       501  422 - 501  \n",
              "20806       501  422 - 501  "
            ]
          },
          "execution_count": 4,
          "metadata": {},
          "output_type": "execute_result"
        }
      ],
      "source": [
        "df_train[~df_train['송수_grid'].isin(df_test['송수_grid'].unique())].head()"
      ]
    },
    {
      "cell_type": "code",
      "execution_count": null,
      "metadata": {
        "id": "jjqZhsCR15oC",
        "outputId": "6f8f833a-d9d1-4126-c719-a07fb71988cc"
      },
      "outputs": [
        {
          "data": {
            "text/html": [
              "<div>\n",
              "<style scoped>\n",
              "    .dataframe tbody tr th:only-of-type {\n",
              "        vertical-align: middle;\n",
              "    }\n",
              "\n",
              "    .dataframe tbody tr th {\n",
              "        vertical-align: top;\n",
              "    }\n",
              "\n",
              "    .dataframe thead th {\n",
              "        text-align: right;\n",
              "    }\n",
              "</style>\n",
              "<table border=\"1\" class=\"dataframe\">\n",
              "  <thead>\n",
              "    <tr style=\"text-align: right;\">\n",
              "      <th></th>\n",
              "      <th>index</th>\n",
              "      <th>송하인_격자공간고유번호</th>\n",
              "      <th>수하인_격자공간고유번호</th>\n",
              "      <th>물품_카테고리</th>\n",
              "      <th>송하인_grid</th>\n",
              "      <th>수하인_grid</th>\n",
              "      <th>송수_grid</th>\n",
              "    </tr>\n",
              "  </thead>\n",
              "  <tbody>\n",
              "  </tbody>\n",
              "</table>\n",
              "</div>"
            ],
            "text/plain": [
              "Empty DataFrame\n",
              "Columns: [index, 송하인_격자공간고유번호, 수하인_격자공간고유번호, 물품_카테고리, 송하인_grid, 수하인_grid, 송수_grid]\n",
              "Index: []"
            ]
          },
          "execution_count": 5,
          "metadata": {},
          "output_type": "execute_result"
        }
      ],
      "source": [
        "df_test[~df_test['송수_grid'].isin(df_train['송수_grid'].unique())] #즉, test에 대해 학습이 가능한 column을 만들었다."
      ]
    },
    {
      "cell_type": "code",
      "execution_count": null,
      "metadata": {
        "id": "oC0Ua48d15oD"
      },
      "outputs": [],
      "source": [
        "df_train['거래목록']=df_train['송수_grid'].str.cat(df_train['물품_카테고리'], sep=' , ')\n",
        "df_test['거래목록']=df_test['송수_grid'].str.cat(df_test['물품_카테고리'], sep=' , ')"
      ]
    },
    {
      "cell_type": "code",
      "execution_count": null,
      "metadata": {
        "id": "FgUjR_ZZ15oD",
        "outputId": "8abbb043-e82a-4019-ec27-49f2359222cf",
        "colab": {
          "base_uri": "https://localhost:8080/",
          "height": 191
        }
      },
      "outputs": [
        {
          "output_type": "error",
          "ename": "NameError",
          "evalue": "ignored",
          "traceback": [
            "\u001b[0;31m---------------------------------------------------------------------------\u001b[0m",
            "\u001b[0;31mNameError\u001b[0m                                 Traceback (most recent call last)",
            "\u001b[0;32m<ipython-input-2-aaff9cdba399>\u001b[0m in \u001b[0;36m<module>\u001b[0;34m()\u001b[0m\n\u001b[0;32m----> 1\u001b[0;31m \u001b[0mdf_cat\u001b[0m\u001b[0;34m=\u001b[0m\u001b[0mdf_train\u001b[0m\u001b[0;34m.\u001b[0m\u001b[0mcopy\u001b[0m\u001b[0;34m(\u001b[0m\u001b[0;34m)\u001b[0m \u001b[0;31m#학습용 dataset\u001b[0m\u001b[0;34m\u001b[0m\u001b[0;34m\u001b[0m\u001b[0m\n\u001b[0m\u001b[1;32m      2\u001b[0m \u001b[0mdf_cat\u001b[0m\u001b[0;34m.\u001b[0m\u001b[0mcolumns\u001b[0m\u001b[0;34m\u001b[0m\u001b[0;34m\u001b[0m\u001b[0m\n",
            "\u001b[0;31mNameError\u001b[0m: name 'df_train' is not defined"
          ]
        }
      ],
      "source": [
        "df_cat=df_train.copy() #학습용 dataset\n",
        "df_cat.columns"
      ]
    },
    {
      "cell_type": "code",
      "execution_count": null,
      "metadata": {
        "id": "e7VwOUk215oD"
      },
      "outputs": [],
      "source": [
        "remove_cols=['index', '송하인_격자공간고유번호', '수하인_격자공간고유번호', '송수_grid', '거래목록']\n",
        "df_cat=df_cat.drop(remove_cols, axis=1, inplace=False)\n",
        "df_cat_test=df_test.copy()\n",
        "df_cat_test=df_cat_test.drop(remove_cols, axis=1, inplace=False) #시험용 dataset"
      ]
    },
    {
      "cell_type": "code",
      "execution_count": null,
      "metadata": {
        "id": "nDnEu_dA15oE",
        "outputId": "b00149b1-93d5-4a6e-903d-a0712e5be0e0"
      },
      "outputs": [
        {
          "name": "stdout",
          "output_type": "stream",
          "text": [
            "using catboost\n"
          ]
        }
      ],
      "source": [
        "from sklearn.model_selection import StratifiedKFold\n",
        "from catboost import CatBoostRegressor\n",
        "# K Fold 및 기본 데이터 준비 \n",
        "x_train=df_cat.drop(['운송장_건수'], axis=1, inplace=False)\n",
        "y_train=df_cat['운송장_건수']\n",
        "\n",
        "\n",
        "folds = StratifiedKFold(n_splits = 5, shuffle = True, random_state = 511) \n",
        "oof_preds = np.zeros(df_cat.shape[0])\n",
        "\n",
        "# catboost 이용 \n",
        "print(\"using catboost\") \n",
        "sub_preds_catboost = np.zeros(df_cat_test.shape[0])\n"
      ]
    },
    {
      "cell_type": "code",
      "execution_count": null,
      "metadata": {
        "id": "07E1uR4m15oF",
        "outputId": "d12a6081-ba1d-479e-9e0c-a8f06d41ae58"
      },
      "outputs": [
        {
          "name": "stderr",
          "output_type": "stream",
          "text": [
            "Warning: Overfitting detector is active, thus evaluation metric is calculated on every iteration. 'metric_period' is ignored for evaluation metric.\n"
          ]
        },
        {
          "name": "stdout",
          "output_type": "stream",
          "text": [
            "0:\tlearn: 6.8188888\ttest: 6.4445104\tbest: 6.4445104 (0)\ttotal: 69.7ms\tremaining: 1m 9s\n",
            "50:\tlearn: 6.6377486\ttest: 6.2908028\tbest: 6.2908028 (50)\ttotal: 750ms\tremaining: 13.9s\n",
            "100:\tlearn: 6.5827872\ttest: 6.2656556\tbest: 6.2656556 (100)\ttotal: 1.41s\tremaining: 12.5s\n",
            "150:\tlearn: 6.5286270\ttest: 6.2503498\tbest: 6.2474250 (130)\ttotal: 2.04s\tremaining: 11.5s\n",
            "Stopped by overfitting detector  (45 iterations wait)\n",
            "\n",
            "bestTest = 6.247425028\n",
            "bestIteration = 130\n",
            "\n",
            "Shrink model to first 131 iterations.\n",
            "0:\tlearn: 6.1634591\ttest: 8.6910318\tbest: 8.6910318 (0)\ttotal: 16.9ms\tremaining: 16.9s\n"
          ]
        },
        {
          "name": "stderr",
          "output_type": "stream",
          "text": [
            "Warning: Overfitting detector is active, thus evaluation metric is calculated on every iteration. 'metric_period' is ignored for evaluation metric.\n"
          ]
        },
        {
          "name": "stdout",
          "output_type": "stream",
          "text": [
            "50:\tlearn: 6.0655535\ttest: 8.6137421\tbest: 8.6135907 (46)\ttotal: 663ms\tremaining: 12.3s\n",
            "100:\tlearn: 6.0338218\ttest: 8.5658457\tbest: 8.5658457 (100)\ttotal: 1.31s\tremaining: 11.7s\n",
            "150:\tlearn: 6.0096021\ttest: 8.5407344\tbest: 8.5404026 (147)\ttotal: 1.93s\tremaining: 10.9s\n",
            "200:\tlearn: 5.9920960\ttest: 8.5328177\tbest: 8.5328177 (200)\ttotal: 2.53s\tremaining: 10.1s\n",
            "250:\tlearn: 5.9782880\ttest: 8.5229635\tbest: 8.5226932 (247)\ttotal: 3.15s\tremaining: 9.38s\n",
            "300:\tlearn: 5.9553654\ttest: 8.5018169\tbest: 8.5012469 (294)\ttotal: 3.78s\tremaining: 8.79s\n",
            "350:\tlearn: 5.9447665\ttest: 8.4981920\tbest: 8.4975318 (347)\ttotal: 4.4s\tremaining: 8.14s\n",
            "400:\tlearn: 5.9314137\ttest: 8.4828759\tbest: 8.4827643 (398)\ttotal: 5.01s\tremaining: 7.48s\n",
            "450:\tlearn: 5.9217675\ttest: 8.4805462\tbest: 8.4769358 (407)\ttotal: 5.61s\tremaining: 6.83s\n",
            "Stopped by overfitting detector  (45 iterations wait)\n",
            "\n",
            "bestTest = 8.476935769\n",
            "bestIteration = 407\n",
            "\n",
            "Shrink model to first 408 iterations.\n",
            "0:\tlearn: 6.8731578\ttest: 6.1923763\tbest: 6.1923763 (0)\ttotal: 14.5ms\tremaining: 14.5s\n"
          ]
        },
        {
          "name": "stderr",
          "output_type": "stream",
          "text": [
            "Warning: Overfitting detector is active, thus evaluation metric is calculated on every iteration. 'metric_period' is ignored for evaluation metric.\n"
          ]
        },
        {
          "name": "stdout",
          "output_type": "stream",
          "text": [
            "50:\tlearn: 6.6709165\ttest: 6.1014790\tbest: 6.0938107 (41)\ttotal: 636ms\tremaining: 11.8s\n",
            "Stopped by overfitting detector  (45 iterations wait)\n",
            "\n",
            "bestTest = 6.093810704\n",
            "bestIteration = 41\n",
            "\n",
            "Shrink model to first 42 iterations.\n",
            "0:\tlearn: 7.0161055\ttest: 5.5231686\tbest: 5.5231686 (0)\ttotal: 18.1ms\tremaining: 18.1s\n"
          ]
        },
        {
          "name": "stderr",
          "output_type": "stream",
          "text": [
            "Warning: Overfitting detector is active, thus evaluation metric is calculated on every iteration. 'metric_period' is ignored for evaluation metric.\n"
          ]
        },
        {
          "name": "stdout",
          "output_type": "stream",
          "text": [
            "50:\tlearn: 6.8554820\ttest: 5.4682927\tbest: 5.4560427 (21)\ttotal: 655ms\tremaining: 12.2s\n",
            "Stopped by overfitting detector  (45 iterations wait)\n",
            "\n",
            "bestTest = 5.456042736\n",
            "bestIteration = 21\n",
            "\n",
            "Shrink model to first 22 iterations.\n",
            "0:\tlearn: 6.8172307\ttest: 6.4430648\tbest: 6.4430648 (0)\ttotal: 15.7ms\tremaining: 15.7s\n"
          ]
        },
        {
          "name": "stderr",
          "output_type": "stream",
          "text": [
            "Warning: Overfitting detector is active, thus evaluation metric is calculated on every iteration. 'metric_period' is ignored for evaluation metric.\n"
          ]
        },
        {
          "name": "stdout",
          "output_type": "stream",
          "text": [
            "50:\tlearn: 6.6712555\ttest: 6.2119236\tbest: 6.2119236 (50)\ttotal: 636ms\tremaining: 11.8s\n",
            "100:\tlearn: 6.6332200\ttest: 6.1615890\tbest: 6.1615890 (100)\ttotal: 1.24s\tremaining: 11s\n",
            "150:\tlearn: 6.6134652\ttest: 6.1450442\tbest: 6.1450427 (149)\ttotal: 1.84s\tremaining: 10.4s\n",
            "200:\tlearn: 6.5942311\ttest: 6.1338612\tbest: 6.1317126 (188)\ttotal: 2.42s\tremaining: 9.6s\n",
            "250:\tlearn: 6.5825551\ttest: 6.1286331\tbest: 6.1277060 (240)\ttotal: 3s\tremaining: 8.94s\n",
            "300:\tlearn: 6.5692339\ttest: 6.1251588\tbest: 6.1239598 (282)\ttotal: 3.57s\tremaining: 8.28s\n",
            "350:\tlearn: 6.5578785\ttest: 6.1174506\tbest: 6.1172928 (348)\ttotal: 4.15s\tremaining: 7.68s\n",
            "400:\tlearn: 6.5397831\ttest: 6.1154245\tbest: 6.1093978 (355)\ttotal: 4.75s\tremaining: 7.09s\n",
            "Stopped by overfitting detector  (45 iterations wait)\n",
            "\n",
            "bestTest = 6.109397849\n",
            "bestIteration = 355\n",
            "\n",
            "Shrink model to first 356 iterations.\n"
          ]
        }
      ],
      "source": [
        "for n_fold, (trn_idx, val_idx) in enumerate(folds.split(df_cat, df_cat['운송장_건수'])) : \n",
        "    trn_x, trn_y = x_train.iloc[trn_idx], y_train.iloc[trn_idx]\n",
        "    val_x, val_y = x_train.iloc[val_idx], y_train.iloc[val_idx]\n",
        "    #oof_preds_catboost = np.zeros(val_y.shape[0])\n",
        "    cb_model = CatBoostRegressor(iterations=1000,\n",
        "                                 learning_rate=0.1,\n",
        "                                 depth=4,\n",
        "                                 l2_leaf_reg=20,\n",
        "                                 bootstrap_type='Bernoulli',\n",
        "                                 subsample=0.6,\n",
        "                                 eval_metric='RMSE',\n",
        "                                 metric_period=50,\n",
        "                                 od_type='Iter',\n",
        "                                 od_wait=45,\n",
        "                                 random_seed=17,\n",
        "                                 allow_writing_files=False)\n",
        "    cb_model.fit(trn_x, trn_y, eval_set=(val_x, val_y), cat_features=['물품_카테고리'], use_best_model=True, verbose=True)\n",
        "    #oof_preds_catboost[val_idx] = cb_model.predict(val_x)\n",
        "    sub_preds_catboost += cb_model.predict(df_cat_test) / folds.n_splits\n"
      ]
    },
    {
      "cell_type": "code",
      "execution_count": null,
      "metadata": {
        "id": "56aS0uq-15oF",
        "outputId": "a65ecbcb-7bf6-4063-9bcd-38656cb31451"
      },
      "outputs": [
        {
          "data": {
            "text/plain": [
              "array([5.44373783, 5.65467802, 5.85152653, ..., 4.11285451, 4.25377107,\n",
              "       5.21755963])"
            ]
          },
          "execution_count": 11,
          "metadata": {},
          "output_type": "execute_result"
        }
      ],
      "source": [
        "sub_preds_catboost"
      ]
    },
    {
      "cell_type": "code",
      "execution_count": null,
      "metadata": {
        "id": "XjYQygWs15oG",
        "outputId": "e9a4b49b-539e-41d2-fb81-fa6bc4ef4f3b"
      },
      "outputs": [
        {
          "data": {
            "text/html": [
              "<div>\n",
              "<style scoped>\n",
              "    .dataframe tbody tr th:only-of-type {\n",
              "        vertical-align: middle;\n",
              "    }\n",
              "\n",
              "    .dataframe tbody tr th {\n",
              "        vertical-align: top;\n",
              "    }\n",
              "\n",
              "    .dataframe thead th {\n",
              "        text-align: right;\n",
              "    }\n",
              "</style>\n",
              "<table border=\"1\" class=\"dataframe\">\n",
              "  <thead>\n",
              "    <tr style=\"text-align: right;\">\n",
              "      <th></th>\n",
              "      <th>index</th>\n",
              "      <th>운송장_건수</th>\n",
              "    </tr>\n",
              "  </thead>\n",
              "  <tbody>\n",
              "    <tr>\n",
              "      <th>0</th>\n",
              "      <td>0</td>\n",
              "      <td>0</td>\n",
              "    </tr>\n",
              "    <tr>\n",
              "      <th>1</th>\n",
              "      <td>1</td>\n",
              "      <td>0</td>\n",
              "    </tr>\n",
              "    <tr>\n",
              "      <th>2</th>\n",
              "      <td>2</td>\n",
              "      <td>0</td>\n",
              "    </tr>\n",
              "    <tr>\n",
              "      <th>3</th>\n",
              "      <td>3</td>\n",
              "      <td>0</td>\n",
              "    </tr>\n",
              "    <tr>\n",
              "      <th>4</th>\n",
              "      <td>4</td>\n",
              "      <td>0</td>\n",
              "    </tr>\n",
              "  </tbody>\n",
              "</table>\n",
              "</div>"
            ],
            "text/plain": [
              "   index  운송장_건수\n",
              "0      0       0\n",
              "1      1       0\n",
              "2      2       0\n",
              "3      3       0\n",
              "4      4       0"
            ]
          },
          "execution_count": 12,
          "metadata": {},
          "output_type": "execute_result"
        }
      ],
      "source": [
        "submission=pd.read_csv('./dacon_data/sample_submission.csv')\n",
        "submission.head()"
      ]
    },
    {
      "cell_type": "code",
      "execution_count": null,
      "metadata": {
        "id": "QrOvb3Fj15oG",
        "outputId": "c3d0bf07-8785-45c3-de74-56212a241c05"
      },
      "outputs": [
        {
          "data": {
            "text/html": [
              "<div>\n",
              "<style scoped>\n",
              "    .dataframe tbody tr th:only-of-type {\n",
              "        vertical-align: middle;\n",
              "    }\n",
              "\n",
              "    .dataframe tbody tr th {\n",
              "        vertical-align: top;\n",
              "    }\n",
              "\n",
              "    .dataframe thead th {\n",
              "        text-align: right;\n",
              "    }\n",
              "</style>\n",
              "<table border=\"1\" class=\"dataframe\">\n",
              "  <thead>\n",
              "    <tr style=\"text-align: right;\">\n",
              "      <th></th>\n",
              "      <th>index</th>\n",
              "      <th>운송장_건수</th>\n",
              "    </tr>\n",
              "  </thead>\n",
              "  <tbody>\n",
              "    <tr>\n",
              "      <th>0</th>\n",
              "      <td>0</td>\n",
              "      <td>5.443738</td>\n",
              "    </tr>\n",
              "    <tr>\n",
              "      <th>1</th>\n",
              "      <td>1</td>\n",
              "      <td>5.654678</td>\n",
              "    </tr>\n",
              "    <tr>\n",
              "      <th>2</th>\n",
              "      <td>2</td>\n",
              "      <td>5.851527</td>\n",
              "    </tr>\n",
              "    <tr>\n",
              "      <th>3</th>\n",
              "      <td>3</td>\n",
              "      <td>5.454960</td>\n",
              "    </tr>\n",
              "    <tr>\n",
              "      <th>4</th>\n",
              "      <td>4</td>\n",
              "      <td>4.521766</td>\n",
              "    </tr>\n",
              "  </tbody>\n",
              "</table>\n",
              "</div>"
            ],
            "text/plain": [
              "   index    운송장_건수\n",
              "0      0  5.443738\n",
              "1      1  5.654678\n",
              "2      2  5.851527\n",
              "3      3  5.454960\n",
              "4      4  4.521766"
            ]
          },
          "execution_count": 14,
          "metadata": {},
          "output_type": "execute_result"
        }
      ],
      "source": [
        "submission['운송장_건수']=sub_preds_catboost\n",
        "submission.head()"
      ]
    },
    {
      "cell_type": "code",
      "execution_count": null,
      "metadata": {
        "id": "I4rytrkn15oH"
      },
      "outputs": [],
      "source": [
        "submission.to_csv('./dacon_data/catboost_regressor_1st.csv', index=False)"
      ]
    }
  ],
  "metadata": {
    "kernelspec": {
      "display_name": "Python 3",
      "language": "python",
      "name": "python3"
    },
    "language_info": {
      "codemirror_mode": {
        "name": "ipython",
        "version": 3
      },
      "file_extension": ".py",
      "mimetype": "text/x-python",
      "name": "python",
      "nbconvert_exporter": "python",
      "pygments_lexer": "ipython3",
      "version": "3.7.1"
    },
    "colab": {
      "name": "데이콘_스쿨 3기 과제 (Catboostregressor 활용) public_6.0247.ipynb",
      "provenance": [],
      "include_colab_link": true
    }
  },
  "nbformat": 4,
  "nbformat_minor": 0
}