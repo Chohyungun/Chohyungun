{
  "nbformat": 4,
  "nbformat_minor": 0,
  "metadata": {
    "colab": {
      "name": "스터디_3장_평가.ipynb",
      "provenance": [],
      "collapsed_sections": [],
      "mount_file_id": "175t-vfC5wc_X6oc01ciXrN10VYQ07imP",
      "authorship_tag": "ABX9TyOH/0r7rR8JXCmEkfM43OyY",
      "include_colab_link": true
    },
    "kernelspec": {
      "name": "python3",
      "display_name": "Python 3"
    },
    "language_info": {
      "name": "python"
    }
  },
  "cells": [
    {
      "cell_type": "markdown",
      "metadata": {
        "id": "view-in-github",
        "colab_type": "text"
      },
      "source": [
        "<a href=\"https://colab.research.google.com/github/Chohyungun/Chohyungun/blob/Dais/%EC%8A%A4%ED%84%B0%EB%94%94_3%EC%9E%A5_%ED%8F%89%EA%B0%80.ipynb\" target=\"_parent\"><img src=\"https://colab.research.google.com/assets/colab-badge.svg\" alt=\"Open In Colab\"/></a>"
      ]
    },
    {
      "cell_type": "markdown",
      "source": [
        "#**3장 평가**\n"
      ],
      "metadata": {
        "id": "hXgwocztALDw"
      }
    },
    {
      "cell_type": "markdown",
      "source": [
        "- 머신러닝 프로세스 구성\n",
        "1. 데이터 가공/변환\n",
        "2. 모델 학습/예측\n",
        "3. **평가**\n",
        "\n",
        "※ 평가 방법 예시 -> 성능평가지표(Evaluation Metrix)\n"
      ],
      "metadata": {
        "id": "LWL7gsHRAn4V"
      }
    },
    {
      "cell_type": "markdown",
      "source": [
        "#### 성능평가지표\n",
        "- 모델이 분류/회귀의 여부에 따라 여러 종류로 나뉜다\n",
        "1. 분류: 일반적으로는 실제와 예측 데이터의 정확성과 오류 빈도가 얼마나 적은지에 따라 달림(but 단순 정확도 문제만은 아님)\n",
        "2. 회귀: 실제값과 예측값의 오차 평균값 기반함"
      ],
      "metadata": {
        "id": "N9l4T6ZvBiP1"
      }
    },
    {
      "cell_type": "markdown",
      "source": [
        "- 분류의 성능평가 지표\n",
        "1. 정확도(Accuracy)\n",
        "2. 오차행렬(Confusion Matrix)\n",
        "3. 정밀도(Precision)\n",
        "4. 재현율(Recall)\n",
        "5. F1 스코어\n",
        "6. ROC AUC"
      ],
      "metadata": {
        "id": "s5YqpvOqCsCt"
      }
    },
    {
      "cell_type": "markdown",
      "source": [
        "- 분류의 종류\n",
        "1. **이진 분류**: 긍정/부정과 같은 2개의 결과값(성능평가지표에서 강조)\n",
        "2. 멀티 분류: 여러개의 결정 클래스"
      ],
      "metadata": {
        "id": "9SmSwS_eDC1t"
      }
    },
    {
      "cell_type": "markdown",
      "source": [
        "## **1. 정확도**\n",
        "- 실제 데이터에서 예측데이터가 얼마나 같은지 판단하는 지표\n",
        "- 정확도 = 예측 결과가 동일한 데이터 건수 / 전체 예측 데이터 건수\n",
        "- 정확도는 직관적으로 모델 예측 성능을 나타냄\n",
        "- 하지만 ML 모델의 성능을 왜곡할 수 있음"
      ],
      "metadata": {
        "id": "y9BlTjygAC5z"
      }
    },
    {
      "cell_type": "code",
      "execution_count": null,
      "metadata": {
        "id": "Q1b7BAex_lO5"
      },
      "outputs": [],
      "source": [
        "# 단순히 Sex 피처가 1이면 0, 그렇지 않으면 1로 예측하는 단순 Classifier\n",
        "from sklearn.base import BaseEstimator\n",
        "\n",
        "class MyDummyClassifier(BaseEstimator):\n",
        "  #fit() 메서드는 아무것도 학습하지 않음\n",
        "  def fit(self, X, y=None):\n",
        "    pass\n",
        "  \n",
        "  #predict() 메서드는 단순히 Sex 피처가 1이면 0, 그렇지 않으면 1로 예측함\n",
        "  def predict(self, X):\n",
        "    pred = np.zeros((X.shape[0],1))\n",
        "    for i in range(X.shape[0]):\n",
        "      if X['Sex'].iloc[i]==1:\n",
        "        pred[i]=0\n",
        "      else:\n",
        "        pred[i]=1\n",
        "      return pred"
      ]
    },
    {
      "cell_type": "code",
      "source": [
        "# Download the Titanic dataset\n",
        "!gdown --id 1J9k6l2kzJ_VoWt9Epqy1qlKnMJ_mcTnR\n",
        "data_path = '/content/train.csv'\n",
        "from google.colab import drive\n",
        "drive.mount('/content/drive')"
      ],
      "metadata": {
        "colab": {
          "base_uri": "https://localhost:8080/"
        },
        "id": "CdwwocaRJIeM",
        "outputId": "b4515904-b48a-4cd4-c3b6-7e3d98ca5d56"
      },
      "execution_count": null,
      "outputs": [
        {
          "output_type": "stream",
          "name": "stdout",
          "text": [
            "Downloading...\n",
            "From: https://drive.google.com/uc?id=1J9k6l2kzJ_VoWt9Epqy1qlKnMJ_mcTnR\n",
            "To: /content/train.csv\n",
            "\r  0% 0.00/61.2k [00:00<?, ?B/s]\r100% 61.2k/61.2k [00:00<00:00, 42.4MB/s]\n",
            "Drive already mounted at /content/drive; to attempt to forcibly remount, call drive.mount(\"/content/drive\", force_remount=True).\n"
          ]
        }
      ]
    },
    {
      "cell_type": "markdown",
      "source": [
        "### Q1\n",
        "- 왜 정확도가 일치하지 않는가?\n",
        "- 교재에 transform_features이 정의되지 않은 이유는??"
      ],
      "metadata": {
        "id": "SW8goYsLOHSc"
      }
    },
    {
      "cell_type": "code",
      "source": [
        "## 생성된 MyDummyClassifier를 이용해 타이타닉 생존자 예측 수행\n",
        "\n",
        "from sklearn.model_selection import train_test_split\n",
        "from sklearn.metrics import accuracy_score\n",
        "## Null 처리 함수\n",
        "def fillna(df):\n",
        "    df['Age'].fillna(df['Age'].mean(), inplace=True)\n",
        "    df['Cabin'].fillna('N', inplace=True)\n",
        "    df['Embarked'].fillna('N', inplace=True)\n",
        "    df['Fare'].fillna(0, inplace=True)\n",
        "    return df\n",
        "\n",
        "## 머신러닝에 불필요한 피처 제거\n",
        "def drop_features(df):\n",
        "    df.drop(['PassengerId', 'Name', 'Ticket'], axis=1, inplace=True)\n",
        "    return df\n",
        "\n",
        "## Label Encoding 수행\n",
        "def format_features(df):\n",
        "    df['Cabin'] = df['Cabin'].str[:1]\n",
        "    features = ['Cabin', 'Sex', 'Embarked']\n",
        "    for feature in features:\n",
        "        le = LabelEncoder()\n",
        "        le.fit(df[feature])\n",
        "        df[feature] = le.transform(df[feature])\n",
        "    return df\n",
        "\n",
        "## 앞에서 실행한 Data Preprocessing 함수 호출\n",
        "def transform_features(df):\n",
        "    df = fillna(df)\n",
        "    df = drop_features(df)\n",
        "    df = format_features(df)\n",
        "    return df"
      ],
      "metadata": {
        "id": "VuorLu5NMAB8"
      },
      "execution_count": null,
      "outputs": []
    },
    {
      "cell_type": "code",
      "source": [
        "# 생성된 MyDummyClassifier를 이용해 타이타닉 생존자 예측 수행\n",
        "import pandas as pd\n",
        "import numpy as np\n",
        "from sklearn.model_selection import train_test_split\n",
        "from sklearn.metrics import accuracy_score\n",
        "\n",
        "#원본 데이터를 재로딩, 데이터 가공, 학습 데이터/테스트 데이터 분할\n",
        "titanic_df = pd.read_csv(data_path)\n",
        "y_titanic_df = titanic_df['Survived']\n",
        "X_titanic_df = titanic_df.drop(['Survived'], axis=1)\n",
        "X_titanic_df = transform_features(X_titanic_df)\n",
        "X_train, X_test, y_train, y_test = train_test_split(X_titanic_df, y_titanic_df, test_size=0.2, random_state=0)\n",
        "\n",
        "# 위에서 생성한 Dummy Classifier를 이용해 학습/예측/평가 수행\n",
        "myclf = MyDummyClassifier()\n",
        "myclf.fit(X_train, y_train)\n",
        "mypredictions =myclf.predict(X_test)\n",
        "print('Dummy Classifier의 정확도는: {0:.4f}'.format(accuracy_score(y_test,mypredictions)))"
      ],
      "metadata": {
        "colab": {
          "base_uri": "https://localhost:8080/",
          "height": 400
        },
        "id": "HKZQ5y2xACtV",
        "outputId": "d8836861-cd72-46ac-e9e7-cbbf5300bfbc"
      },
      "execution_count": null,
      "outputs": [
        {
          "output_type": "error",
          "ename": "NameError",
          "evalue": "ignored",
          "traceback": [
            "\u001b[0;31m---------------------------------------------------------------------------\u001b[0m",
            "\u001b[0;31mNameError\u001b[0m                                 Traceback (most recent call last)",
            "\u001b[0;32m<ipython-input-7-126dc12b7fba>\u001b[0m in \u001b[0;36m<module>\u001b[0;34m()\u001b[0m\n\u001b[1;32m      9\u001b[0m \u001b[0my_titanic_df\u001b[0m \u001b[0;34m=\u001b[0m \u001b[0mtitanic_df\u001b[0m\u001b[0;34m[\u001b[0m\u001b[0;34m'Survived'\u001b[0m\u001b[0;34m]\u001b[0m\u001b[0;34m\u001b[0m\u001b[0;34m\u001b[0m\u001b[0m\n\u001b[1;32m     10\u001b[0m \u001b[0mX_titanic_df\u001b[0m \u001b[0;34m=\u001b[0m \u001b[0mtitanic_df\u001b[0m\u001b[0;34m.\u001b[0m\u001b[0mdrop\u001b[0m\u001b[0;34m(\u001b[0m\u001b[0;34m[\u001b[0m\u001b[0;34m'Survived'\u001b[0m\u001b[0;34m]\u001b[0m\u001b[0;34m,\u001b[0m \u001b[0maxis\u001b[0m\u001b[0;34m=\u001b[0m\u001b[0;36m1\u001b[0m\u001b[0;34m)\u001b[0m\u001b[0;34m\u001b[0m\u001b[0;34m\u001b[0m\u001b[0m\n\u001b[0;32m---> 11\u001b[0;31m \u001b[0mX_titanic_df\u001b[0m \u001b[0;34m=\u001b[0m \u001b[0mtransform_features\u001b[0m\u001b[0;34m(\u001b[0m\u001b[0mX_titanic_df\u001b[0m\u001b[0;34m)\u001b[0m\u001b[0;34m\u001b[0m\u001b[0;34m\u001b[0m\u001b[0m\n\u001b[0m\u001b[1;32m     12\u001b[0m \u001b[0mX_train\u001b[0m\u001b[0;34m,\u001b[0m \u001b[0mX_test\u001b[0m\u001b[0;34m,\u001b[0m \u001b[0my_train\u001b[0m\u001b[0;34m,\u001b[0m \u001b[0my_test\u001b[0m \u001b[0;34m=\u001b[0m \u001b[0mtrain_test_split\u001b[0m\u001b[0;34m(\u001b[0m\u001b[0mX_titanic_df\u001b[0m\u001b[0;34m,\u001b[0m \u001b[0my_titanic_df\u001b[0m\u001b[0;34m,\u001b[0m \u001b[0mtest_size\u001b[0m\u001b[0;34m=\u001b[0m\u001b[0;36m0.2\u001b[0m\u001b[0;34m,\u001b[0m \u001b[0mrandom_state\u001b[0m\u001b[0;34m=\u001b[0m\u001b[0;36m0\u001b[0m\u001b[0;34m)\u001b[0m\u001b[0;34m\u001b[0m\u001b[0;34m\u001b[0m\u001b[0m\n\u001b[1;32m     13\u001b[0m \u001b[0;34m\u001b[0m\u001b[0m\n",
            "\u001b[0;32m<ipython-input-6-b54c50554eb3>\u001b[0m in \u001b[0;36mtransform_features\u001b[0;34m(df)\u001b[0m\n\u001b[1;32m     30\u001b[0m     \u001b[0mdf\u001b[0m \u001b[0;34m=\u001b[0m \u001b[0mfillna\u001b[0m\u001b[0;34m(\u001b[0m\u001b[0mdf\u001b[0m\u001b[0;34m)\u001b[0m\u001b[0;34m\u001b[0m\u001b[0;34m\u001b[0m\u001b[0m\n\u001b[1;32m     31\u001b[0m     \u001b[0mdf\u001b[0m \u001b[0;34m=\u001b[0m \u001b[0mdrop_features\u001b[0m\u001b[0;34m(\u001b[0m\u001b[0mdf\u001b[0m\u001b[0;34m)\u001b[0m\u001b[0;34m\u001b[0m\u001b[0;34m\u001b[0m\u001b[0m\n\u001b[0;32m---> 32\u001b[0;31m     \u001b[0mdf\u001b[0m \u001b[0;34m=\u001b[0m \u001b[0mformat_features\u001b[0m\u001b[0;34m(\u001b[0m\u001b[0mdf\u001b[0m\u001b[0;34m)\u001b[0m\u001b[0;34m\u001b[0m\u001b[0;34m\u001b[0m\u001b[0m\n\u001b[0m\u001b[1;32m     33\u001b[0m     \u001b[0;32mreturn\u001b[0m \u001b[0mdf\u001b[0m\u001b[0;34m\u001b[0m\u001b[0;34m\u001b[0m\u001b[0m\n",
            "\u001b[0;32m<ipython-input-6-b54c50554eb3>\u001b[0m in \u001b[0;36mformat_features\u001b[0;34m(df)\u001b[0m\n\u001b[1;32m     21\u001b[0m     \u001b[0mfeatures\u001b[0m \u001b[0;34m=\u001b[0m \u001b[0;34m[\u001b[0m\u001b[0;34m'Cabin'\u001b[0m\u001b[0;34m,\u001b[0m \u001b[0;34m'Sex'\u001b[0m\u001b[0;34m,\u001b[0m \u001b[0;34m'Embarked'\u001b[0m\u001b[0;34m]\u001b[0m\u001b[0;34m\u001b[0m\u001b[0;34m\u001b[0m\u001b[0m\n\u001b[1;32m     22\u001b[0m     \u001b[0;32mfor\u001b[0m \u001b[0mfeature\u001b[0m \u001b[0;32min\u001b[0m \u001b[0mfeatures\u001b[0m\u001b[0;34m:\u001b[0m\u001b[0;34m\u001b[0m\u001b[0;34m\u001b[0m\u001b[0m\n\u001b[0;32m---> 23\u001b[0;31m         \u001b[0mle\u001b[0m \u001b[0;34m=\u001b[0m \u001b[0mLabelEncoder\u001b[0m\u001b[0;34m(\u001b[0m\u001b[0;34m)\u001b[0m\u001b[0;34m\u001b[0m\u001b[0;34m\u001b[0m\u001b[0m\n\u001b[0m\u001b[1;32m     24\u001b[0m         \u001b[0mle\u001b[0m\u001b[0;34m.\u001b[0m\u001b[0mfit\u001b[0m\u001b[0;34m(\u001b[0m\u001b[0mdf\u001b[0m\u001b[0;34m[\u001b[0m\u001b[0mfeature\u001b[0m\u001b[0;34m]\u001b[0m\u001b[0;34m)\u001b[0m\u001b[0;34m\u001b[0m\u001b[0;34m\u001b[0m\u001b[0m\n\u001b[1;32m     25\u001b[0m         \u001b[0mdf\u001b[0m\u001b[0;34m[\u001b[0m\u001b[0mfeature\u001b[0m\u001b[0;34m]\u001b[0m \u001b[0;34m=\u001b[0m \u001b[0mle\u001b[0m\u001b[0;34m.\u001b[0m\u001b[0mtransform\u001b[0m\u001b[0;34m(\u001b[0m\u001b[0mdf\u001b[0m\u001b[0;34m[\u001b[0m\u001b[0mfeature\u001b[0m\u001b[0;34m]\u001b[0m\u001b[0;34m)\u001b[0m\u001b[0;34m\u001b[0m\u001b[0;34m\u001b[0m\u001b[0m\n",
            "\u001b[0;31mNameError\u001b[0m: name 'LabelEncoder' is not defined"
          ]
        }
      ]
    },
    {
      "cell_type": "markdown",
      "source": [
        "- 위와 같은 단순한 알고리즘으로 예측을 하더라도 데이터 구성에 따라 정확도는 78%(저의 경우에는 61%)로 매우 높은 수치로 나올 수 있기 때문에 정확도를 평가지표로 사용할 때는 매우 신중해야 함.\n",
        "\n",
        "- 특히, 불균형한 레이블 값 분포에서 모델 성능을 판단할 경우에는 적합한 평가 지표가 아님\n",
        "\n",
        "- 가령, 100개의 데이터 중 90개의 레이블이 0, 10개의 레이블이 1인 경우에 무조건 0을 반환하는 모델을 만들면 정확도가 90%가 됨"
      ],
      "metadata": {
        "id": "5-PyG_p2Obyc"
      }
    },
    {
      "cell_type": "markdown",
      "source": [
        "**MNIST 데이터 세트를 변환하여 불균형한 데이터 세트를 만든 뒤 정확도 지표 적용시 어떤 문제가 발생할 수 있는지 살펴보기**\n",
        "- MNIST 데이터세트: 0부터 9까지의 숫자 이미지의 픽셀 정보를 가지고 있으며, 이를 기반으로 숫자 Digit을 예측하는데 사용\n",
        "1. 0부터 9까지의 멀티레이블이지만 True, 나머지는 False인 불균형한 데이터 세트로 변환\n",
        "2. 이후에 모든 데이터를 False(0)으로 예측하는 분류기를 만들어 정확도를 측정\n",
        "3. 결과적으로 아무것도 하지 않고, 특정 결과로만 결과를 반환해도 정확도가 높게 측정되어 모델 성능이 높게 나타나는 현상이 발생\n",
        "\n",
        "- 데이터 분포도가 균일하지 않은 경우 높은 수치가 나타날 수 있는 것이 정확도 평가 지표의 맹점"
      ],
      "metadata": {
        "id": "Blwh1IDIO1UE"
      }
    },
    {
      "cell_type": "code",
      "source": [
        "from sklearn.datasets import load_digits\n",
        "from sklearn.model_selection import train_test_split\n",
        "from sklearn.base import BaseEstimator\n",
        "from sklearn.metrics import accuracy_score\n",
        "import numpy as np\n",
        "import pandas as pd\n",
        "\n",
        "class MyFakeClassifier(BaseEstimator):\n",
        "  def fit(self, X, y):\n",
        "    pass\n",
        "\n",
        "# 입력값으로 들어오는 X데이터 세트의 크기만큼 모두 0값으로 만들어서 반환\n",
        "  def predict(self,X):\n",
        "    return np.zeros((len(X),1),dtype=bool)\n",
        "    \n",
        "# 사이킷런 내장 데이터세트 load_digits()를 이용해 MNIST 데이터 로딩\n",
        "digits = load_digits()\n",
        "\n",
        "# digits 번호가 7번이면 True, 이를 astype(int)로 1로 변환, 7번이 아니면 False고 0으로 변환\n",
        "y=(digits.target==7).astype(int)\n",
        "X_train,X_test,y_train,y_test=train_test_split(digits.data, y, random_state=11)\n",
        "\n",
        "# 불균형한 레이블 데이터 분포도 확인\n",
        "print('레이블 테스트 데이터 크기: ', y_test.shape)\n",
        "print('테스트 데이터 세트 레이블 0과 1의 분포도: ')\n",
        "print(pd.Series(y_test).value_counts())\n",
        "\n",
        "# FakeClassifier를 통해 학습/예측/정확도 평가\n",
        "fakeclf = MyFakeClassifier()\n",
        "fakeclf.fit(X_train, y_train)\n",
        "fake_pred = fakeclf.predict(X_test)\n",
        "print('모든 예측을 0으로 했을 때의 정확도: ', accuracy_score(y_test, fake_pred))"
      ],
      "metadata": {
        "colab": {
          "base_uri": "https://localhost:8080/"
        },
        "id": "ceCSs3u_OZTj",
        "outputId": "2cee4bc9-8917-478e-ec2e-e8700716f14b"
      },
      "execution_count": null,
      "outputs": [
        {
          "output_type": "stream",
          "name": "stdout",
          "text": [
            "레이블 테스트 데이터 크기:  (450,)\n",
            "테스트 데이터 세트 레이블 0과 1의 분포도: \n",
            "0    405\n",
            "1     45\n",
            "dtype: int64\n",
            "모든 예측을 0으로 했을 때의 정확도:  0.9\n"
          ]
        }
      ]
    },
    {
      "cell_type": "markdown",
      "source": [
        "- 단순히 모두 0값으로 반환했음에도 불구하고 예측정확도가 90%가 도출됨\n",
        "- 이처럼 정확도 평가 지표는 불균형한 레이블 데이터 세트에서는 성능 수치로 사용돼어서는 안됨\n",
        "- 이를 극복하기 위해 정확도는 여러 지표와 함께 적용되어야 함"
      ],
      "metadata": {
        "id": "91Oe4VA-S1ss"
      }
    },
    {
      "cell_type": "markdown",
      "source": [
        "##**2. 오차행렬**\n"
      ],
      "metadata": {
        "id": "ZkVk5pe2TmJs"
      }
    },
    {
      "cell_type": "markdown",
      "source": [
        "- 분류 문제에서 예측 오류가 얼마인지, 어떤 유형의 오류가 발생하고 있는지를 함께 나타내는 지표\n",
        "- 이진 분류에서 성능 지표로 잘 활용됨\n",
        "\n",
        "- 오차 행렬은 위와 같이 4분면 행렬로 구분되며 실제 레이블 클래스 값과 예측 레이블클래스 값이 어떻게 매핑되는지를 표현함\n",
        "\n",
        "- 예측된 클래스 값과 실제 클래스 값을 기준으로 TRUE, FALSE로 분류하며 TN, FP, FN, TP 의 행태로 값을 다양하게 분류해 모델 예측 성능의 오류가 어떠한 모습으로 발생하는지를 알 수 있음"
      ],
      "metadata": {
        "id": "s58PgAjRT8Y8"
      }
    },
    {
      "cell_type": "markdown",
      "source": [
        "*TN(TrueNegative)*: 실제 값이 Negative인데 예측 값도 Negative\n",
        "\n",
        "*FP(FalsePositive)* : 실제 값이 Negative인데 예측 값을 Positive\n",
        "\n",
        "*FN(FalseNegative)* : 실제 값이 Positive인데 예측 값을 Negative\n",
        "\n",
        "*TP(TruePositive)* : 실제 값이 Positive인데 예측 값도 Positive"
      ],
      "metadata": {
        "id": "LnWsVI-NXeKN"
      }
    },
    {
      "cell_type": "code",
      "source": [
        "# MyFakeClassifier의 예측 결과인 fakepred와 실제결과인 y_test를 confusion_matrix의 인자로 입력해서 출력\n",
        "from sklearn.metrics import confusion_matrix\n",
        "\n",
        "confusion_matrix(y_test, fake_pred)"
      ],
      "metadata": {
        "colab": {
          "base_uri": "https://localhost:8080/"
        },
        "id": "MqpJzzEfTl7O",
        "outputId": "8fa9ba19-d91d-41ab-99ea-3303a0d04074"
      },
      "execution_count": null,
      "outputs": [
        {
          "output_type": "execute_result",
          "data": {
            "text/plain": [
              "array([[405,   0],\n",
              "       [ 45,   0]])"
            ]
          },
          "metadata": {},
          "execution_count": 11
        }
      ]
    },
    {
      "cell_type": "markdown",
      "source": [
        "##**3. 정밀도와 재현율**"
      ],
      "metadata": {
        "id": "4RqjBU2Pz6jd"
      }
    },
    {
      "cell_type": "markdown",
      "source": [
        "- 정확도 = 예측 결과와 실제 값이 동일한 건수 / 전체 데이터수 = **(TN+TP)/(TN+FP+FN+TP)**\n",
        "- 정밀도 = 예측대상(Positive)을 정확히 예측한 수 / Positive로 예측한 데이터 수 =**TP/(FP+TP)**\n",
        "- 재현율 = 민감도/TPR(True Positive Rate) = Positive를 정확히 예측한 수 / 전체 Positive 데이터 수 = **TP/(FN+TP)**\n",
        "\n",
        "- 재현율은 실제 Pos 양성 데이터를 Neg로 잘못 판단하게 되면 업무상 큰 영향이 발생할 때 중요 지표가 된다\n",
        "- 정밀도는 실제 Neg 음성인 데이터 예측을 Pos 양성으로 잘못 판단하게 되었을 때 업무상 큰 영향이 발생할 때 중요 지표가 된다\n",
        "- 정밀도만 높거나 , 재현율만 높다고 좋은 것이 아님. 둘다 좋아야함\n",
        "- 사이킷런에서는 정밀도 계산을 위해 precision_score( ) , 재현율 계산을 위해 recall_score( ) 를 제공"
      ],
      "metadata": {
        "id": "xfIW6o0HbYW2"
      }
    },
    {
      "cell_type": "code",
      "source": [
        "# 사이킷런의 정확도(accuracy), 정밀도(precison), 재현율(recall), 오차행렬(confusion matrix)을 계산하는 recall_score() API 호출\n",
        "from sklearn.metrics import accuracy_score, recall_score, confusion_matrix, precision_score\n",
        "\n",
        "def get_clf_eval(y_test, pred):\n",
        "  confusion = confusion_matrix(y_test, pred)\n",
        "  accuracy = accuracy_score(y_test, pred)\n",
        "  precision = precision_score(y_test, pred)\n",
        "  recall = recall_score(y_test, pred)\n",
        "  print('오차행렬')\n",
        "  print(confusion)\n",
        "  print('정확도 : {:.4f}\\n정밀도 : {:.4f}\\n재현율 : {:.4f}'.format(accuracy, precision, recall))"
      ],
      "metadata": {
        "id": "N0hy6BEASp3A"
      },
      "execution_count": null,
      "outputs": []
    },
    {
      "cell_type": "code",
      "source": [
        "# 로지스틱 회귀 기반으로 타이타닉 생존자 예측 및 API 평가 수행\n",
        "from sklearn.linear_model import LogisticRegression\n",
        "from sklearn.preprocessing import LabelEncoder\n",
        "# Null 처리 함수\n",
        "def fillna(df):\n",
        "    df['Age'].fillna(df['Age'].mean(),inplace=True)\n",
        "    df['Cabin'].fillna('N',inplace=True)\n",
        "    df['Embarked'].fillna('N',inplace=True)\n",
        "    df['Fare'].fillna(0,inplace=True)\n",
        "    return df\n",
        "\n",
        "# 머신러닝 알고리즘에 불필요한 속성 제거\n",
        "def drop_features(df):\n",
        "    df.drop(['PassengerId','Name','Ticket'],axis=1,inplace=True)\n",
        "    return df\n",
        "\n",
        "# 레이블 인코딩 수행. \n",
        "def format_features(df):\n",
        "    df['Cabin'] = df['Cabin'].str[:1]\n",
        "    features = ['Cabin','Sex','Embarked']\n",
        "    for feature in features:\n",
        "        le = LabelEncoder()\n",
        "        le = le.fit(df[feature])\n",
        "        df[feature] = le.transform(df[feature])\n",
        "    return df\n",
        "\n",
        "# 앞에서 설정한 Data Preprocessing 함수 호출\n",
        "def transform_features(df):\n",
        "    df = fillna(df)\n",
        "    df = drop_features(df)\n",
        "    df = format_features(df)\n",
        "    return df\n",
        "\n",
        "#원본 데이터 재로딩, 데이터가공, 학습 데이터/테스트 데이터 분할\n",
        "titanic_df = pd.read_csv('/content/train.csv')\n",
        "y_titanic_df = titanic_df['Survived']\n",
        "X_titanic_df = titanic_df.drop('Survived', axis=1)\n",
        "X_titanic_df = transform_features(X_titanic_df)\n",
        "\n",
        "X_train, X_test, y_train, y_test = train_test_split(X_titanic_df, y_titanic_df, test_size = 0.2, random_state = 11)\n",
        "\n",
        "lr_clf = LogisticRegression()\n",
        "lr_clf.fit(X_train, y_train)\n",
        "pred = lr_clf.predict(X_test)\n",
        "get_clf_eval(y_test, pred)"
      ],
      "metadata": {
        "colab": {
          "base_uri": "https://localhost:8080/",
          "height": 358
        },
        "id": "7FCsCkM3oqTT",
        "outputId": "d86165d9-a42e-4e7e-a580-26c308d2e6e6"
      },
      "execution_count": null,
      "outputs": [
        {
          "output_type": "stream",
          "name": "stderr",
          "text": [
            "/usr/local/lib/python3.7/dist-packages/sklearn/linear_model/_logistic.py:818: ConvergenceWarning: lbfgs failed to converge (status=1):\n",
            "STOP: TOTAL NO. of ITERATIONS REACHED LIMIT.\n",
            "\n",
            "Increase the number of iterations (max_iter) or scale the data as shown in:\n",
            "    https://scikit-learn.org/stable/modules/preprocessing.html\n",
            "Please also refer to the documentation for alternative solver options:\n",
            "    https://scikit-learn.org/stable/modules/linear_model.html#logistic-regression\n",
            "  extra_warning_msg=_LOGISTIC_SOLVER_CONVERGENCE_MSG,\n"
          ]
        },
        {
          "output_type": "error",
          "ename": "NameError",
          "evalue": "ignored",
          "traceback": [
            "\u001b[0;31m---------------------------------------------------------------------------\u001b[0m",
            "\u001b[0;31mNameError\u001b[0m                                 Traceback (most recent call last)",
            "\u001b[0;32m<ipython-input-10-1f9d3197f4fe>\u001b[0m in \u001b[0;36m<module>\u001b[0;34m()\u001b[0m\n\u001b[1;32m     43\u001b[0m \u001b[0mlr_clf\u001b[0m\u001b[0;34m.\u001b[0m\u001b[0mfit\u001b[0m\u001b[0;34m(\u001b[0m\u001b[0mX_train\u001b[0m\u001b[0;34m,\u001b[0m \u001b[0my_train\u001b[0m\u001b[0;34m)\u001b[0m\u001b[0;34m\u001b[0m\u001b[0;34m\u001b[0m\u001b[0m\n\u001b[1;32m     44\u001b[0m \u001b[0mpred\u001b[0m \u001b[0;34m=\u001b[0m \u001b[0mlr_clf\u001b[0m\u001b[0;34m.\u001b[0m\u001b[0mpredict\u001b[0m\u001b[0;34m(\u001b[0m\u001b[0mX_test\u001b[0m\u001b[0;34m)\u001b[0m\u001b[0;34m\u001b[0m\u001b[0;34m\u001b[0m\u001b[0m\n\u001b[0;32m---> 45\u001b[0;31m \u001b[0mget_clf_eval\u001b[0m\u001b[0;34m(\u001b[0m\u001b[0my_test\u001b[0m\u001b[0;34m,\u001b[0m \u001b[0mpred\u001b[0m\u001b[0;34m)\u001b[0m\u001b[0;34m\u001b[0m\u001b[0;34m\u001b[0m\u001b[0m\n\u001b[0m",
            "\u001b[0;31mNameError\u001b[0m: name 'get_clf_eval' is not defined"
          ]
        }
      ]
    },
    {
      "cell_type": "markdown",
      "source": [
        "### 정밀도/재현율 트레이드 오프"
      ],
      "metadata": {
        "id": "-50seVagpI_a"
      }
    },
    {
      "cell_type": "markdown",
      "source": [
        "- 정밀도와 재현율은 상호보완적인 지표로 한쪽을 높이려고 하다보면 다른 한쪽이 떨어지기 쉬움\n",
        "- 사이킷런의 분류 알고리즘은 예측 데이터가 특정 레이블에 속하는지 판단하기 위해 개별 레이블별로 확률을 구하고, 그 확률이 큰 레이블 값으로 예측\n",
        "- 일반적으로는 임계값을 50%로 정하고 이보다 크면 Positive, 작으면 Negative로 결정\n",
        "- predict_proba( ) 를 통하여 개별 레이블별 예측확률을 반환받을 수 있음"
      ],
      "metadata": {
        "id": "LWda3n2RtNW8"
      }
    },
    {
      "cell_type": "code",
      "source": [
        "# 타이타닉  생존자 데이터에서 predict() 결과 값과 predict_proba() 결과 값을 비교\n",
        "pred_proba = lr_clf.predict_proba(X_test)\n",
        "pred = lr_clf.predict(X_test)\n",
        "\n",
        "print('pred_proba의 shape: {0}'.format(pred_proba.shape))\n",
        "print('pred_proba의 array에서 앞 3개만 샘플로 추출 :\\n', pred_proba[:3])\n",
        "\n",
        "#예측확률 array와 예측 결과값 array를 병합하여 예측확률과 결괏값을 한 번에 확인\n",
        "pred_proba_result = np.concatenate([pred_proba, pred.reshape(-1,1)], axis=1)\n",
        "print('두 개의 class 중 더 큰 확률을 클래스 값으로 예측\\n', pred_proba_result[:3])"
      ],
      "metadata": {
        "id": "QOTwCWcQorKR",
        "colab": {
          "base_uri": "https://localhost:8080/"
        },
        "outputId": "fcaf8e18-9b0c-4ec1-db13-bfd630533cfa"
      },
      "execution_count": null,
      "outputs": [
        {
          "output_type": "stream",
          "name": "stdout",
          "text": [
            "pred_proba의 shape: (179, 2)\n",
            "pred_proba의 array에서 앞 3개만 샘플로 추출 :\n",
            " [[0.46191519 0.53808481]\n",
            " [0.878675   0.121325  ]\n",
            " [0.87716185 0.12283815]]\n",
            "두 개의 class 중 더 큰 확률을 클래스 값으로 예측\n",
            " [[0.46191519 0.53808481 1.        ]\n",
            " [0.878675   0.121325   0.        ]\n",
            " [0.87716185 0.12283815 0.        ]]\n"
          ]
        }
      ]
    },
    {
      "cell_type": "markdown",
      "source": [
        "- 반환 결과인 ndarray는 0과 1에 대한 확률을 나타내므로 첫번째 컬럼과 두번째 컬럼의 합은 1\n",
        "\n",
        "- 그리고 두 확률 중 큰 값의 레이블 값으로 predict( ) 메서드가 최종 예측\n"
      ],
      "metadata": {
        "id": "XPi0pKu3jsSt"
      }
    },
    {
      "cell_type": "markdown",
      "source": [
        "- predict()는 predict_proba()에 기반하여 생성된 API, predict_proba() 호출결과로 반환된 배열에서 분류 결정 임계값보다 큰 값이 들어 있는 칼럼의 위치를 받아서 최종적으로 예측 클래스를 결정하는 API\n",
        "- 사이킷런은 분류 결정 임곗값을 조정해 정밀도와 재현율의 성능 수치를 상호 보완적으로 조정 가능"
      ],
      "metadata": {
        "id": "QAKJEd6Ik6Ba"
      }
    },
    {
      "cell_type": "code",
      "source": [
        "# 사이킷런 정밀도/재현율 트레이드 오프 구현 로직\n",
        "from sklearn.preprocessing import Binarizer\n",
        "X = [[1, -1, 2],\n",
        "     [2, 0, 0],\n",
        "     [0, 1.1, 1.2]]\n",
        "# X의 개별 원소들이 threshold 값보다 같거나 작으면 0을, 크다면 1을 반환\n",
        "binarizer = Binarizer(threshold=1.1)\n",
        "print(binarizer.fit_transform(X))"
      ],
      "metadata": {
        "colab": {
          "base_uri": "https://localhost:8080/"
        },
        "id": "lbTpZUW4l3Nk",
        "outputId": "8b7939e9-e6c6-4358-e140-6b5f6c1dccd7"
      },
      "execution_count": null,
      "outputs": [
        {
          "output_type": "stream",
          "name": "stdout",
          "text": [
            "[[0. 0. 1.]\n",
            " [1. 0. 0.]\n",
            " [0. 0. 1.]]\n"
          ]
        }
      ]
    },
    {
      "cell_type": "markdown",
      "source": [
        "- threshold 변수를 특정 값으로 설정하고 Binarizer 클래스를 객체로 생성"
      ],
      "metadata": {
        "id": "TSblrwDNmHZN"
      }
    },
    {
      "cell_type": "markdown",
      "source": [
        "- 위의 BInarizer을 이용해 predict()의 psedo 코드 생성\n",
        "- 임계값 변수를 0.5 와 0.4로 지정하여 최종 예측"
      ],
      "metadata": {
        "id": "qy4EN2Xgn3H6"
      }
    },
    {
      "cell_type": "code",
      "source": [
        "# Binarizer의 threshold 값을 0.5로 설정\n",
        "custom_threshold = 0.5\n",
        "\n",
        "# predict_proba() 결과 값의 두 번째 컬럼, 즉 Positive 클래스의 컬럼 하나만 추출하여 Binarizer를 적용\n",
        "pred_proba_1 = pred_proba[:,1].reshape(-1,1)\n",
        "\n",
        "binarizer = Binarizer(threshold=custom_threshold).fit(pred_proba_1)\n",
        "custom_predict = binarizer.transform(pred_proba_1)\n",
        "\n",
        "print(\"threshold 0.5:\")\n",
        "get_clf_eval(y_test, custom_predict)\n",
        "print(\"\\n\")\n",
        "\n",
        "# Binarizer의 threshold 값을 0.4로 설정\n",
        "custom_threshold = 0.4\n",
        "\n",
        "# predict_proba() 결과 값의 두 번째 컬럼, 즉 Positive 클래스의 컬럼 하나만 추출하여 Binarizer를 적용\n",
        "pred_proba_1 = pred_proba[:,1].reshape(-1,1)\n",
        "\n",
        "binarizer = Binarizer(threshold=custom_threshold).fit(pred_proba_1)\n",
        "custom_predict = binarizer.transform(pred_proba_1)\n",
        "print(\"threshold 0.4:\")\n",
        "get_clf_eval(y_test, custom_predict)"
      ],
      "metadata": {
        "colab": {
          "base_uri": "https://localhost:8080/"
        },
        "id": "hNVYI5SQoUA9",
        "outputId": "38dd5d35-f982-47d5-856e-1091799b9d04"
      },
      "execution_count": null,
      "outputs": [
        {
          "output_type": "stream",
          "name": "stdout",
          "text": [
            "threshold 0.5:\n",
            "오차행렬\n",
            "[[104  14]\n",
            " [ 13  48]]\n",
            "정확도 : 0.8492\n",
            "정밀도 : 0.7742\n",
            "재현율 : 0.7869\n",
            "\n",
            "\n",
            "threshold 0.4:\n",
            "오차행렬\n",
            "[[98 20]\n",
            " [10 51]]\n",
            "정확도 : 0.8324\n",
            "정밀도 : 0.7183\n",
            "재현율 : 0.8361\n"
          ]
        }
      ]
    },
    {
      "cell_type": "markdown",
      "source": [
        "- 임계값을 0.5->0.4로 낮추자 재현율이 올라가고 정밀도가 떨어짐\n",
        "- 임곗값을 낮출수록 예측을 더 느슨하게 하여 True값이 많아짐\n",
        "(분류 결정 임곗값은 Positive 예측값을 결정하는 확률의 기준이 됨)\n",
        "- 임계값을 높일수록 정밀도는 같이 높아지나, 재현율은 낮아짐(양성 예측을 많이 하다보니 실제 양성을 음성으로 예측하는 횟수가 상대적으로 줄어들기 때문에)\n",
        " "
      ],
      "metadata": {
        "id": "n_iDIg8fsZaY"
      }
    },
    {
      "cell_type": "code",
      "source": [
        "# 임계값\n",
        "thresholds = [0.4, 0.45, 0.5, 0.55, 0.6]\n",
        "\n",
        "# 평가지표를 조사하기 위한 새로운 함수 생성\n",
        "def get_eval_by_threshold(y_test, pred_proba_c1, thresholds):\n",
        "    #thresholds list 객체 내의 값을 iteration 하면서 평가 수행\n",
        "    for custom_threshold in thresholds:\n",
        "        binarizer = Binarizer(threshold=custom_threshold).fit(pred_proba_c1)\n",
        "        custom_predict = binarizer.transform(pred_proba_c1)\n",
        "        print('\\n임계값: ', custom_threshold)\n",
        "        get_clf_eval(y_test, custom_predict)\n",
        "\n",
        "get_eval_by_threshold(y_test, pred_proba[:,1].reshape(-1, 1), thresholds)"
      ],
      "metadata": {
        "colab": {
          "base_uri": "https://localhost:8080/"
        },
        "id": "0fGHJmmDtxz7",
        "outputId": "b6c82e83-8b20-4f2d-eac7-12bd4e4d2505"
      },
      "execution_count": null,
      "outputs": [
        {
          "output_type": "stream",
          "name": "stdout",
          "text": [
            "\n",
            "임계값:  0.4\n",
            "오차행렬\n",
            "[[98 20]\n",
            " [10 51]]\n",
            "정확도 : 0.8324\n",
            "정밀도 : 0.7183\n",
            "재현율 : 0.8361\n",
            "\n",
            "임계값:  0.45\n",
            "오차행렬\n",
            "[[103  15]\n",
            " [ 12  49]]\n",
            "정확도 : 0.8492\n",
            "정밀도 : 0.7656\n",
            "재현율 : 0.8033\n",
            "\n",
            "임계값:  0.5\n",
            "오차행렬\n",
            "[[104  14]\n",
            " [ 13  48]]\n",
            "정확도 : 0.8492\n",
            "정밀도 : 0.7742\n",
            "재현율 : 0.7869\n",
            "\n",
            "임계값:  0.55\n",
            "오차행렬\n",
            "[[109   9]\n",
            " [ 15  46]]\n",
            "정확도 : 0.8659\n",
            "정밀도 : 0.8364\n",
            "재현율 : 0.7541\n",
            "\n",
            "임계값:  0.6\n",
            "오차행렬\n",
            "[[112   6]\n",
            " [ 16  45]]\n",
            "정확도 : 0.8771\n",
            "정밀도 : 0.8824\n",
            "재현율 : 0.7377\n"
          ]
        }
      ]
    },
    {
      "cell_type": "markdown",
      "source": [
        "- **precision_recall_curve(실제 클래스 값, 예측 확률 값)** : 임계값 변화에 따른 평가 지표 값을 반환하는 API\n",
        "- 반환 값 : 정밀도 - 임계값별 정밀도 값을 배열으로 반환, 재현율 - 임계값별 재현율 값을 배열으로 반환"
      ],
      "metadata": {
        "id": "35UhibThvP_X"
      }
    },
    {
      "cell_type": "code",
      "source": [
        "# 임계값이 낮아질수록 정밀도는 높아지지만 재현율이 낮아지는 precision_recall_curve\n",
        "from sklearn.metrics import precision_recall_curve\n",
        "\n",
        "# 레이블 값이 1일 떄의 예측확률을 추출\n",
        "pred_proba_class1 = lr_clf.predict_proba(X_test)[ : , 1]\n",
        "\n",
        "# 실제값 데이터 세트와 레이블 값이 1일 때 예측확률을 precision_recall_curve의 인자로 반환\n",
        "precisions, recalls, thresholds = precision_recall_curve(y_test, pred_proba_class1)\n",
        "print('반환된 분류 결정 임계값 배열의 shape: ', thresholds.shape)\n",
        "\n",
        "# 반환된 임계값 배열 로우가 147건 이므로 샘플로 10건만 추출하되, 임계값을 15 Step으로 추출\n",
        "thr_index = np.arange(0, thresholds.shape[0], 15)\n",
        "print('샘플 추출을 위한 임계값 배열의 index 10개: ', thr_index)\n",
        "print('샘플용 10개의 임계값: ', np.round(thresholds[thr_index], 2))\n",
        "\n",
        "# 15 step 단위로 추출된 임계값에 따른 정밀도와 재현율 값\n",
        "print('샘플 임계값별 정밀도 : ', np.round(precisions[thr_index], 3))\n",
        "print('샘플 임계값별 재현율 : ', np.round(recalls[thr_index], 3))"
      ],
      "metadata": {
        "colab": {
          "base_uri": "https://localhost:8080/"
        },
        "id": "vHpeEdGWsaVI",
        "outputId": "8efa4ef4-e56d-429b-c124-36a949a555da"
      },
      "execution_count": null,
      "outputs": [
        {
          "output_type": "stream",
          "name": "stdout",
          "text": [
            "반환된 분류 결정 임계값 배열의 shape:  (143,)\n",
            "샘플 추출을 위한 임계값 배열의 index 10개:  [  0  15  30  45  60  75  90 105 120 135]\n",
            "샘플용 10개의 임계값:  [0.1  0.12 0.14 0.19 0.28 0.4  0.56 0.67 0.82 0.95]\n",
            "샘플 임계값별 정밀도 :  [0.389 0.44  0.466 0.539 0.647 0.729 0.836 0.949 0.958 1.   ]\n",
            "샘플 임계값별 재현율 :  [1.    0.967 0.902 0.902 0.902 0.836 0.754 0.607 0.377 0.148]\n"
          ]
        }
      ]
    },
    {
      "cell_type": "markdown",
      "source": [
        "- precision_recall_curve()는 정밀도와 재현율의 임곗값에 따른 값 변화를 곡선 형태 그래프로 시각화하는데 쓰일 수있음"
      ],
      "metadata": {
        "id": "ftsFJ40QtxNq"
      }
    },
    {
      "cell_type": "code",
      "source": [
        "# API를 이용한 정밀도와 재현율 곡선 시각화\n",
        "import matplotlib.pyplot as plt\n",
        "import matplotlib.ticker as ticker\n",
        "%matplotlib inline\n",
        "\n",
        "def precision_recall_curve_plot(y_test, pred_proba_c1):\n",
        "    # threshold ndarray와 이 threshold에 따른 정밀도, 재현율 ndarray 추출\n",
        "    precisions, recalls, thresholds = precision_recall_curve(y_test, pred_proba_c1)\n",
        "    \n",
        "# 정밀도는 점선으로, 재현율은 실선으로 표현\n",
        "\n",
        "    # x축을 threshold 값, y축을 정밀도, 재현율로 그리기\n",
        "    plt.figure(figsize=(8,6))\n",
        "    thresholds_boundary = thresholds.shape[0]\n",
        "    plt.plot(thresholds, precisions[0: thresholds_boundary], linestyle= '--', label='precision')\n",
        "    plt.plot(thresholds, recalls[0: thresholds_boundary], label='recall')\n",
        "    \n",
        "    # threshold의 값 X축의 scale을 0.1 단위로 변경\n",
        "    stard, end = plt.xlim()\n",
        "    plt.xticks(np.round(np.arange(stard, end, 0.1), 2))\n",
        "    \n",
        "    # x축, y축 label과 legend, 그리고 grid 설정\n",
        "    plt.xlabel('Threshold value')\n",
        "    plt.ylabel('Precision and Recall value')\n",
        "    plt.legend()\n",
        "    plt.grid()\n",
        "    plt.show()\n",
        "\n",
        "precision_recall_curve_plot(y_test, lr_clf.predict_proba(X_test)[:,1])"
      ],
      "metadata": {
        "colab": {
          "base_uri": "https://localhost:8080/",
          "height": 388
        },
        "id": "FDGX4zi-vYZZ",
        "outputId": "cc22fa21-475c-442c-a1c2-f8b82ee73f2d"
      },
      "execution_count": null,
      "outputs": [
        {
          "output_type": "display_data",
          "data": {
            "text/plain": [
              "<Figure size 576x432 with 1 Axes>"
            ],
            "image/png": "[encoded data removed]"
          },
          "metadata": {
            "needs_background": "light"
          }
        }
      ]
    },
    {
      "cell_type": "markdown",
      "source": [
        "- 임계값이 낮을수록 많은 수의 양성예측으로 인해 재현율 값이 극도로 높아지고 정밀도 값이 낮아짐"
      ],
      "metadata": {
        "id": "MyrTym7bxIno"
      }
    },
    {
      "cell_type": "markdown",
      "source": [
        "### 정밀도와 재현율의 맹점"
      ],
      "metadata": {
        "id": "vLz2o7J_xVDD"
      }
    },
    {
      "cell_type": "markdown",
      "source": [
        "- Positive예측의 임곗값을 변경함에 따라 정밀도와 재현율의 수치가 변경됨. \n",
        "- 임곗값의 이러한 변경은 업무 환경에 맞게 두 개의 수치를 상호 보완할 수 있는 수준에서 적용돼야 함(단순히 하나의 성능 지표 수치를 높이기 위한 수단으로 사용돼서는 안됨) \n",
        "- 다음은 정밀도 또는 재현율 평가 지표 수치 중 하나를 극단적으로 높이는 방법(쓸모는 없음)\n",
        "\n",
        "1. 정밀도가 100%가 되는 방법: 확실한 기준이 되는 경우만 Positive로 예측하고 나머지는 모두 Negative로 예측.\n",
        "\n",
        "2. 재현율이 100%가 되는 방법: 모든 data를 Positive로 예측"
      ],
      "metadata": {
        "id": "uYeANkDnx9YF"
      }
    },
    {
      "cell_type": "markdown",
      "source": [
        "##**4. F1 스코어**\n",
        "\n",
        "\n"
      ],
      "metadata": {
        "id": "57bk1CIkyVzl"
      }
    },
    {
      "cell_type": "markdown",
      "source": [
        "- 정밀도와 재현율을 결합한 지표, 재현율/정밀도가 어느 한쪽으로 치우치지 않을때 상대적으로 높은 값을 가짐\n",
        "- F1 = 2/((1/recall)+(1/precision)) = 2*((precision*recall)/(precision+recall))\n",
        "- Ex) \n",
        "-- 1) A:0.1, B:0.9 => 0.18 \n",
        "-- 2) A:0.5, B:0.5 => 0.5 // 2)이 더 우수"
      ],
      "metadata": {
        "id": "rwpJ4ld00Lcg"
      }
    },
    {
      "cell_type": "markdown",
      "source": [
        "- **f1_score()**: F1 스코어를 구하기위한 API\n",
        "- **get_clf_eval(y_test,pred)**: 측정지표 출력함수"
      ],
      "metadata": {
        "id": "IzREKCM-2AWM"
      }
    },
    {
      "cell_type": "code",
      "source": [
        "# f1_score() 구현\n",
        "from sklearn.metrics import f1_score\n",
        "f1 = f1_score(y_test, pred)\n",
        "print('F1 스코어 : {:.4f}'.format(f1))\n",
        "\n",
        "# 타이타닉 생존자 예측에서 임계값을 변화시키며 F1 스코어, 정밀도, 재현율 구하기\n",
        "def get_clf_eval(y_test, pred):\n",
        "    confusion = confusion_matrix(y_test, pred)\n",
        "    accuracy = accuracy_score(y_test, pred)\n",
        "    precision = precision_score(y_test, pred)\n",
        "    recall = recall_score(y_test, pred)\n",
        "    # F1 스코어 추가\n",
        "    f1 = f1_score(y_test, pred)\n",
        "    print('오차행렬')\n",
        "    print(confusion)\n",
        "    # F1 score print 추가\n",
        "    print('\\n정확도: {:.4f}\\n정밀도: {:.4f}\\n재현율: {:.4f}\\nF1: {:.4f}'.format(accuracy, precision, recall, f1))\n",
        "    \n",
        "thresholds = [0.4, 0.45, 0.5, 0.55, 0.6]\n",
        "pred_proba = lr_clf.predict_proba(X_test)\n",
        "get_eval_by_threshold(y_test, pred_proba[:,1].reshape(-1, 1), thresholds)"
      ],
      "metadata": {
        "colab": {
          "base_uri": "https://localhost:8080/"
        },
        "id": "jt3D-hQYxcB9",
        "outputId": "26c49a3c-a5b7-4d8d-a3b2-32aee1665c8e"
      },
      "execution_count": null,
      "outputs": [
        {
          "output_type": "stream",
          "name": "stdout",
          "text": [
            "F1 스코어 : 0.7805\n",
            "\n",
            "임계값:  0.4\n",
            "오차행렬\n",
            "[[98 20]\n",
            " [10 51]]\n",
            "\n",
            "정확도: 0.8324\n",
            "정밀도: 0.7183\n",
            "재현율: 0.8361\n",
            "F1: 0.7727\n",
            "\n",
            "임계값:  0.45\n",
            "오차행렬\n",
            "[[103  15]\n",
            " [ 12  49]]\n",
            "\n",
            "정확도: 0.8492\n",
            "정밀도: 0.7656\n",
            "재현율: 0.8033\n",
            "F1: 0.7840\n",
            "\n",
            "임계값:  0.5\n",
            "오차행렬\n",
            "[[104  14]\n",
            " [ 13  48]]\n",
            "\n",
            "정확도: 0.8492\n",
            "정밀도: 0.7742\n",
            "재현율: 0.7869\n",
            "F1: 0.7805\n",
            "\n",
            "임계값:  0.55\n",
            "오차행렬\n",
            "[[109   9]\n",
            " [ 15  46]]\n",
            "\n",
            "정확도: 0.8659\n",
            "정밀도: 0.8364\n",
            "재현율: 0.7541\n",
            "F1: 0.7931\n",
            "\n",
            "임계값:  0.6\n",
            "오차행렬\n",
            "[[112   6]\n",
            " [ 16  45]]\n",
            "\n",
            "정확도: 0.8771\n",
            "정밀도: 0.8824\n",
            "재현율: 0.7377\n",
            "F1: 0.8036\n"
          ]
        }
      ]
    },
    {
      "cell_type": "markdown",
      "source": [
        "- F1 스코어는 임곗값이 0.6일 때 가장 좋은 값 출력(but 재현율 크게감소)"
      ],
      "metadata": {
        "id": "HkLNr4Ys3E3X"
      }
    },
    {
      "cell_type": "markdown",
      "source": [
        "##**5. ROC 곡선과 AUC**"
      ],
      "metadata": {
        "id": "74Gq9B5F3iBN"
      }
    },
    {
      "cell_type": "markdown",
      "source": [
        "- ROC곡선: 수신자 판단 곡선,이진 분류 모델 예측 성능 파악에 중요 평가 지표\n",
        "- FPR(False Positive Rate)이 변할 때 TPR(True Positive Rate, 재현율(=민감도))이 어떻게 변하는지를 나타냄\n",
        "\n",
        "- FPR을 x축으로 TPR을 Y축으로 잡으면 FPR 변화에 따른 TPR 변화가 곡선형태로 나타남"
      ],
      "metadata": {
        "id": "5WDE0ubn3lza"
      }
    },
    {
      "cell_type": "markdown",
      "source": [
        "- TPR = TP/(FN+TP)\n",
        "- TNR(True Negativ Rate): (=특이성) 민감도에 대응되는 지표이다\n",
        "- TNR = TN/(FP+TN)\n",
        "- FPR = FP/(FP+TN) = (1-TNR)(=1-특이성)"
      ],
      "metadata": {
        "id": "pyo1YM-k4xka"
      }
    },
    {
      "cell_type": "markdown",
      "source": [
        "![머신러닝 3장.PNG](data:image/png;base64,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)\n",
        "- 위의 그림은 ROC 곡선의 예시(직선은 ROC 곡선의 최저 값)\n",
        "\n",
        "- 가운데 직선은 동전을 무작위로 던져 앞/뒤를 맞추는 랜덤 수준의 이진 분류 ROC 직선\n",
        "- 곡선이 가운데 직선에 가까울 수록 성능이 떨어지는 것이며 멀어질수록 성능이 뛰어난 것\n",
        "- ROC 곡선은 FPR을 0부터 1까지 변경하면서 TPR의 변화 값을 구함\n",
        "\n",
        "- 분류결정 임계값을 변경함으로써 FPR을 변화시킴('임계값=1'이면 Negative 값을 Positive로 예측하지 않고 FPR이 0이됨, 반대로 임계값을 낮출수록 FPR이 올라감)"
      ],
      "metadata": {
        "id": "6RXlhqvf5bKv"
      }
    },
    {
      "cell_type": "markdown",
      "source": [
        "- **roc_curve()**: ROC곡선을 구하는 API\n",
        "- precision_recall_curve() API와 사용법이 유사\n",
        "\n",
        "- 입력파라미터\n",
        "1. y_true: 실제 클래스 값 array\n",
        "2. y_score: predict_proba()의 반환 값 array에서 positive칼럼의 예측 확률이 보통 사용됨. array\n",
        " \n",
        "-반환값\n",
        "1. fpr: fpr값을 array로 반환\n",
        "2. tpr: tpr값을 array로 반환\n",
        "3. thresholds: threshold값을 array로 반환"
      ],
      "metadata": {
        "id": "tSq-qm4h6ifo"
      }
    },
    {
      "cell_type": "code",
      "source": [
        "# 타이타닉 생존자 예측모델의 FPR, TPR 임곗값 구하기\n",
        "from sklearn.metrics import roc_curve\n",
        "\n",
        "# 레이블 값이 1일 때 예측 확률을 추출\n",
        "pred_proba_class1 = lr_clf.predict_proba(X_test)[:,1]\n",
        "\n",
        "fprs, tprs, thresholds = roc_curve(y_test, pred_proba_class1)\n",
        "# 반환된 임계값 배열 로우가 47건이므로 샘플로 10건만 추출하되 임계값을 5step으로 추출\n",
        "thr_index = np.arange(1, thresholds.shape[0], 5)\n",
        "print('샘플 추출을 위한 임계값 배열의 index 10개: ', thr_index)\n",
        "print('샘플용 10개의 임계값: ', np.round(thresholds[thr_index], 2))\n",
        "\n",
        "# 5 step으로 추출된 임계값에 따른 FPR, TPR 값\n",
        "print('샘플 임계값별 FPR: ', np.round(fprs[thr_index], 3))\n",
        "print('샘플 임계값별 TPR: ', np.round(tprs[thr_index], 3))\n"
      ],
      "metadata": {
        "colab": {
          "base_uri": "https://localhost:8080/"
        },
        "id": "ajyTl_f-xT6O",
        "outputId": "9cc25f8d-781f-4bc4-e5fb-8d21f631d18f"
      },
      "execution_count": null,
      "outputs": [
        {
          "output_type": "stream",
          "name": "stdout",
          "text": [
            "샘플 추출을 위한 임계값 배열의 index 10개:  [ 1  6 11 16 21 26 31 36 41 46 51]\n",
            "샘플용 10개의 임계값:  [0.97 0.65 0.63 0.56 0.45 0.4  0.35 0.15 0.13 0.11 0.11]\n",
            "샘플 임계값별 FPR:  [0.    0.017 0.034 0.076 0.127 0.169 0.203 0.466 0.585 0.686 0.797]\n",
            "샘플 임계값별 TPR:  [0.033 0.639 0.721 0.754 0.803 0.836 0.885 0.902 0.934 0.967 0.984]\n"
          ]
        }
      ]
    },
    {
      "cell_type": "markdown",
      "source": [
        "- roc_curve( ) 의 결과값을 보면 임계값이 1에 가까운 값에서 점점 작아지면서 FPR이 점점 커짐\n",
        "- FPR이 조금씩 커질 때 FPR은 가파르게 커짐"
      ],
      "metadata": {
        "id": "X34M_2yW7iGA"
      }
    },
    {
      "cell_type": "code",
      "source": [
        "# ROC: FPR 변화에 따른 TPR 변화\n",
        "# ROC 곡선의 시각화\n",
        "def roc_curve_plot(y_test, pred_proba_c1):\n",
        "    #임계값에 따른 FPR, TPR 값을반환 받음\n",
        "    fprs, tprs, thresholds  = roc_curve(y_test, pred_proba_c1)\n",
        "    # ROC곡선을 그래프로 그림\n",
        "    plt.plot(fprs, tprs, label='ROC')\n",
        "    # 가운데 대각선 직선을 그림\n",
        "    plt.plot([0,1], [0,1], 'k--', label='Random')\n",
        "    \n",
        "    # FPR X축의 Scale을 0.1 단위로 변경, X, Y축 명 설정 등\n",
        "    start, end = plt.xlim()\n",
        "    plt.xticks(np.round(np.arange(start, end, 0.1), 2))\n",
        "    plt.xlim(0, 1)\n",
        "    plt.ylim(0, 1)\n",
        "    plt.xlabel('FPR(1-Sensitivity)')\n",
        "    plt.ylabel('TPR(Recall)')\n",
        "    plt.legend()\n",
        "    \n",
        "roc_curve_plot(y_test, pred_proba[:, 1])"
      ],
      "metadata": {
        "colab": {
          "base_uri": "https://localhost:8080/",
          "height": 283
        },
        "id": "poM3z-4g95mV",
        "outputId": "d6458ff9-51bb-4eaa-8224-e0844945dd6c"
      },
      "execution_count": null,
      "outputs": [
        {
          "output_type": "display_data",
          "data": {
            "text/plain": [
              "<Figure size 432x288 with 1 Axes>"
            ],
            "image/png": "[encoded data removed]"
          },
          "metadata": {
            "needs_background": "light"
          }
        }
      ]
    },
    {
      "cell_type": "markdown",
      "source": [
        "- 일반적으로 ROC 곡선 자체는 FPR과 TPR의 변화 값을 보는데 이용하여 분류의 성능지표로는 ROC면적에 기반한 AUC 값으로 결정\n",
        "\n",
        "- AUC(Area Under Curve) : 곡선 밑의 면적 값으로 1에 가까울 수록 좋은 수치, 대각선 직선일 때 0.5"
      ],
      "metadata": {
        "id": "bC2BOH5U7mwo"
      }
    },
    {
      "cell_type": "code",
      "source": [
        "# 타이타닉 로지스틱 회귀모델 AUC값 구하기\n",
        "from sklearn.metrics import roc_auc_score\n",
        "\n",
        "pred = lr_clf.predict(X_test)\n",
        "roc_score = roc_auc_score(y_test, pred)\n",
        "print('ROC AUC 값 : {:.4f}'.format(roc_score))"
      ],
      "metadata": {
        "colab": {
          "base_uri": "https://localhost:8080/"
        },
        "id": "Kt35ymsh_o_p",
        "outputId": "b8e63b2f-c139-4963-ab1e-548e00081d54"
      },
      "execution_count": null,
      "outputs": [
        {
          "output_type": "stream",
          "name": "stdout",
          "text": [
            "ROC AUC 값 : 0.8341\n"
          ]
        }
      ]
    },
    {
      "cell_type": "markdown",
      "source": [
        "- 평가지표 출력함수인 get_clf_eval()에 roc_acu_score()을 이용해 ROC AUC 값 측정 로직 추가\n",
        "- ROC AUC는 예측 확률값을 기반으로 계산되므로 get_clf_eval()을 get_clf_eval(y_test, pred=None, pred_proba=None)으로 함수형 변경"
      ],
      "metadata": {
        "id": "qCnpUvKoA8k9"
      }
    },
    {
      "cell_type": "code",
      "source": [
        "# get_clf_eval()로 정확도,정밀도,재현율,F1스코어에 **ROC AUC 값** 출력하기\n",
        "def get_clf_eval(y_test,pred=None,pred_proba=None):\n",
        "  confusion = confusion_matrix(y_test, pred)\n",
        "  accuracy_score(y_test, pred)\n",
        "  precision = precision_score(y_test, pred)\n",
        "  recall = recall_score(y_test, pred)\n",
        "  f1 = f1_score(y_test,pred)\n",
        "  #ROC-AUC 추가\n",
        "  print('정확도:{0:4f}, 정밀도: {1:4f}, 재현율: {2: 4f},\\\n",
        "        F1:{3:.4f},AUC:{4:.4f}'.format(accuracy,precision,recall,f1,roc_auc))"
      ],
      "metadata": {
        "id": "0x0t9S6RA4iG"
      },
      "execution_count": null,
      "outputs": []
    },
    {
      "cell_type": "markdown",
      "source": [
        "##**6.피마 인디언 당뇨병 예측**\n"
      ],
      "metadata": {
        "id": "oQGmgQrzET24"
      }
    },
    {
      "cell_type": "code",
      "source": [
        "# 라이브러리 구현\n",
        "import pandas as pd\n",
        "import numpy as np\n",
        "import matplotlib.pyplot as plt\n",
        "%matplotlib inline\n",
        "\n",
        "from sklearn.model_selection import train_test_split\n",
        "from sklearn.metrics import accuracy_score, precision_score, recall_score, roc_auc_score\n",
        "from sklearn.metrics import f1_score, confusion_matrix, precision_recall_curve, roc_curve\n",
        "from sklearn.preprocessing import StandardScaler, Binarizer\n",
        "from sklearn.linear_model import LogisticRegression\n",
        "from google.colab import drive\n",
        "drive.mount('/content/drive/')\n",
        "import warnings\n",
        "warnings.filterwarnings('ignore')"
      ],
      "metadata": {
        "colab": {
          "base_uri": "https://localhost:8080/"
        },
        "id": "mqzmp359EwZj",
        "outputId": "8be2cca9-a0f4-4116-cbd0-d723d29d3fe5"
      },
      "execution_count": null,
      "outputs": [
        {
          "output_type": "stream",
          "name": "stdout",
          "text": [
            "Drive already mounted at /content/drive/; to attempt to forcibly remount, call drive.mount(\"/content/drive/\", force_remount=True).\n"
          ]
        }
      ]
    },
    {
      "cell_type": "code",
      "source": [
        "diabetes_data = pd.read_csv('/content/drive/MyDrive/diabetes.csv')\n",
        "print(diabetes_data['Outcome'].value_counts())\n",
        "diabetes_data.head(3)"
      ],
      "metadata": {
        "colab": {
          "base_uri": "https://localhost:8080/",
          "height": 199
        },
        "id": "0YEAA1KCFcJ1",
        "outputId": "937e9bad-5878-484b-abf9-3bdd2e366d56"
      },
      "execution_count": null,
      "outputs": [
        {
          "output_type": "stream",
          "name": "stdout",
          "text": [
            "0    500\n",
            "1    268\n",
            "Name: Outcome, dtype: int64\n"
          ]
        },
        {
          "output_type": "execute_result",
          "data": {
            "text/plain": [
              "   Pregnancies  Glucose  BloodPressure  SkinThickness  Insulin   BMI  \\\n",
              "0            6      148             72             35        0  33.6   \n",
              "1            1       85             66             29        0  26.6   \n",
              "2            8      183             64              0        0  23.3   \n",
              "\n",
              "   DiabetesPedigreeFunction  Age  Outcome  \n",
              "0                     0.627   50        1  \n",
              "1                     0.351   31        0  \n",
              "2                     0.672   32        1  "
            ],
            "text/html": [
              "\n",
              "  <div id=\"df-614d4904-95b9-42c1-9dea-0d103394c20f\">\n",
              "    <div class=\"colab-df-container\">\n",
              "      <div>\n",
              "<style scoped>\n",
              "    .dataframe tbody tr th:only-of-type {\n",
              "        vertical-align: middle;\n",
              "    }\n",
              "\n",
              "    .dataframe tbody tr th {\n",
              "        vertical-align: top;\n",
              "    }\n",
              "\n",
              "    .dataframe thead th {\n",
              "        text-align: right;\n",
              "    }\n",
              "</style>\n",
              "<table border=\"1\" class=\"dataframe\">\n",
              "  <thead>\n",
              "    <tr style=\"text-align: right;\">\n",
              "      <th></th>\n",
              "      <th>Pregnancies</th>\n",
              "      <th>Glucose</th>\n",
              "      <th>BloodPressure</th>\n",
              "      <th>SkinThickness</th>\n",
              "      <th>Insulin</th>\n",
              "      <th>BMI</th>\n",
              "      <th>DiabetesPedigreeFunction</th>\n",
              "      <th>Age</th>\n",
              "      <th>Outcome</th>\n",
              "    </tr>\n",
              "  </thead>\n",
              "  <tbody>\n",
              "    <tr>\n",
              "      <th>0</th>\n",
              "      <td>6</td>\n",
              "      <td>148</td>\n",
              "      <td>72</td>\n",
              "      <td>35</td>\n",
              "      <td>0</td>\n",
              "      <td>33.6</td>\n",
              "      <td>0.627</td>\n",
              "      <td>50</td>\n",
              "      <td>1</td>\n",
              "    </tr>\n",
              "    <tr>\n",
              "      <th>1</th>\n",
              "      <td>1</td>\n",
              "      <td>85</td>\n",
              "      <td>66</td>\n",
              "      <td>29</td>\n",
              "      <td>0</td>\n",
              "      <td>26.6</td>\n",
              "      <td>0.351</td>\n",
              "      <td>31</td>\n",
              "      <td>0</td>\n",
              "    </tr>\n",
              "    <tr>\n",
              "      <th>2</th>\n",
              "      <td>8</td>\n",
              "      <td>183</td>\n",
              "      <td>64</td>\n",
              "      <td>0</td>\n",
              "      <td>0</td>\n",
              "      <td>23.3</td>\n",
              "      <td>0.672</td>\n",
              "      <td>32</td>\n",
              "      <td>1</td>\n",
              "    </tr>\n",
              "  </tbody>\n",
              "</table>\n",
              "</div>\n",
              "      <button class=\"colab-df-convert\" onclick=\"convertToInteractive('df-614d4904-95b9-42c1-9dea-0d103394c20f')\"\n",
              "              title=\"Convert this dataframe to an interactive table.\"\n",
              "              style=\"display:none;\">\n",
              "        \n",
              "  <svg xmlns=\"http://www.w3.org/2000/svg\" height=\"24px\"viewBox=\"0 0 24 24\"\n",
              "       width=\"24px\">\n",
              "    <path d=\"M0 0h24v24H0V0z\" fill=\"none\"/>\n",
              "    <path d=\"M18.56 5.44l.94 2.06.94-2.06 2.06-.94-2.06-.94-.94-2.06-.94 2.06-2.06.94zm-11 1L8.5 8.5l.94-2.06 2.06-.94-2.06-.94L8.5 2.5l-.94 2.06-2.06.94zm10 10l.94 2.06.94-2.06 2.06-.94-2.06-.94-.94-2.06-.94 2.06-2.06.94z\"/><path d=\"M17.41 7.96l-1.37-1.37c-.4-.4-.92-.59-1.43-.59-.52 0-1.04.2-1.43.59L10.3 9.45l-7.72 7.72c-.78.78-.78 2.05 0 2.83L4 21.41c.39.39.9.59 1.41.59.51 0 1.02-.2 1.41-.59l7.78-7.78 2.81-2.81c.8-.78.8-2.07 0-2.86zM5.41 20L4 18.59l7.72-7.72 1.47 1.35L5.41 20z\"/>\n",
              "  </svg>\n",
              "      </button>\n",
              "      \n",
              "  <style>\n",
              "    .colab-df-container {\n",
              "      display:flex;\n",
              "      flex-wrap:wrap;\n",
              "      gap: 12px;\n",
              "    }\n",
              "\n",
              "    .colab-df-convert {\n",
              "      background-color: #E8F0FE;\n",
              "      border: none;\n",
              "      border-radius: 50%;\n",
              "      cursor: pointer;\n",
              "      display: none;\n",
              "      fill: #1967D2;\n",
              "      height: 32px;\n",
              "      padding: 0 0 0 0;\n",
              "      width: 32px;\n",
              "    }\n",
              "\n",
              "    .colab-df-convert:hover {\n",
              "      background-color: #E2EBFA;\n",
              "      box-shadow: 0px 1px 2px rgba(60, 64, 67, 0.3), 0px 1px 3px 1px rgba(60, 64, 67, 0.15);\n",
              "      fill: #174EA6;\n",
              "    }\n",
              "\n",
              "    [theme=dark] .colab-df-convert {\n",
              "      background-color: #3B4455;\n",
              "      fill: #D2E3FC;\n",
              "    }\n",
              "\n",
              "    [theme=dark] .colab-df-convert:hover {\n",
              "      background-color: #434B5C;\n",
              "      box-shadow: 0px 1px 3px 1px rgba(0, 0, 0, 0.15);\n",
              "      filter: drop-shadow(0px 1px 2px rgba(0, 0, 0, 0.3));\n",
              "      fill: #FFFFFF;\n",
              "    }\n",
              "  </style>\n",
              "\n",
              "      <script>\n",
              "        const buttonEl =\n",
              "          document.querySelector('#df-614d4904-95b9-42c1-9dea-0d103394c20f button.colab-df-convert');\n",
              "        buttonEl.style.display =\n",
              "          google.colab.kernel.accessAllowed ? 'block' : 'none';\n",
              "\n",
              "        async function convertToInteractive(key) {\n",
              "          const element = document.querySelector('#df-614d4904-95b9-42c1-9dea-0d103394c20f');\n",
              "          const dataTable =\n",
              "            await google.colab.kernel.invokeFunction('convertToInteractive',\n",
              "                                                     [key], {});\n",
              "          if (!dataTable) return;\n",
              "\n",
              "          const docLinkHtml = 'Like what you see? Visit the ' +\n",
              "            '<a target=\"_blank\" href=https://colab.research.google.com/notebooks/data_table.ipynb>data table notebook</a>'\n",
              "            + ' to learn more about interactive tables.';\n",
              "          element.innerHTML = '';\n",
              "          dataTable['output_type'] = 'display_data';\n",
              "          await google.colab.output.renderOutput(dataTable, element);\n",
              "          const docLink = document.createElement('div');\n",
              "          docLink.innerHTML = docLinkHtml;\n",
              "          element.appendChild(docLink);\n",
              "        }\n",
              "      </script>\n",
              "    </div>\n",
              "  </div>\n",
              "  "
            ]
          },
          "metadata": {},
          "execution_count": 4
        }
      ]
    },
    {
      "cell_type": "markdown",
      "source": [
        "\n",
        "- 네거티브: 500\n",
        "- 파지티브: 268"
      ],
      "metadata": {
        "id": "9dybm-sYEaYO"
      }
    },
    {
      "cell_type": "code",
      "source": [
        "diabetes_data.info()"
      ],
      "metadata": {
        "colab": {
          "base_uri": "https://localhost:8080/"
        },
        "id": "Z03NAXvMI8l_",
        "outputId": "ef594e5e-1eb1-4f93-fbb3-131d34463491"
      },
      "execution_count": null,
      "outputs": [
        {
          "output_type": "stream",
          "name": "stdout",
          "text": [
            "<class 'pandas.core.frame.DataFrame'>\n",
            "RangeIndex: 768 entries, 0 to 767\n",
            "Data columns (total 9 columns):\n",
            " #   Column                    Non-Null Count  Dtype  \n",
            "---  ------                    --------------  -----  \n",
            " 0   Pregnancies               768 non-null    int64  \n",
            " 1   Glucose                   768 non-null    int64  \n",
            " 2   BloodPressure             768 non-null    int64  \n",
            " 3   SkinThickness             768 non-null    int64  \n",
            " 4   Insulin                   768 non-null    int64  \n",
            " 5   BMI                       768 non-null    float64\n",
            " 6   DiabetesPedigreeFunction  768 non-null    float64\n",
            " 7   Age                       768 non-null    int64  \n",
            " 8   Outcome                   768 non-null    int64  \n",
            "dtypes: float64(2), int64(7)\n",
            "memory usage: 54.1 KB\n"
          ]
        }
      ]
    },
    {
      "cell_type": "markdown",
      "source": [
        "- Null값은 없음, 피처 타입은 모두 int or float(Null 값과 문자열 처리를 위한 별도의 작업은 필요하지 않음)"
      ],
      "metadata": {
        "id": "-4jPa8TkJCy2"
      }
    },
    {
      "cell_type": "markdown",
      "source": [
        "### Q2.(질문은 아니고 연습하기)\n",
        "- get_clf_eval() 구현법 익히기\n",
        "- precision_recall_curve_plot() 구현법익히기"
      ],
      "metadata": {
        "id": "8V8bjba5O35L"
      }
    },
    {
      "cell_type": "code",
      "source": [
        "# 1. get_clf_eval()로 정확도,정밀도,재현율,F1스코어 출력하기\n",
        "def get_clf_eval(y_test, y_pred):\n",
        "    confusion = confusion_matrix(y_test, y_pred)\n",
        "    accuracy = accuracy_score(y_test, y_pred)\n",
        "    precision = precision_score(y_test, y_pred)\n",
        "    recall = recall_score(y_test, y_pred)\n",
        "    F1 = f1_score(y_test, y_pred)\n",
        "    AUC = roc_auc_score(y_test, y_pred)\n",
        "    \n",
        "    print('오차행렬:\\n', confusion)\n",
        "    print('\\n정확도: {:.4f}'.format(accuracy))\n",
        "    print('정밀도: {:.4f}'.format(precision))\n",
        "    print('재현율: {:.4f}'.format(recall))\n",
        "    print('F1: {:.4f}'.format(F1))\n",
        "    print('AUC: {:.4f}'.format(AUC))\n",
        "\n",
        "# Precision-Recall Curve Plot 그리기\n",
        "def precision_recall_curve_plot(y_test, pred_proba):\n",
        "    # threshold ndarray와 이 threshold에 따른 정밀도, 재현율 ndarray 추출\n",
        "    precisions, recalls, thresholds = precision_recall_curve(y_test, pred_proba)\n",
        "    \n",
        "    # x축을 threshold, y축을 정밀도, 재현율로 그래프 그리기\n",
        "    plt.figure(figsize=(8, 6))\n",
        "    thresholds_boundary = thresholds.shape[0]\n",
        "    plt.plot(thresholds, precisions[:thresholds_boundary], linestyle='--', label='precision')\n",
        "    plt.plot(thresholds, recalls[:thresholds_boundary], linestyle=':', label='recall')\n",
        "    \n",
        "    # threshold의 값 X축의 scale을 0.1 단위로 변경\n",
        "    stard, end = plt.xlim()\n",
        "    plt.xticks(np.round(np.arange(stard, end, 0.1), 2))\n",
        "    \n",
        "    plt.xlim()\n",
        "    plt.xlabel('thresholds')\n",
        "    plt.ylabel('precision & recall value')\n",
        "    plt.legend()\n",
        "    plt.grid()\n",
        "\n",
        "# 피쳐 데이터 세트 X, 레이블 데이터 세트 y 를 추출\n",
        "X = diabetes_data.iloc[:,:-1]\n",
        "y = diabetes_data['Outcome']\n",
        "\n",
        "# 데이터를 훈련과 테스트 데이터 셋으로 분리\n",
        "X_train, X_test, y_train, y_test = train_test_split(X, y, test_size = 0.2, random_state = 156, stratify=y)\n",
        "\n",
        "# 로지스틱 회귀로 학습, 예측 및 평가 수행\n",
        "lr_clf = LogisticRegression()\n",
        "lr_clf.fit(X_train, y_train)\n",
        "pred = lr_clf.predict(X_test)\n",
        "get_clf_eval(y_test, pred)"
      ],
      "metadata": {
        "colab": {
          "base_uri": "https://localhost:8080/"
        },
        "id": "M2OMSUeiJCH1",
        "outputId": "863d5b1c-b5bc-4407-bcff-f4d7579511fa"
      },
      "execution_count": null,
      "outputs": [
        {
          "output_type": "stream",
          "name": "stdout",
          "text": [
            "오차행렬:\n",
            " [[88 12]\n",
            " [23 31]]\n",
            "\n",
            "정확도: 0.7727\n",
            "정밀도: 0.7209\n",
            "재현율: 0.5741\n",
            "F1: 0.6392\n",
            "AUC: 0.7270\n"
          ]
        }
      ]
    },
    {
      "cell_type": "code",
      "source": [
        "# 피처값 분포도 확인\n",
        "diabetes_data.describe()"
      ],
      "metadata": {
        "colab": {
          "base_uri": "https://localhost:8080/",
          "height": 300
        },
        "id": "gixtzRVzODwT",
        "outputId": "4eb83a75-7af5-4a13-852b-538f92f0401c"
      },
      "execution_count": null,
      "outputs": [
        {
          "output_type": "execute_result",
          "data": {
            "text/plain": [
              "       Pregnancies     Glucose  BloodPressure  SkinThickness     Insulin  \\\n",
              "count   768.000000  768.000000     768.000000     768.000000  768.000000   \n",
              "mean      3.845052  120.894531      69.105469      20.536458   79.799479   \n",
              "std       3.369578   31.972618      19.355807      15.952218  115.244002   \n",
              "min       0.000000    0.000000       0.000000       0.000000    0.000000   \n",
              "25%       1.000000   99.000000      62.000000       0.000000    0.000000   \n",
              "50%       3.000000  117.000000      72.000000      23.000000   30.500000   \n",
              "75%       6.000000  140.250000      80.000000      32.000000  127.250000   \n",
              "max      17.000000  199.000000     122.000000      99.000000  846.000000   \n",
              "\n",
              "              BMI  DiabetesPedigreeFunction         Age     Outcome  \n",
              "count  768.000000                768.000000  768.000000  768.000000  \n",
              "mean    31.992578                  0.471876   33.240885    0.348958  \n",
              "std      7.884160                  0.331329   11.760232    0.476951  \n",
              "min      0.000000                  0.078000   21.000000    0.000000  \n",
              "25%     27.300000                  0.243750   24.000000    0.000000  \n",
              "50%     32.000000                  0.372500   29.000000    0.000000  \n",
              "75%     36.600000                  0.626250   41.000000    1.000000  \n",
              "max     67.100000                  2.420000   81.000000    1.000000  "
            ],
            "text/html": [
              "\n",
              "  <div id=\"df-ce9b934f-916d-41b8-911b-4391acbe4817\">\n",
              "    <div class=\"colab-df-container\">\n",
              "      <div>\n",
              "<style scoped>\n",
              "    .dataframe tbody tr th:only-of-type {\n",
              "        vertical-align: middle;\n",
              "    }\n",
              "\n",
              "    .dataframe tbody tr th {\n",
              "        vertical-align: top;\n",
              "    }\n",
              "\n",
              "    .dataframe thead th {\n",
              "        text-align: right;\n",
              "    }\n",
              "</style>\n",
              "<table border=\"1\" class=\"dataframe\">\n",
              "  <thead>\n",
              "    <tr style=\"text-align: right;\">\n",
              "      <th></th>\n",
              "      <th>Pregnancies</th>\n",
              "      <th>Glucose</th>\n",
              "      <th>BloodPressure</th>\n",
              "      <th>SkinThickness</th>\n",
              "      <th>Insulin</th>\n",
              "      <th>BMI</th>\n",
              "      <th>DiabetesPedigreeFunction</th>\n",
              "      <th>Age</th>\n",
              "      <th>Outcome</th>\n",
              "    </tr>\n",
              "  </thead>\n",
              "  <tbody>\n",
              "    <tr>\n",
              "      <th>count</th>\n",
              "      <td>768.000000</td>\n",
              "      <td>768.000000</td>\n",
              "      <td>768.000000</td>\n",
              "      <td>768.000000</td>\n",
              "      <td>768.000000</td>\n",
              "      <td>768.000000</td>\n",
              "      <td>768.000000</td>\n",
              "      <td>768.000000</td>\n",
              "      <td>768.000000</td>\n",
              "    </tr>\n",
              "    <tr>\n",
              "      <th>mean</th>\n",
              "      <td>3.845052</td>\n",
              "      <td>120.894531</td>\n",
              "      <td>69.105469</td>\n",
              "      <td>20.536458</td>\n",
              "      <td>79.799479</td>\n",
              "      <td>31.992578</td>\n",
              "      <td>0.471876</td>\n",
              "      <td>33.240885</td>\n",
              "      <td>0.348958</td>\n",
              "    </tr>\n",
              "    <tr>\n",
              "      <th>std</th>\n",
              "      <td>3.369578</td>\n",
              "      <td>31.972618</td>\n",
              "      <td>19.355807</td>\n",
              "      <td>15.952218</td>\n",
              "      <td>115.244002</td>\n",
              "      <td>7.884160</td>\n",
              "      <td>0.331329</td>\n",
              "      <td>11.760232</td>\n",
              "      <td>0.476951</td>\n",
              "    </tr>\n",
              "    <tr>\n",
              "      <th>min</th>\n",
              "      <td>0.000000</td>\n",
              "      <td>0.000000</td>\n",
              "      <td>0.000000</td>\n",
              "      <td>0.000000</td>\n",
              "      <td>0.000000</td>\n",
              "      <td>0.000000</td>\n",
              "      <td>0.078000</td>\n",
              "      <td>21.000000</td>\n",
              "      <td>0.000000</td>\n",
              "    </tr>\n",
              "    <tr>\n",
              "      <th>25%</th>\n",
              "      <td>1.000000</td>\n",
              "      <td>99.000000</td>\n",
              "      <td>62.000000</td>\n",
              "      <td>0.000000</td>\n",
              "      <td>0.000000</td>\n",
              "      <td>27.300000</td>\n",
              "      <td>0.243750</td>\n",
              "      <td>24.000000</td>\n",
              "      <td>0.000000</td>\n",
              "    </tr>\n",
              "    <tr>\n",
              "      <th>50%</th>\n",
              "      <td>3.000000</td>\n",
              "      <td>117.000000</td>\n",
              "      <td>72.000000</td>\n",
              "      <td>23.000000</td>\n",
              "      <td>30.500000</td>\n",
              "      <td>32.000000</td>\n",
              "      <td>0.372500</td>\n",
              "      <td>29.000000</td>\n",
              "      <td>0.000000</td>\n",
              "    </tr>\n",
              "    <tr>\n",
              "      <th>75%</th>\n",
              "      <td>6.000000</td>\n",
              "      <td>140.250000</td>\n",
              "      <td>80.000000</td>\n",
              "      <td>32.000000</td>\n",
              "      <td>127.250000</td>\n",
              "      <td>36.600000</td>\n",
              "      <td>0.626250</td>\n",
              "      <td>41.000000</td>\n",
              "      <td>1.000000</td>\n",
              "    </tr>\n",
              "    <tr>\n",
              "      <th>max</th>\n",
              "      <td>17.000000</td>\n",
              "      <td>199.000000</td>\n",
              "      <td>122.000000</td>\n",
              "      <td>99.000000</td>\n",
              "      <td>846.000000</td>\n",
              "      <td>67.100000</td>\n",
              "      <td>2.420000</td>\n",
              "      <td>81.000000</td>\n",
              "      <td>1.000000</td>\n",
              "    </tr>\n",
              "  </tbody>\n",
              "</table>\n",
              "</div>\n",
              "      <button class=\"colab-df-convert\" onclick=\"convertToInteractive('df-ce9b934f-916d-41b8-911b-4391acbe4817')\"\n",
              "              title=\"Convert this dataframe to an interactive table.\"\n",
              "              style=\"display:none;\">\n",
              "        \n",
              "  <svg xmlns=\"http://www.w3.org/2000/svg\" height=\"24px\"viewBox=\"0 0 24 24\"\n",
              "       width=\"24px\">\n",
              "    <path d=\"M0 0h24v24H0V0z\" fill=\"none\"/>\n",
              "    <path d=\"M18.56 5.44l.94 2.06.94-2.06 2.06-.94-2.06-.94-.94-2.06-.94 2.06-2.06.94zm-11 1L8.5 8.5l.94-2.06 2.06-.94-2.06-.94L8.5 2.5l-.94 2.06-2.06.94zm10 10l.94 2.06.94-2.06 2.06-.94-2.06-.94-.94-2.06-.94 2.06-2.06.94z\"/><path d=\"M17.41 7.96l-1.37-1.37c-.4-.4-.92-.59-1.43-.59-.52 0-1.04.2-1.43.59L10.3 9.45l-7.72 7.72c-.78.78-.78 2.05 0 2.83L4 21.41c.39.39.9.59 1.41.59.51 0 1.02-.2 1.41-.59l7.78-7.78 2.81-2.81c.8-.78.8-2.07 0-2.86zM5.41 20L4 18.59l7.72-7.72 1.47 1.35L5.41 20z\"/>\n",
              "  </svg>\n",
              "      </button>\n",
              "      \n",
              "  <style>\n",
              "    .colab-df-container {\n",
              "      display:flex;\n",
              "      flex-wrap:wrap;\n",
              "      gap: 12px;\n",
              "    }\n",
              "\n",
              "    .colab-df-convert {\n",
              "      background-color: #E8F0FE;\n",
              "      border: none;\n",
              "      border-radius: 50%;\n",
              "      cursor: pointer;\n",
              "      display: none;\n",
              "      fill: #1967D2;\n",
              "      height: 32px;\n",
              "      padding: 0 0 0 0;\n",
              "      width: 32px;\n",
              "    }\n",
              "\n",
              "    .colab-df-convert:hover {\n",
              "      background-color: #E2EBFA;\n",
              "      box-shadow: 0px 1px 2px rgba(60, 64, 67, 0.3), 0px 1px 3px 1px rgba(60, 64, 67, 0.15);\n",
              "      fill: #174EA6;\n",
              "    }\n",
              "\n",
              "    [theme=dark] .colab-df-convert {\n",
              "      background-color: #3B4455;\n",
              "      fill: #D2E3FC;\n",
              "    }\n",
              "\n",
              "    [theme=dark] .colab-df-convert:hover {\n",
              "      background-color: #434B5C;\n",
              "      box-shadow: 0px 1px 3px 1px rgba(0, 0, 0, 0.15);\n",
              "      filter: drop-shadow(0px 1px 2px rgba(0, 0, 0, 0.3));\n",
              "      fill: #FFFFFF;\n",
              "    }\n",
              "  </style>\n",
              "\n",
              "      <script>\n",
              "        const buttonEl =\n",
              "          document.querySelector('#df-ce9b934f-916d-41b8-911b-4391acbe4817 button.colab-df-convert');\n",
              "        buttonEl.style.display =\n",
              "          google.colab.kernel.accessAllowed ? 'block' : 'none';\n",
              "\n",
              "        async function convertToInteractive(key) {\n",
              "          const element = document.querySelector('#df-ce9b934f-916d-41b8-911b-4391acbe4817');\n",
              "          const dataTable =\n",
              "            await google.colab.kernel.invokeFunction('convertToInteractive',\n",
              "                                                     [key], {});\n",
              "          if (!dataTable) return;\n",
              "\n",
              "          const docLinkHtml = 'Like what you see? Visit the ' +\n",
              "            '<a target=\"_blank\" href=https://colab.research.google.com/notebooks/data_table.ipynb>data table notebook</a>'\n",
              "            + ' to learn more about interactive tables.';\n",
              "          element.innerHTML = '';\n",
              "          dataTable['output_type'] = 'display_data';\n",
              "          await google.colab.output.renderOutput(dataTable, element);\n",
              "          const docLink = document.createElement('div');\n",
              "          docLink.innerHTML = docLinkHtml;\n",
              "          element.appendChild(docLink);\n",
              "        }\n",
              "      </script>\n",
              "    </div>\n",
              "  </div>\n",
              "  "
            ]
          },
          "metadata": {},
          "execution_count": 7
        }
      ]
    },
    {
      "cell_type": "markdown",
      "source": [
        "- describe(): DataFrame 데이터값의 분포도 점검\n",
        "- 위 경우에 분포도를 보면 min()이 0값으로 되어있는 피처가 많다(glucose(포도당)이 0이 되면 안됨)"
      ],
      "metadata": {
        "id": "emwvH1fcOhFZ"
      }
    },
    {
      "cell_type": "code",
      "source": [
        "plt.hist(diabetes_data['Glucose'],bins=10)"
      ],
      "metadata": {
        "id": "XngJqA4fOfn4",
        "colab": {
          "base_uri": "https://localhost:8080/",
          "height": 338
        },
        "outputId": "221cdc4e-94bd-48ab-b3ea-dccfa6c00846"
      },
      "execution_count": null,
      "outputs": [
        {
          "output_type": "execute_result",
          "data": {
            "text/plain": [
              "(array([  5.,   0.,   4.,  32., 156., 211., 163.,  95.,  56.,  46.]),\n",
              " array([  0. ,  19.9,  39.8,  59.7,  79.6,  99.5, 119.4, 139.3, 159.2,\n",
              "        179.1, 199. ]),\n",
              " <a list of 10 Patch objects>)"
            ]
          },
          "metadata": {},
          "execution_count": 8
        },
        {
          "output_type": "display_data",
          "data": {
            "text/plain": [
              "<Figure size 432x288 with 1 Axes>"
            ],
            "image/png": "[encoded data removed]"
          },
          "metadata": {
            "needs_background": "light"
          }
        }
      ]
    },
    {
      "cell_type": "code",
      "source": [
        "plt.hist(diabetes_data['Insulin'],bins=10)"
      ],
      "metadata": {
        "colab": {
          "base_uri": "https://localhost:8080/",
          "height": 338
        },
        "id": "U5JmpqGBfyqy",
        "outputId": "6a68ddc8-d709-4197-9800-362b8f4e6ce0"
      },
      "execution_count": null,
      "outputs": [
        {
          "output_type": "execute_result",
          "data": {
            "text/plain": [
              "(array([487., 155.,  70.,  30.,   8.,   9.,   5.,   1.,   2.,   1.]),\n",
              " array([  0. ,  84.6, 169.2, 253.8, 338.4, 423. , 507.6, 592.2, 676.8,\n",
              "        761.4, 846. ]),\n",
              " <a list of 10 Patch objects>)"
            ]
          },
          "metadata": {},
          "execution_count": 13
        },
        {
          "output_type": "display_data",
          "data": {
            "text/plain": [
              "<Figure size 432x288 with 1 Axes>"
            ],
            "image/png": "[encoded data removed]"
          },
          "metadata": {
            "needs_background": "light"
          }
        }
      ]
    },
    {
      "cell_type": "markdown",
      "source": [
        "- min() 값이 0으로 되어 있는 피처가 전체 대이터 건수 대비 몇 퍼센트인지 파악하기"
      ],
      "metadata": {
        "id": "urnAGiBBdZt3"
      }
    },
    {
      "cell_type": "code",
      "source": [
        "# 0값을 검사할 피처 명 리스트\n",
        "zero_features = ['Glucose', 'BloodPressure', 'SkinThickness','Insulin','BMI']\n",
        "\n",
        "# 전체 데이터 건수 세기\n",
        "total_count = diabetes_data['Glucose'].count()\n",
        "\n",
        "# 피처별 반복으로 데이터 값이 0인 데이터 건수를 추출 후 퍼센트 계산\n",
        "for feature in zero_features:\n",
        "  zero_count = diabetes_data[diabetes_data[feature] == 0][feature].count()\n",
        "  print('{0} 0 건수는 {1}, 퍼센트는{2:2f}%'.format(feature, zero_count, 100*zero_count/total_count))"
      ],
      "metadata": {
        "colab": {
          "base_uri": "https://localhost:8080/"
        },
        "id": "5WdrggMvdqk-",
        "outputId": "6beb3c2a-1d32-49fd-90c7-21ee3e05ea43"
      },
      "execution_count": null,
      "outputs": [
        {
          "output_type": "stream",
          "name": "stdout",
          "text": [
            "Glucose 0 건수는 5, 퍼센트는0.651042%\n",
            "BloodPressure 0 건수는 35, 퍼센트는4.557292%\n",
            "SkinThickness 0 건수는 227, 퍼센트는29.557292%\n",
            "Insulin 0 건수는 374, 퍼센트는48.697917%\n",
            "BMI 0 건수는 11, 퍼센트는1.432292%\n"
          ]
        }
      ]
    },
    {
      "cell_type": "markdown",
      "source": [
        "- SkinThickness, Insulin의 0값 비율이 높음(데이터를 일괄 삭제할 경우 학습이 어려울 수 있음)\n",
        "- 0 피처값을 평균값으로 대체 필요"
      ],
      "metadata": {
        "id": "C1SJoQgre1us"
      }
    },
    {
      "cell_type": "code",
      "source": [
        "# zero_features 리스트 내부에 저장된 개별 피처들에 대해 0값을 평균값으로 대체\n",
        "mean_zero_features = diabetes_data[zero_features].mean()\n",
        "diabetes_data[zero_features]=diabetes_data[zero_features].replace(0, mean_zero_features)"
      ],
      "metadata": {
        "id": "VwSqT1Ace03N"
      },
      "execution_count": null,
      "outputs": []
    },
    {
      "cell_type": "markdown",
      "source": [
        "- 0 => 평균값으로 대체한 데이터 세트에 피처 스케일링 적용"
      ],
      "metadata": {
        "id": "jro-5iKlgG5J"
      }
    },
    {
      "cell_type": "code",
      "source": [
        "# 데이터 세트에 대해 피처 스케일링을 적용하여 변환하기(로지스틱 회귀의 경우, 숫자 데이터에 스케일링을 적용하는 것이 일반적으로 성능이 좋음)\n",
        "X = diabetes_data.iloc[:, :-1]\n",
        "y = diabetes_data.iloc[:, -1]\n",
        "\n",
        "# StandardScaler 클래스를 상용하여 데이터 세트에 스케일링 적용\n",
        "scaler = StandardScaler()\n",
        "X_scaled = scaler.fit_transform(X)\n",
        "\n",
        "X_train, X_test, y_train, y_test = train_test_split(X_scaled, y, test_size = 0.2, random_state=156, stratify = y)\n",
        "\n",
        "# 로지스틱 회귀로 학습, 예측, 평가 수행\n",
        "lr_clf = LogisticRegression()\n",
        "lr_clf.fit(X_train,  y_train)\n",
        "pred = lr_clf.predict(X_test)\n",
        "get_clf_eval(y_test, pred)"
      ],
      "metadata": {
        "colab": {
          "base_uri": "https://localhost:8080/"
        },
        "id": "hVSuZnezgKDQ",
        "outputId": "e88c980c-d142-407a-99fc-bca60fdcf571"
      },
      "execution_count": null,
      "outputs": [
        {
          "output_type": "stream",
          "name": "stdout",
          "text": [
            "오차행렬:\n",
            " [[90 10]\n",
            " [21 33]]\n",
            "\n",
            "정확도: 0.7987\n",
            "정밀도: 0.7674\n",
            "재현율: 0.6111\n",
            "F1: 0.6804\n",
            "AUC: 0.7556\n"
          ]
        }
      ]
    },
    {
      "cell_type": "markdown",
      "source": [
        "- 데이터 변환과 스케일링을 통해 성능 수치 소폭 향상\n",
        "- 재현율 수치가 여전히 낮으므로 개선 필요 => get_eval_by_threshold()로 임곗값 높여주기"
      ],
      "metadata": {
        "id": "x47IQ7cjgmOi"
      }
    },
    {
      "cell_type": "markdown",
      "source": [
        "###**Q3 평가지표 조사 함수 연습**\n",
        "- arrange() 왜 이상하게 되는가"
      ],
      "metadata": {
        "id": "miJf5EuqheIA"
      }
    },
    {
      "cell_type": "code",
      "source": [
        "import numpy as np\n",
        "# 평가지표를 조사하기 위한 새로운 함수 생성\n",
        "def get_eval_by_threshold(y_test, pred_proba_c1, thresholds):\n",
        "    #thresholds list 객체 내의 값을 iteration 하면서 평가 수행\n",
        "    for custom_threshold in thresholds:\n",
        "        binarizer = Binarizer(threshold=custom_threshold).fit(pred_proba_c1)\n",
        "        custom_predict = binarizer.transform(pred_proba_c1)\n",
        "        print('\\n임계값: ', custom_threshold)\n",
        "        get_clf_eval(y_test, custom_predict)\n",
        "\n",
        "thresholds = np.arange(0.3,0.5,0.03)\n",
        "pred_proba = lr_clf.predict_proba(X_test)\n",
        "get_eval_by_threshold(y_test, pred_proba[:, 1].reshape(-1, 1), thresholds)"
      ],
      "metadata": {
        "colab": {
          "base_uri": "https://localhost:8080/"
        },
        "id": "VhfdILbThADJ",
        "outputId": "aff60d42-e189-41bc-cefb-7c2e6738ee4d"
      },
      "execution_count": null,
      "outputs": [
        {
          "output_type": "stream",
          "name": "stdout",
          "text": [
            "\n",
            "임계값:  0.3\n",
            "오차행렬:\n",
            " [[67 33]\n",
            " [11 43]]\n",
            "\n",
            "정확도: 0.7143\n",
            "정밀도: 0.5658\n",
            "재현율: 0.7963\n",
            "F1: 0.6615\n",
            "AUC: 0.7331\n",
            "\n",
            "임계값:  0.32999999999999996\n",
            "오차행렬:\n",
            " [[72 28]\n",
            " [12 42]]\n",
            "\n",
            "정확도: 0.7403\n",
            "정밀도: 0.6000\n",
            "재현율: 0.7778\n",
            "F1: 0.6774\n",
            "AUC: 0.7489\n",
            "\n",
            "임계값:  0.35999999999999993\n",
            "오차행렬:\n",
            " [[76 24]\n",
            " [15 39]]\n",
            "\n",
            "정확도: 0.7468\n",
            "정밀도: 0.6190\n",
            "재현율: 0.7222\n",
            "F1: 0.6667\n",
            "AUC: 0.7411\n",
            "\n",
            "임계값:  0.3899999999999999\n",
            "오차행렬:\n",
            " [[78 22]\n",
            " [16 38]]\n",
            "\n",
            "정확도: 0.7532\n",
            "정밀도: 0.6333\n",
            "재현율: 0.7037\n",
            "F1: 0.6667\n",
            "AUC: 0.7419\n",
            "\n",
            "임계값:  0.4199999999999999\n",
            "오차행렬:\n",
            " [[84 16]\n",
            " [18 36]]\n",
            "\n",
            "정확도: 0.7792\n",
            "정밀도: 0.6923\n",
            "재현율: 0.6667\n",
            "F1: 0.6792\n",
            "AUC: 0.7533\n",
            "\n",
            "임계값:  0.44999999999999984\n",
            "오차행렬:\n",
            " [[85 15]\n",
            " [18 36]]\n",
            "\n",
            "정확도: 0.7857\n",
            "정밀도: 0.7059\n",
            "재현율: 0.6667\n",
            "F1: 0.6857\n",
            "AUC: 0.7583\n",
            "\n",
            "임계값:  0.4799999999999998\n",
            "오차행렬:\n",
            " [[88 12]\n",
            " [19 35]]\n",
            "\n",
            "정확도: 0.7987\n",
            "정밀도: 0.7447\n",
            "재현율: 0.6481\n",
            "F1: 0.6931\n",
            "AUC: 0.7641\n"
          ]
        }
      ]
    },
    {
      "cell_type": "markdown",
      "source": [
        "- 정확도, 정밀도, 재현율, F1, AUC 등의 평가 지표를 보고 적절히 판단하여 임계값을 재 설정하여 예측을 수행할 수 있음"
      ],
      "metadata": {
        "id": "gW3tL1oEjKsD"
      }
    },
    {
      "cell_type": "code",
      "source": [
        "# 임계값을 0.48로 설정하여 예측 수행\n",
        "binarizer = Binarizer(threshold=0.48)\n",
        "\n",
        "# 위에서 구한 predict_proba() 예측확률의 array에서 1에 해당하는 컬럼 값을 대입하여 Binarizer 반환하기\n",
        "pred_th_048 = binarizer.fit_transform(pred_proba[:, 1].reshape(-1, 1))\n",
        "\n",
        "get_clf_eval(y_test, pred_th_048)"
      ],
      "metadata": {
        "colab": {
          "base_uri": "https://localhost:8080/"
        },
        "id": "OjgauuDljRLr",
        "outputId": "05d334b7-d484-4884-e161-10c17285d464"
      },
      "execution_count": null,
      "outputs": [
        {
          "output_type": "stream",
          "name": "stdout",
          "text": [
            "오차행렬:\n",
            " [[88 12]\n",
            " [19 35]]\n",
            "\n",
            "정확도: 0.7987\n",
            "정밀도: 0.7447\n",
            "재현율: 0.6481\n",
            "F1: 0.6931\n",
            "AUC: 0.7641\n"
          ]
        }
      ]
    }
  ]
}